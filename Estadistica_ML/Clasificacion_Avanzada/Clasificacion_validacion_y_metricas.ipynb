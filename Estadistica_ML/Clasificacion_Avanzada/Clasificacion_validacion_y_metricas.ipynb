{
  "cells": [
    {
      "cell_type": "markdown",
      "metadata": {
        "id": "MCqTDybk4ShK"
      },
      "source": [
        "# <font color='dark'>**Clasificación: Validación de modelos y métricas de evaluación**</h1>"
      ]
    },
    {
      "cell_type": "markdown",
      "metadata": {
        "id": "WscU3KG7a9No"
      },
      "source": [
        "### Proyecto\n",
        "\n",
        "Una empresa de financiamiento de automóviles está atravesando una situación complicada, con una alta demanda para una flota reducida de vehículos y un alto número de morosos, lo que está generando grandes pérdidas para la empresa.\n",
        "\n",
        "Nosotros fuimos contratados para buscar mejoras en la identificación de morosos. El análisis de los clientes actualmente se realiza de forma manual, cliente por cliente, lo que consume mucho tiempo y, aun así, la detección de morosos es muy imprecisa.\n",
        "\n",
        "Nuestra tarea es utilizar los datos proporcionados por la empresa para **clasificar** a los clientes en cumplidores y morosos."
      ]
    },
    {
      "cell_type": "markdown",
      "metadata": {
        "id": "WgS8iF51Csrn"
      },
      "source": [
        "## <font color='dark'>Clasificando los datos</h1>"
      ]
    },
    {
      "cell_type": "markdown",
      "metadata": {
        "id": "6lExmBuKn-xe"
      },
      "source": [
        "### Creando un modelo inicial"
      ]
    },
    {
      "cell_type": "code",
      "execution_count": 2,
      "metadata": {
        "id": "ANJDC3LqP43q"
      },
      "outputs": [],
      "source": [
        "import pandas as pd"
      ]
    },
    {
      "cell_type": "code",
      "execution_count": 3,
      "metadata": {
        "id": "UPddns6dP4kt"
      },
      "outputs": [
        {
          "data": {
            "text/html": [
              "<div>\n",
              "<style scoped>\n",
              "    .dataframe tbody tr th:only-of-type {\n",
              "        vertical-align: middle;\n",
              "    }\n",
              "\n",
              "    .dataframe tbody tr th {\n",
              "        vertical-align: top;\n",
              "    }\n",
              "\n",
              "    .dataframe thead th {\n",
              "        text-align: right;\n",
              "    }\n",
              "</style>\n",
              "<table border=\"1\" class=\"dataframe\">\n",
              "  <thead>\n",
              "    <tr style=\"text-align: right;\">\n",
              "      <th></th>\n",
              "      <th>ingresos_cliente</th>\n",
              "      <th>anualidad_prestamo</th>\n",
              "      <th>años_casa_propia</th>\n",
              "      <th>telefono_trab</th>\n",
              "      <th>evaluacion_ciudad</th>\n",
              "      <th>score_1</th>\n",
              "      <th>score_2</th>\n",
              "      <th>score_3</th>\n",
              "      <th>score_social</th>\n",
              "      <th>cambio_telefono</th>\n",
              "      <th>moroso</th>\n",
              "    </tr>\n",
              "  </thead>\n",
              "  <tbody>\n",
              "    <tr>\n",
              "      <th>0</th>\n",
              "      <td>12600.000000</td>\n",
              "      <td>3569.400000</td>\n",
              "      <td>12.157324</td>\n",
              "      <td>1</td>\n",
              "      <td>2.0</td>\n",
              "      <td>0.057153</td>\n",
              "      <td>0.527227</td>\n",
              "      <td>0.513171</td>\n",
              "      <td>0.117428</td>\n",
              "      <td>2545.000000</td>\n",
              "      <td>0</td>\n",
              "    </tr>\n",
              "    <tr>\n",
              "      <th>1</th>\n",
              "      <td>9000.000000</td>\n",
              "      <td>2722.188351</td>\n",
              "      <td>7.000000</td>\n",
              "      <td>0</td>\n",
              "      <td>2.0</td>\n",
              "      <td>0.657661</td>\n",
              "      <td>0.285898</td>\n",
              "      <td>0.614414</td>\n",
              "      <td>0.222700</td>\n",
              "      <td>495.000000</td>\n",
              "      <td>0</td>\n",
              "    </tr>\n",
              "    <tr>\n",
              "      <th>2</th>\n",
              "      <td>15750.000000</td>\n",
              "      <td>4477.500000</td>\n",
              "      <td>12.000000</td>\n",
              "      <td>0</td>\n",
              "      <td>2.0</td>\n",
              "      <td>0.501213</td>\n",
              "      <td>0.695423</td>\n",
              "      <td>0.513171</td>\n",
              "      <td>0.117428</td>\n",
              "      <td>1212.000000</td>\n",
              "      <td>0</td>\n",
              "    </tr>\n",
              "    <tr>\n",
              "      <th>3</th>\n",
              "      <td>9000.000000</td>\n",
              "      <td>1309.050000</td>\n",
              "      <td>12.157324</td>\n",
              "      <td>0</td>\n",
              "      <td>3.0</td>\n",
              "      <td>0.501213</td>\n",
              "      <td>0.155973</td>\n",
              "      <td>0.513171</td>\n",
              "      <td>0.117428</td>\n",
              "      <td>515.000000</td>\n",
              "      <td>0</td>\n",
              "    </tr>\n",
              "    <tr>\n",
              "      <th>4</th>\n",
              "      <td>7650.000000</td>\n",
              "      <td>1125.000000</td>\n",
              "      <td>12.157324</td>\n",
              "      <td>0</td>\n",
              "      <td>2.0</td>\n",
              "      <td>0.294328</td>\n",
              "      <td>0.152076</td>\n",
              "      <td>0.513171</td>\n",
              "      <td>0.117428</td>\n",
              "      <td>162.000000</td>\n",
              "      <td>0</td>\n",
              "    </tr>\n",
              "    <tr>\n",
              "      <th>...</th>\n",
              "      <td>...</td>\n",
              "      <td>...</td>\n",
              "      <td>...</td>\n",
              "      <td>...</td>\n",
              "      <td>...</td>\n",
              "      <td>...</td>\n",
              "      <td>...</td>\n",
              "      <td>...</td>\n",
              "      <td>...</td>\n",
              "      <td>...</td>\n",
              "      <td>...</td>\n",
              "    </tr>\n",
              "    <tr>\n",
              "      <th>54020</th>\n",
              "      <td>16855.246324</td>\n",
              "      <td>675.000000</td>\n",
              "      <td>12.157324</td>\n",
              "      <td>1</td>\n",
              "      <td>2.0</td>\n",
              "      <td>0.501213</td>\n",
              "      <td>0.180635</td>\n",
              "      <td>0.513171</td>\n",
              "      <td>0.082500</td>\n",
              "      <td>0.000000</td>\n",
              "      <td>1</td>\n",
              "    </tr>\n",
              "    <tr>\n",
              "      <th>54021</th>\n",
              "      <td>11250.000000</td>\n",
              "      <td>675.000000</td>\n",
              "      <td>14.000000</td>\n",
              "      <td>0</td>\n",
              "      <td>3.0</td>\n",
              "      <td>0.409620</td>\n",
              "      <td>0.606002</td>\n",
              "      <td>0.513171</td>\n",
              "      <td>0.117428</td>\n",
              "      <td>466.000000</td>\n",
              "      <td>1</td>\n",
              "    </tr>\n",
              "    <tr>\n",
              "      <th>54022</th>\n",
              "      <td>13500.000000</td>\n",
              "      <td>900.000000</td>\n",
              "      <td>64.000000</td>\n",
              "      <td>0</td>\n",
              "      <td>2.0</td>\n",
              "      <td>0.162632</td>\n",
              "      <td>0.525412</td>\n",
              "      <td>0.513171</td>\n",
              "      <td>0.117428</td>\n",
              "      <td>962.106056</td>\n",
              "      <td>1</td>\n",
              "    </tr>\n",
              "    <tr>\n",
              "      <th>54023</th>\n",
              "      <td>11250.000000</td>\n",
              "      <td>2371.500000</td>\n",
              "      <td>12.157324</td>\n",
              "      <td>0</td>\n",
              "      <td>3.0</td>\n",
              "      <td>0.501213</td>\n",
              "      <td>0.664027</td>\n",
              "      <td>0.513171</td>\n",
              "      <td>0.117428</td>\n",
              "      <td>482.000000</td>\n",
              "      <td>1</td>\n",
              "    </tr>\n",
              "    <tr>\n",
              "      <th>54024</th>\n",
              "      <td>21060.000000</td>\n",
              "      <td>2459.250000</td>\n",
              "      <td>12.157324</td>\n",
              "      <td>0</td>\n",
              "      <td>2.0</td>\n",
              "      <td>0.339656</td>\n",
              "      <td>0.656468</td>\n",
              "      <td>0.513171</td>\n",
              "      <td>0.117428</td>\n",
              "      <td>0.000000</td>\n",
              "      <td>1</td>\n",
              "    </tr>\n",
              "  </tbody>\n",
              "</table>\n",
              "<p>54025 rows × 11 columns</p>\n",
              "</div>"
            ],
            "text/plain": [
              "       ingresos_cliente  anualidad_prestamo  ...  cambio_telefono  moroso\n",
              "0          12600.000000         3569.400000  ...      2545.000000       0\n",
              "1           9000.000000         2722.188351  ...       495.000000       0\n",
              "2          15750.000000         4477.500000  ...      1212.000000       0\n",
              "3           9000.000000         1309.050000  ...       515.000000       0\n",
              "4           7650.000000         1125.000000  ...       162.000000       0\n",
              "...                 ...                 ...  ...              ...     ...\n",
              "54020      16855.246324          675.000000  ...         0.000000       1\n",
              "54021      11250.000000          675.000000  ...       466.000000       1\n",
              "54022      13500.000000          900.000000  ...       962.106056       1\n",
              "54023      11250.000000         2371.500000  ...       482.000000       1\n",
              "54024      21060.000000         2459.250000  ...         0.000000       1\n",
              "\n",
              "[54025 rows x 11 columns]"
            ]
          },
          "execution_count": 3,
          "metadata": {},
          "output_type": "execute_result"
        }
      ],
      "source": [
        "datos = pd.read_csv('./prestacar.csv')\n",
        "datos"
      ]
    },
    {
      "cell_type": "code",
      "execution_count": 4,
      "metadata": {
        "id": "UVIX6QLpP4iC"
      },
      "outputs": [],
      "source": [
        "X = datos.drop(columns='moroso', axis=1)\n",
        "y = datos.moroso  "
      ]
    },
    {
      "cell_type": "code",
      "execution_count": 5,
      "metadata": {
        "id": "MikoMXI7P4dG"
      },
      "outputs": [
        {
          "data": {
            "text/plain": [
              "1.0"
            ]
          },
          "execution_count": 5,
          "metadata": {},
          "output_type": "execute_result"
        }
      ],
      "source": [
        "from sklearn.tree import DecisionTreeClassifier\n",
        "\n",
        "modelo = DecisionTreeClassifier()\n",
        "modelo.fit(X,y)\n",
        "modelo.score(X,y)"
      ]
    },
    {
      "cell_type": "markdown",
      "metadata": {},
      "source": [
        "> La exactitud del modelo es de 1, lo que indica que el modelo clasifica perfectamente todos los clientes de entrenamiento. Esto podria sugerir un sobreajuste."
      ]
    },
    {
      "cell_type": "markdown",
      "metadata": {
        "id": "EPrFcm39oAof"
      },
      "source": [
        "### Validando el modelo"
      ]
    },
    {
      "cell_type": "markdown",
      "metadata": {
        "id": "v0u-uij9eNcD"
      },
      "source": [
        "Evaluar el modelo con los mismos datos utilizados en el entrenamiento no es recomendable. Es necesario que la evaluación se realice con datos independientes.  \n",
        "\n",
        "Evaluar el modelo con los propios datos de entrenamiento sería equivalente a entregar un examen con las preguntas y las respuestas a una persona y, al momento de evaluarla nuevamente, entregarle un examen con las mismas preguntas y opciones. Se espera que esa persona obtenga un buen resultado, ya que ya ha visto las respuestas y ha memorizado el resultado. Esto es diferente de haber aprendido la materia a partir de ese examen y luego presentar una prueba con contenido similar y obtener un resultado positivo.  \n",
        "\n",
        "Con el objetivo de verificar la capacidad de generalización de un modelo, debemos dividir el conjunto de datos en tres partes: datos de entrenamiento, validación y prueba.  \n",
        "\n",
        "- El **conjunto de entrenamiento** se utiliza para entrenar los modelos. A partir de este conjunto, los modelos identifican patrones en los datos.  \n",
        "\n",
        "- El **conjunto de validación** se emplea para evaluar el desempeño de diferentes modelos con datos nuevos que no fueron utilizados en el entrenamiento.  \n",
        "\n",
        "- El **conjunto de prueba** se mantiene separado desde el inicio para simular datos del mundo real. No se utiliza en ninguna etapa del entrenamiento ni de la validación, sirviendo como una estimación de la capacidad del modelo elegido para generalizar y predecir nuevos datos."
      ]
    },
    {
      "cell_type": "markdown",
      "metadata": {
        "id": "TCIN5oOJFk_W"
      },
      "source": [
        "<a href=\"https://ibb.co/9H2Z1HZ5\"><img src=\"https://i.ibb.co/0yZs6ysb/datos-train-test.png\" alt=\"datos-train-test\" border=\"0\"></a>"
      ]
    },
    {
      "cell_type": "code",
      "execution_count": 6,
      "metadata": {
        "id": "OICJjv9HP1QZ"
      },
      "outputs": [],
      "source": [
        "from sklearn.model_selection import train_test_split"
      ]
    },
    {
      "cell_type": "code",
      "execution_count": 7,
      "metadata": {
        "id": "mvDcVFFDP1sB"
      },
      "outputs": [],
      "source": [
        "# entrenamiento\n",
        "X, X_test, y, y_test = train_test_split(X, y, test_size=0.15, stratify=y, random_state=5)\n",
        "\n",
        "# validacion\n",
        "X_train, X_val, y_train, y_val = train_test_split(X, y, stratify=y, random_state=5)"
      ]
    },
    {
      "cell_type": "code",
      "execution_count": 8,
      "metadata": {
        "id": "sEJPwwG_P1Md"
      },
      "outputs": [
        {
          "name": "stdout",
          "output_type": "stream",
          "text": [
            "La exactitud del modelo con el conjunto de entrenamiento es: 1.0\n",
            "La exactitud del modelo con el conjunto de validacion es: 0.8487065586621374\n"
          ]
        }
      ],
      "source": [
        "modelo = DecisionTreeClassifier()\n",
        "modelo.fit(X_train, y_train)\n",
        "print(f'La exactitud del modelo con el conjunto de entrenamiento es: {modelo.score(X_train,y_train)}')\n",
        "print(f'La exactitud del modelo con el conjunto de validacion es: {modelo.score(X_val,y_val)}')"
      ]
    },
    {
      "cell_type": "markdown",
      "metadata": {},
      "source": [
        "> Los resultados de entrenamiento y validacion indican que el modelo memorizo los datos de entrenamiento.\n",
        "\n",
        "Vamos a crear un nuevo modelo de arbol pero esta vez, ajustando la profundidad "
      ]
    },
    {
      "cell_type": "code",
      "execution_count": 9,
      "metadata": {
        "id": "NIeGQZGcP1J1"
      },
      "outputs": [
        {
          "name": "stdout",
          "output_type": "stream",
          "text": [
            "La exactitud del modelo con el conjunto de entrenamiento es: 0.9206445993031359\n",
            "La exactitud del modelo con el conjunto de validacion es: 0.9057573382109573\n"
          ]
        }
      ],
      "source": [
        "modelo = DecisionTreeClassifier(max_depth=10)\n",
        "modelo.fit(X_train, y_train)\n",
        "print(f'La exactitud del modelo con el conjunto de entrenamiento es: {modelo.score(X_train,y_train)}')\n",
        "print(f'La exactitud del modelo con el conjunto de validacion es: {modelo.score(X_val,y_val)}')"
      ]
    },
    {
      "cell_type": "markdown",
      "metadata": {},
      "source": [
        "> Los resultados indican que el modelo generaliza mejor ya que no esta memorizando todas las salidas\n",
        "\n",
        "> La exactitud significa que el modelo en el 90% generalizo bien. Es una metrica que nos no dice mucho ya que no esecifica que esta generalizando y si lo esta haciendo bien."
      ]
    },
    {
      "cell_type": "markdown",
      "metadata": {
        "id": "WtlRAZt96VLG"
      },
      "source": [
        "### Evaluando el modelo"
      ]
    },
    {
      "cell_type": "code",
      "execution_count": 10,
      "metadata": {
        "id": "IlUZBhPrPyYh"
      },
      "outputs": [],
      "source": [
        "# matriz de confusion\n",
        "from sklearn.metrics import confusion_matrix"
      ]
    },
    {
      "cell_type": "code",
      "execution_count": 11,
      "metadata": {
        "id": "iill3u5HPyOA"
      },
      "outputs": [
        {
          "name": "stdout",
          "output_type": "stream",
          "text": [
            "[[10355   124]\n",
            " [  958    44]]\n"
          ]
        }
      ],
      "source": [
        "y_previsto = modelo.predict(X_val)\n",
        "matriz_confusion = confusion_matrix(y_val, y_previsto)\n",
        "print(matriz_confusion)"
      ]
    },
    {
      "cell_type": "code",
      "execution_count": 12,
      "metadata": {
        "id": "gtFWt6emPyJt"
      },
      "outputs": [],
      "source": [
        "from sklearn.metrics import ConfusionMatrixDisplay"
      ]
    },
    {
      "cell_type": "code",
      "execution_count": 13,
      "metadata": {
        "id": "qg0OgZeqPyGJ"
      },
      "outputs": [
        {
          "data": {
            "image/png": "[encoded data removed]",
            "text/plain": [
              "<Figure size 640x480 with 2 Axes>"
            ]
          },
          "metadata": {},
          "output_type": "display_data"
        }
      ],
      "source": [
        "visualizacion = ConfusionMatrixDisplay(confusion_matrix=matriz_confusion, display_labels=['Cumplido', 'Moroso'])\n",
        "visualizacion.plot();"
      ]
    },
    {
      "cell_type": "markdown",
      "metadata": {},
      "source": [
        "> El modelo clasifica correctamente masa de 10 mil clientes como cumplido.\n",
        "\n",
        "> El modelo claisifica 960 como cumplidos pero en realidad son morosos.\n",
        "\n",
        "> El modelo clasifica a 119 como morosos pero en realidad son cumplidos.\n",
        "\n",
        "> El modelo identifica solo a 42 correctamente como morosos."
      ]
    },
    {
      "cell_type": "markdown",
      "metadata": {
        "id": "tPogL-24ntSH"
      },
      "source": [
        "## <font color='dark'>Métricas de evaluación</h1>"
      ]
    },
    {
      "cell_type": "markdown",
      "metadata": {
        "id": "nP1WfyyR6XMl"
      },
      "source": [
        "### Exactitud, precisión y recall (sensibilidad)."
      ]
    },
    {
      "cell_type": "markdown",
      "metadata": {
        "id": "oE8N0NqoH6hy"
      },
      "source": [
        "<a href=\"https://ibb.co/351SbY7t\"><img src=\"https://i.ibb.co/wZypqrRD/matriz-confusion.png\" alt=\"matriz-confusion\" border=\"0\"></a>"
      ]
    },
    {
      "cell_type": "markdown",
      "metadata": {
        "id": "k0ldCSgoZiPX"
      },
      "source": [
        "<a href=\"https://imgbb.com/\"><img src=\"https://i.ibb.co/6Jp6rKyC/Captura-de-tela-2025-03-22-120744.png\" alt=\"Captura-de-tela-2025-03-22-120744\" border=\"0\"></a>"
      ]
    },
    {
      "cell_type": "markdown",
      "metadata": {},
      "source": [
        "> TN: Verdadero Negativo\n",
        "\n",
        "> FP: Falso Positivo. Tambien se conoce como error Tipo I\n",
        "\n",
        "> FN: Falso Negativo. Tambien se conoce como error Tipo II\n",
        "\n",
        "> TP: Verdadero Positivo"
      ]
    },
    {
      "cell_type": "markdown",
      "metadata": {},
      "source": [
        "La exactitud viene representada por el accuracy que como vemos es una proporcion. En lo que sigue vamos a obtener el valor de cada metrica "
      ]
    },
    {
      "cell_type": "code",
      "execution_count": 14,
      "metadata": {
        "id": "IIEaf2fmPmq1"
      },
      "outputs": [],
      "source": [
        "from sklearn.metrics import accuracy_score, precision_score, recall_score, f1_score"
      ]
    },
    {
      "cell_type": "code",
      "execution_count": 15,
      "metadata": {
        "id": "QnGxEIrWPmbx"
      },
      "outputs": [
        {
          "data": {
            "text/plain": [
              "0.2608695652173913"
            ]
          },
          "execution_count": 15,
          "metadata": {},
          "output_type": "execute_result"
        }
      ],
      "source": [
        "# precision manual\n",
        "# es la proporcion de verdadero positivo\n",
        "42/(42 + 119)"
      ]
    },
    {
      "cell_type": "code",
      "execution_count": 16,
      "metadata": {
        "id": "7C7NoVZnPmX1"
      },
      "outputs": [
        {
          "name": "stdout",
          "output_type": "stream",
          "text": [
            "La precision del modelo es: 0.2619047619047619\n"
          ]
        }
      ],
      "source": [
        "# precision con python\n",
        "print(f'La precision del modelo es: {precision_score(y_val, y_previsto)}')"
      ]
    },
    {
      "cell_type": "code",
      "execution_count": 17,
      "metadata": {
        "id": "u2SqICFJPmU-"
      },
      "outputs": [
        {
          "name": "stdout",
          "output_type": "stream",
          "text": [
            "La sensibilidad (Recall) del modelo es: 0.043912175648702596\n",
            "La exactitud (Accuracy) del modelo es: 0.9057573382109573\n",
            "El f1-score del modelo es: 0.07521367521367521\n"
          ]
        }
      ],
      "source": [
        "# otras metricas\n",
        "print(f'La sensibilidad (Recall) del modelo es: {recall_score(y_val, y_previsto)}')\n",
        "print(f'La exactitud (Accuracy) del modelo es: {accuracy_score(y_val, y_previsto)}')\n",
        "print(f'El f1-score del modelo es: {f1_score(y_val, y_previsto)}')"
      ]
    },
    {
      "cell_type": "markdown",
      "metadata": {},
      "source": [
        "> El modelo tiene 4% de sensibilidad. Esta metrica indica que la empresa esta financiando a mucha gente morosa. Esta metrica es la que vamos a priorizar e intentaremos a reducir lo mas posible.\n",
        "\n",
        "> El f1-score penaliza el modelo. Mientras mas lejos de 1 este valor, peor se desempena el modelo."
      ]
    },
    {
      "cell_type": "markdown",
      "metadata": {
        "id": "I8ELhexg2jNx"
      },
      "source": [
        "### Curva ROC"
      ]
    },
    {
      "cell_type": "code",
      "execution_count": 18,
      "metadata": {
        "colab": {
          "base_uri": "https://localhost:8080/",
          "height": 420
        },
        "id": "PhUNE4Xm4MII",
        "outputId": "af2368d8-847d-459b-b11a-c079a4d4c433"
      },
      "outputs": [
        {
          "data": {
            "text/html": [
              "<img src=\"https://raw.githubusercontent.com/dariyasydykova/open_projects/master/ROC_animation/animations/cutoff.gif\"/>"
            ],
            "text/plain": [
              "<IPython.core.display.Image object>"
            ]
          },
          "execution_count": 18,
          "metadata": {},
          "output_type": "execute_result"
        }
      ],
      "source": [
        "from IPython.display import Image\n",
        "Image(url='https://raw.githubusercontent.com/dariyasydykova/open_projects/master/ROC_animation/animations/cutoff.gif')"
      ]
    },
    {
      "cell_type": "markdown",
      "metadata": {
        "id": "XK8_7Ruy32BT"
      },
      "source": [
        "Fuente: [paulvanderlaken.com](https://paulvanderlaken.com/2019/08/16/roc-auc-precision-and-recall-visually-explained/)\n",
        "\n",
        "\n"
      ]
    },
    {
      "cell_type": "markdown",
      "metadata": {},
      "source": [
        "> El objetivo con nuestro modelo es reducir el error Tipo II y aumentar el TP. Mejorar estas metricas se compensa con las otras dos metricas restantes.\n",
        "\n"
      ]
    },
    {
      "cell_type": "code",
      "execution_count": 19,
      "metadata": {
        "id": "FHc-8FjePhM6"
      },
      "outputs": [],
      "source": [
        "from sklearn.metrics import RocCurveDisplay"
      ]
    },
    {
      "cell_type": "code",
      "execution_count": 20,
      "metadata": {
        "id": "V6Ua2rY3PhFt"
      },
      "outputs": [
        {
          "data": {
            "image/png": "[encoded data removed]",
            "text/plain": [
              "<Figure size 640x480 with 1 Axes>"
            ]
          },
          "metadata": {},
          "output_type": "display_data"
        }
      ],
      "source": [
        "RocCurveDisplay.from_predictions(y_val, y_previsto, name='Arbol de decision');"
      ]
    },
    {
      "cell_type": "markdown",
      "metadata": {},
      "source": [
        "> El trazo recto indica aleatoriedad. Esto implica que el modelo no esta generalizando ni clasificando la gente correctamente.\n",
        "\n",
        "> A pesar que el modelo tenga una exactitud del 95%, queda claro que es deficiente.\n",
        "\n",
        "> El valor de AUC indica la capacidad del modelo de clasificar correctamente las clases. En este caso lo hace aleatoriamente (50% acierta y 50% no acierta)"
      ]
    },
    {
      "cell_type": "code",
      "execution_count": 21,
      "metadata": {
        "id": "LJE-yyWMPg8R"
      },
      "outputs": [],
      "source": [
        "from sklearn.metrics import roc_auc_score"
      ]
    },
    {
      "cell_type": "code",
      "execution_count": 22,
      "metadata": {
        "id": "7mtvjPHsPi1o"
      },
      "outputs": [
        {
          "name": "stdout",
          "output_type": "stream",
          "text": [
            "El area bajo la curva ROC es: 0.5160394927293995\n"
          ]
        }
      ],
      "source": [
        "print(f'El area bajo la curva ROC es: {roc_auc_score(y_val, y_previsto)}')"
      ]
    },
    {
      "cell_type": "markdown",
      "metadata": {
        "id": "IztSEZfh7QFe"
      },
      "source": [
        "### Curva de  precisión x sensibilidad"
      ]
    },
    {
      "cell_type": "code",
      "execution_count": 23,
      "metadata": {
        "colab": {
          "base_uri": "https://localhost:8080/",
          "height": 420
        },
        "id": "EJzfjuxa3fxD",
        "outputId": "924ea149-4438-48f7-cec5-e2ebd55c5fc8"
      },
      "outputs": [
        {
          "data": {
            "text/html": [
              "<img src=\"https://paulvanderlaken.com/wp-content/uploads/2019/08/roc.gif\"/>"
            ],
            "text/plain": [
              "<IPython.core.display.Image object>"
            ]
          },
          "execution_count": 23,
          "metadata": {},
          "output_type": "execute_result"
        }
      ],
      "source": [
        "Image(url='https://paulvanderlaken.com/wp-content/uploads/2019/08/roc.gif')"
      ]
    },
    {
      "cell_type": "markdown",
      "metadata": {
        "id": "bUoGCSUB4msC"
      },
      "source": [
        "Fuente: [paulvanderlaken.com](https://paulvanderlaken.com/2019/08/16/roc-auc-precision-and-recall-visually-explained/)\n"
      ]
    },
    {
      "cell_type": "markdown",
      "metadata": {},
      "source": [
        "> Esta curva al acercarse a una recta se dice que las predicciones son aleatorias, el modelo no logra distinguir entre las clases.\n",
        "\n",
        "> Cuando la curva tiene a un semi cuadro de valor 1, se dice que el modelo logra distinguir entre las clases correctamente.\n",
        "\n",
        "> Como la curva de precisión x recall no evalúa la tasa de verdaderos negativos, que generalmente contendrá la mayor cantidad de datos, el análisis se concentra más en la clase con menor cantidad de datos, y esto hace que el análisis sea mejor en datos desbalanceados."
      ]
    },
    {
      "cell_type": "code",
      "execution_count": 24,
      "metadata": {
        "id": "7t20ira6Pcds"
      },
      "outputs": [],
      "source": [
        "# importamos precision sensibilidad\n",
        "from sklearn.metrics import PrecisionRecallDisplay"
      ]
    },
    {
      "cell_type": "code",
      "execution_count": 25,
      "metadata": {
        "id": "Drs3Z6RTPcTc"
      },
      "outputs": [
        {
          "data": {
            "image/png": "[encoded data removed]",
            "text/plain": [
              "<Figure size 640x480 with 1 Axes>"
            ]
          },
          "metadata": {},
          "output_type": "display_data"
        }
      ],
      "source": [
        "# obtenemos la grafica\n",
        "PrecisionRecallDisplay.from_predictions(y_val, y_previsto, name='Arbol de decision');"
      ]
    },
    {
      "cell_type": "markdown",
      "metadata": {},
      "source": [
        "> el modelo es mas preciso (26%) que sensible (4%). \n",
        "\n",
        "> El promedio de ambas metricas para el modelo es de 0.09. Loideal es 1. Esto indica que el modelo es deficiente"
      ]
    },
    {
      "cell_type": "code",
      "execution_count": 26,
      "metadata": {
        "id": "DmhO5H5cPcOp"
      },
      "outputs": [],
      "source": [
        "from sklearn.metrics import average_precision_score"
      ]
    },
    {
      "cell_type": "code",
      "execution_count": 27,
      "metadata": {
        "id": "SS08sHDkPeaG"
      },
      "outputs": [
        {
          "name": "stdout",
          "output_type": "stream",
          "text": [
            "El score promedio de precision vs recall es: 0.094943016774817\n"
          ]
        }
      ],
      "source": [
        "print(f'El score promedio de precision vs recall es: {average_precision_score(y_val, y_previsto)}')"
      ]
    },
    {
      "cell_type": "markdown",
      "metadata": {
        "id": "Bm2E6GEJDJLH"
      },
      "source": [
        "### Informe de métricas"
      ]
    },
    {
      "cell_type": "code",
      "execution_count": 28,
      "metadata": {
        "id": "C85qunYhPZTJ"
      },
      "outputs": [],
      "source": [
        "from sklearn.metrics import classification_report"
      ]
    },
    {
      "cell_type": "code",
      "execution_count": 29,
      "metadata": {
        "id": "pnN6QRlYPZQR"
      },
      "outputs": [
        {
          "name": "stdout",
          "output_type": "stream",
          "text": [
            "              precision    recall  f1-score   support\n",
            "\n",
            "           0       0.92      0.99      0.95     10479\n",
            "           1       0.26      0.04      0.08      1002\n",
            "\n",
            "    accuracy                           0.91     11481\n",
            "   macro avg       0.59      0.52      0.51     11481\n",
            "weighted avg       0.86      0.91      0.87     11481\n",
            "\n"
          ]
        }
      ],
      "source": [
        "print(classification_report(y_val, y_previsto))"
      ]
    },
    {
      "cell_type": "markdown",
      "metadata": {},
      "source": [
        "> Los cliente cumplidos (0) son mayor que los clientes morosos (1). Esta diferencia se evidencia en la presicion. No hay un equilibrio entre las clases lo que podria sesgar los resultados\n",
        "\n",
        ">  El recall de los clientes morosos es muy baja lo que indica que el modelo no identifica bien los morosos.\n",
        "\n",
        "> El accuracy es bastante alto (de 91%) sin embargo esto no implica que el modelo clasifique bien.\n",
        "\n",
        "> EL promedio general para la precision es de 59% , para el recall es de 52%, para el f1 es de 0.51.\n",
        "\n",
        "> Los promedios ponderado son mas altos debido a que son favorecidos por la clases mas dominante. "
      ]
    },
    {
      "cell_type": "markdown",
      "metadata": {
        "id": "SuxCy_oZZQxE"
      },
      "source": [
        "## <font color='dark'> Validación cruzada</h1>"
      ]
    },
    {
      "cell_type": "markdown",
      "metadata": {
        "id": "17q2T0iRnzSg"
      },
      "source": [
        "### Usando KFold"
      ]
    },
    {
      "cell_type": "markdown",
      "metadata": {
        "id": "zjfYnDWJ6C2A"
      },
      "source": [
        "La validación del modelo de clasificación a partir de la separación de los datos en conjuntos de entrenamiento y validación hace que el resultado dependa en gran medida de esta división. Puede suceder que, de forma aleatoria, el patrón de los datos de validación sea diferente al de los datos de entrenamiento, lo que podría llevar a obtener un resultado mucho mejor o mucho peor que la realidad simplemente por suerte o mala suerte.  \n",
        "\n",
        "Teniendo esto en cuenta, es posible utilizar la **validación cruzada**, una estrategia más consistente y ampliamente utilizada en proyectos de *machine learning*.  \n",
        "\n",
        "En la validación cruzada, en lugar de separar los datos en entrenamiento y validación una sola vez, se dividen en varias partes de igual tamaño. En cada una de estas divisiones, se usa una parte para validación y todas las demás para entrenamiento. Este proceso se repite hasta que todas las partes hayan sido utilizadas tanto para validación como para entrenamiento.  \n",
        "\n",
        "Se generará un modelo para cada una de estas divisiones y la evaluación del desempeño se realizará promediando la métrica de cada modelo. Esto elimina la dependencia de la separación de los datos, ya que hay una mayor variación en la selección de los mismos y se obtiene un valor medio.  \n",
        "\n",
        "Generalmente, se utilizan 5 o 10 partes. Un número mayor no suele ser necesario, ya que implica un procesamiento más costoso, y valores menores ya ayudan a mitigar el problema de la selección de los datos."
      ]
    },
    {
      "cell_type": "markdown",
      "metadata": {
        "id": "oSboV-QNMG__"
      },
      "source": [
        "<a href=\"https://ibb.co/KcBtshJR\"><img src=\"https://i.ibb.co/nq4X1mFZ/train-y-validacion.png\" alt=\"train-y-validacion\" border=\"0\"></a>"
      ]
    },
    {
      "cell_type": "code",
      "execution_count": 30,
      "metadata": {
        "id": "TU8HYdzmPI7P"
      },
      "outputs": [],
      "source": [
        "from sklearn.model_selection import KFold, cross_validate"
      ]
    },
    {
      "cell_type": "code",
      "execution_count": 31,
      "metadata": {
        "id": "McSadnzDPI4G"
      },
      "outputs": [
        {
          "data": {
            "text/plain": [
              "{'fit_time': array([0.53342652, 0.36307788, 0.35460782, 0.31211543, 0.36817646]),\n",
              " 'score_time': array([0.00727654, 0.00706601, 0.00788188, 0.00384593, 0.00807977]),\n",
              " 'test_score': array([0.9127926 , 0.90755662, 0.90744774, 0.91289199, 0.89949913])}"
            ]
          },
          "execution_count": 31,
          "metadata": {},
          "output_type": "execute_result"
        }
      ],
      "source": [
        "modelo = DecisionTreeClassifier(max_depth=10)\n",
        "kf = KFold(n_splits=5, shuffle=True, random_state=5)\n",
        "cv_resultados = cross_validate(modelo, X, y, cv=kf)\n",
        "cv_resultados"
      ]
    },
    {
      "cell_type": "code",
      "execution_count": 32,
      "metadata": {
        "id": "o5oZ8-lhPIy_"
      },
      "outputs": [
        {
          "data": {
            "text/plain": [
              "array([0.9127926 , 0.90755662, 0.90744774, 0.91289199, 0.89949913])"
            ]
          },
          "execution_count": 32,
          "metadata": {},
          "output_type": "execute_result"
        }
      ],
      "source": [
        "cv_resultados['test_score']"
      ]
    },
    {
      "cell_type": "markdown",
      "metadata": {},
      "source": [
        "Para saber si el modelo esta generalizando bien y el intervalo de confianza, calculamos el promedio de los test_score y la desviacion estandar de los mismos"
      ]
    },
    {
      "cell_type": "code",
      "execution_count": null,
      "metadata": {},
      "outputs": [
        {
          "name": "stdout",
          "output_type": "stream",
          "text": [
            "El promedio de la exactitud es de 0.9080376134016415\n",
            "El desvio tipico es de 0.004892030813188723\n",
            "El intervalo de cofiaza es: [0.898253551775264, 0.9178216750280189]\n"
          ]
        }
      ],
      "source": [
        "promedio = cv_resultados['test_score'].mean()\n",
        "std = cv_resultados['test_score'].std()\n",
        "\n",
        "print(f'El promedio de la exactitud es de {promedio}')\n",
        "print(f'El desvio tipico es de {std}')\n",
        "print(f'El intervalo de confianza es: [{promedio-2*std}, {min(promedio+2*std, 1)}]')"
      ]
    },
    {
      "cell_type": "markdown",
      "metadata": {},
      "source": [
        "> El modelo, independiente de como sea, tendra un desempeno peor de 0.89 y en el mejor de los casos sera de 0.91"
      ]
    },
    {
      "cell_type": "markdown",
      "metadata": {
        "id": "GAHrtLM2OCjO"
      },
      "source": [
        "### Validación cruzada con sensibilidad"
      ]
    },
    {
      "cell_type": "markdown",
      "metadata": {},
      "source": [
        "Para este caso, nos interesa mejorar la sensibilidad o recall del modelo ya que nos permite disminuir el error de tipo II."
      ]
    },
    {
      "cell_type": "code",
      "execution_count": 34,
      "metadata": {
        "id": "Ywfsoe3_PLYZ"
      },
      "outputs": [],
      "source": [
        "def intervalo_confianza(resultados):\n",
        "    promedio = resultados['test_score'].mean()\n",
        "    std = resultados['test_score'].std()\n",
        "    return print(f'El intervalo de confianza es: [{promedio-2*std}, {min(promedio+2*std, 1)}]')"
      ]
    },
    {
      "cell_type": "code",
      "execution_count": 35,
      "metadata": {
        "id": "PV3m-6IxPLMf"
      },
      "outputs": [
        {
          "data": {
            "text/plain": [
              "{'fit_time': array([0.45581222, 0.29612851, 0.40620112, 0.33454704, 0.31293225]),\n",
              " 'score_time': array([0.01487803, 0.0552485 , 0.00928283, 0.01183629, 0.00765681]),\n",
              " 'test_score': array([0.02509908, 0.01980198, 0.01845018, 0.01436031, 0.02427746])}"
            ]
          },
          "execution_count": 35,
          "metadata": {},
          "output_type": "execute_result"
        }
      ],
      "source": [
        "# definimos el modelo esta vez generando el resultado con la metrica recall\n",
        "modelo = DecisionTreeClassifier(max_depth=10)\n",
        "kf = KFold(n_splits=5, shuffle=True, random_state=5)\n",
        "cv_resultados = cross_validate(modelo, X, y, cv=kf, scoring='recall')\n",
        "cv_resultados"
      ]
    },
    {
      "cell_type": "code",
      "execution_count": 36,
      "metadata": {
        "id": "Y-gpgU7pPLJv"
      },
      "outputs": [
        {
          "name": "stdout",
          "output_type": "stream",
          "text": [
            "El intervalo de confianza es: [0.01251094315234549, 0.02828466083182109]\n"
          ]
        }
      ],
      "source": [
        "# calculo de intervalo de confianza de recall\n",
        "intervalo_confianza(cv_resultados)"
      ]
    },
    {
      "cell_type": "markdown",
      "metadata": {
        "id": "-FAOYtNen4qJ"
      },
      "source": [
        "### Estratificando los datos"
      ]
    },
    {
      "cell_type": "code",
      "execution_count": null,
      "metadata": {
        "id": "G6bPA6vaPN1A"
      },
      "outputs": [],
      "source": []
    },
    {
      "cell_type": "code",
      "execution_count": null,
      "metadata": {
        "id": "HONIpY1BPNzd"
      },
      "outputs": [],
      "source": []
    },
    {
      "cell_type": "code",
      "execution_count": null,
      "metadata": {
        "id": "jCFRBhd_PNxT"
      },
      "outputs": [],
      "source": []
    },
    {
      "cell_type": "markdown",
      "metadata": {
        "id": "yaVwNb1kn8sX"
      },
      "source": [
        "## <font color='dark'>Balanceo de los datos</h1>"
      ]
    },
    {
      "cell_type": "markdown",
      "metadata": {
        "id": "4eYKxWJd6g6w"
      },
      "source": [
        "### Oversampling"
      ]
    },
    {
      "cell_type": "markdown",
      "metadata": {
        "id": "N0MJ7hGUmL4l"
      },
      "source": [
        "https://imbalanced-learn.org/stable/references/generated/imblearn.over_sampling.SMOTE.html#id1"
      ]
    },
    {
      "cell_type": "code",
      "execution_count": null,
      "metadata": {
        "id": "cO0Dx5xAO4B5"
      },
      "outputs": [],
      "source": []
    },
    {
      "cell_type": "code",
      "execution_count": null,
      "metadata": {
        "id": "h6DQqcttO3_c"
      },
      "outputs": [],
      "source": []
    },
    {
      "cell_type": "code",
      "execution_count": null,
      "metadata": {
        "id": "7Lp4GoMRO355"
      },
      "outputs": [],
      "source": []
    },
    {
      "cell_type": "markdown",
      "metadata": {
        "id": "fHSNXznm6ia-"
      },
      "source": [
        "### Pipeline para validación"
      ]
    },
    {
      "cell_type": "code",
      "execution_count": null,
      "metadata": {
        "id": "DaoAbR84O44S"
      },
      "outputs": [],
      "source": []
    },
    {
      "cell_type": "code",
      "execution_count": null,
      "metadata": {
        "id": "7UezUduWO41c"
      },
      "outputs": [],
      "source": []
    },
    {
      "cell_type": "code",
      "execution_count": null,
      "metadata": {
        "id": "b7Z-pe6wO4yN"
      },
      "outputs": [],
      "source": []
    },
    {
      "cell_type": "markdown",
      "metadata": {
        "id": "66PlvwjX6kFv"
      },
      "source": [
        "### Undersampling"
      ]
    },
    {
      "cell_type": "markdown",
      "metadata": {
        "id": "Fh6VZN5Fx7wl"
      },
      "source": [
        "https://imbalanced-learn.org/stable/references/generated/imblearn.under_sampling.NearMiss.html"
      ]
    },
    {
      "cell_type": "code",
      "execution_count": null,
      "metadata": {
        "id": "lUn59uqAO63N"
      },
      "outputs": [],
      "source": []
    },
    {
      "cell_type": "code",
      "execution_count": null,
      "metadata": {
        "id": "pOUKHwqRO6zb"
      },
      "outputs": [],
      "source": []
    },
    {
      "cell_type": "code",
      "execution_count": null,
      "metadata": {
        "id": "ykn9H4kFO6so"
      },
      "outputs": [],
      "source": []
    },
    {
      "cell_type": "markdown",
      "metadata": {
        "id": "EP-44U0eHt-a"
      },
      "source": [
        "### Probando el modelo"
      ]
    },
    {
      "cell_type": "code",
      "execution_count": null,
      "metadata": {
        "id": "XWhZlwOTO8eN"
      },
      "outputs": [],
      "source": []
    },
    {
      "cell_type": "code",
      "execution_count": null,
      "metadata": {
        "id": "gZHVqM6hO8bt"
      },
      "outputs": [],
      "source": []
    },
    {
      "cell_type": "code",
      "execution_count": null,
      "metadata": {
        "id": "QSrpOQpxO8WT"
      },
      "outputs": [],
      "source": []
    }
  ],
  "metadata": {
    "colab": {
      "include_colab_link": true,
      "provenance": []
    },
    "kernelspec": {
      "display_name": "data_env",
      "language": "python",
      "name": "python3"
    },
    "language_info": {
      "codemirror_mode": {
        "name": "ipython",
        "version": 3
      },
      "file_extension": ".py",
      "mimetype": "text/x-python",
      "name": "python",
      "nbconvert_exporter": "python",
      "pygments_lexer": "ipython3",
      "version": "3.10.18"
    }
  },
  "nbformat": 4,
  "nbformat_minor": 0
}
