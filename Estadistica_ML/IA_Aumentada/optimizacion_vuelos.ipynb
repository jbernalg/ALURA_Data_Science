{
 "cells": [
  {
   "cell_type": "markdown",
   "id": "1cd904b6",
   "metadata": {},
   "source": [
    "# __Proyecto: Optimizacion Aeroportuaria__"
   ]
  },
  {
   "cell_type": "markdown",
   "id": "082d972d",
   "metadata": {},
   "source": [
    "## Cargar datos"
   ]
  },
  {
   "cell_type": "code",
   "execution_count": 1,
   "id": "9675ea71",
   "metadata": {},
   "outputs": [
    {
     "data": {
      "text/plain": [
       "(71175, 11)"
      ]
     },
     "execution_count": 1,
     "metadata": {},
     "output_type": "execute_result"
    }
   ],
   "source": [
    "import pandas as pd\n",
    "\n",
    "datos = pd.read_csv('flights.csv')\n",
    "datos.shape"
   ]
  },
  {
   "cell_type": "code",
   "execution_count": 2,
   "id": "edaf33e4",
   "metadata": {},
   "outputs": [
    {
     "data": {
      "text/html": [
       "<div>\n",
       "<style scoped>\n",
       "    .dataframe tbody tr th:only-of-type {\n",
       "        vertical-align: middle;\n",
       "    }\n",
       "\n",
       "    .dataframe tbody tr th {\n",
       "        vertical-align: top;\n",
       "    }\n",
       "\n",
       "    .dataframe thead th {\n",
       "        text-align: right;\n",
       "    }\n",
       "</style>\n",
       "<table border=\"1\" class=\"dataframe\">\n",
       "  <thead>\n",
       "    <tr style=\"text-align: right;\">\n",
       "      <th></th>\n",
       "      <th>flight_id</th>\n",
       "      <th>airline</th>\n",
       "      <th>aircraft_type</th>\n",
       "      <th>schengen</th>\n",
       "      <th>origin</th>\n",
       "      <th>arrival_time</th>\n",
       "      <th>departure_time</th>\n",
       "      <th>day</th>\n",
       "      <th>year</th>\n",
       "      <th>is_holiday</th>\n",
       "      <th>delay</th>\n",
       "    </tr>\n",
       "  </thead>\n",
       "  <tbody>\n",
       "    <tr>\n",
       "      <th>0</th>\n",
       "      <td>26</td>\n",
       "      <td>MM</td>\n",
       "      <td>Airbus A320</td>\n",
       "      <td>non-schengen</td>\n",
       "      <td>TCY</td>\n",
       "      <td>8.885071</td>\n",
       "      <td>10.885071</td>\n",
       "      <td>0</td>\n",
       "      <td>2010</td>\n",
       "      <td>False</td>\n",
       "      <td>70.205981</td>\n",
       "    </tr>\n",
       "    <tr>\n",
       "      <th>1</th>\n",
       "      <td>10</td>\n",
       "      <td>YE</td>\n",
       "      <td>Airbus A320</td>\n",
       "      <td>non-schengen</td>\n",
       "      <td>TCY</td>\n",
       "      <td>8.939996</td>\n",
       "      <td>11.939996</td>\n",
       "      <td>0</td>\n",
       "      <td>2010</td>\n",
       "      <td>False</td>\n",
       "      <td>38.484609</td>\n",
       "    </tr>\n",
       "    <tr>\n",
       "      <th>2</th>\n",
       "      <td>3</td>\n",
       "      <td>BZ</td>\n",
       "      <td>Embraer E175</td>\n",
       "      <td>schengen</td>\n",
       "      <td>TZF</td>\n",
       "      <td>18.635384</td>\n",
       "      <td>22.635384</td>\n",
       "      <td>0</td>\n",
       "      <td>2010</td>\n",
       "      <td>False</td>\n",
       "      <td>2.388305</td>\n",
       "    </tr>\n",
       "    <tr>\n",
       "      <th>3</th>\n",
       "      <td>28</td>\n",
       "      <td>BZ</td>\n",
       "      <td>Airbus A330</td>\n",
       "      <td>non-schengen</td>\n",
       "      <td>EMM</td>\n",
       "      <td>15.967963</td>\n",
       "      <td>17.967963</td>\n",
       "      <td>0</td>\n",
       "      <td>2010</td>\n",
       "      <td>False</td>\n",
       "      <td>19.138491</td>\n",
       "    </tr>\n",
       "    <tr>\n",
       "      <th>4</th>\n",
       "      <td>15</td>\n",
       "      <td>BZ</td>\n",
       "      <td>Airbus A330</td>\n",
       "      <td>non-schengen</td>\n",
       "      <td>FJB</td>\n",
       "      <td>16.571894</td>\n",
       "      <td>19.571894</td>\n",
       "      <td>0</td>\n",
       "      <td>2010</td>\n",
       "      <td>False</td>\n",
       "      <td>15.016271</td>\n",
       "    </tr>\n",
       "  </tbody>\n",
       "</table>\n",
       "</div>"
      ],
      "text/plain": [
       "   flight_id airline aircraft_type      schengen origin  arrival_time  \\\n",
       "0         26      MM   Airbus A320  non-schengen    TCY      8.885071   \n",
       "1         10      YE   Airbus A320  non-schengen    TCY      8.939996   \n",
       "2          3      BZ  Embraer E175      schengen    TZF     18.635384   \n",
       "3         28      BZ   Airbus A330  non-schengen    EMM     15.967963   \n",
       "4         15      BZ   Airbus A330  non-schengen    FJB     16.571894   \n",
       "\n",
       "   departure_time  day  year  is_holiday      delay  \n",
       "0       10.885071    0  2010       False  70.205981  \n",
       "1       11.939996    0  2010       False  38.484609  \n",
       "2       22.635384    0  2010       False   2.388305  \n",
       "3       17.967963    0  2010       False  19.138491  \n",
       "4       19.571894    0  2010       False  15.016271  "
      ]
     },
     "execution_count": 2,
     "metadata": {},
     "output_type": "execute_result"
    }
   ],
   "source": [
    "# primeros 5 registros\n",
    "datos.head()"
   ]
  },
  {
   "cell_type": "markdown",
   "id": "563740c0",
   "metadata": {},
   "source": [
    "## Analisis basico de los datos"
   ]
  },
  {
   "cell_type": "code",
   "execution_count": 3,
   "id": "3c6f4c6e",
   "metadata": {},
   "outputs": [
    {
     "name": "stdout",
     "output_type": "stream",
     "text": [
      "<class 'pandas.core.frame.DataFrame'>\n",
      "RangeIndex: 71175 entries, 0 to 71174\n",
      "Data columns (total 11 columns):\n",
      " #   Column          Non-Null Count  Dtype  \n",
      "---  ------          --------------  -----  \n",
      " 0   flight_id       71175 non-null  int64  \n",
      " 1   airline         71175 non-null  object \n",
      " 2   aircraft_type   71175 non-null  object \n",
      " 3   schengen        71175 non-null  object \n",
      " 4   origin          71175 non-null  object \n",
      " 5   arrival_time    71175 non-null  float64\n",
      " 6   departure_time  71175 non-null  float64\n",
      " 7   day             71175 non-null  int64  \n",
      " 8   year            71175 non-null  int64  \n",
      " 9   is_holiday      71175 non-null  bool   \n",
      " 10  delay           71175 non-null  float64\n",
      "dtypes: bool(1), float64(3), int64(3), object(4)\n",
      "memory usage: 5.5+ MB\n"
     ]
    }
   ],
   "source": [
    "# acerca de los datos\n",
    "datos.info()"
   ]
  },
  {
   "cell_type": "code",
   "execution_count": 4,
   "id": "f900e1ad",
   "metadata": {},
   "outputs": [
    {
     "data": {
      "text/html": [
       "<div>\n",
       "<style scoped>\n",
       "    .dataframe tbody tr th:only-of-type {\n",
       "        vertical-align: middle;\n",
       "    }\n",
       "\n",
       "    .dataframe tbody tr th {\n",
       "        vertical-align: top;\n",
       "    }\n",
       "\n",
       "    .dataframe thead th {\n",
       "        text-align: right;\n",
       "    }\n",
       "</style>\n",
       "<table border=\"1\" class=\"dataframe\">\n",
       "  <thead>\n",
       "    <tr style=\"text-align: right;\">\n",
       "      <th></th>\n",
       "      <th>flight_id</th>\n",
       "      <th>arrival_time</th>\n",
       "      <th>departure_time</th>\n",
       "      <th>day</th>\n",
       "      <th>year</th>\n",
       "      <th>delay</th>\n",
       "    </tr>\n",
       "  </thead>\n",
       "  <tbody>\n",
       "    <tr>\n",
       "      <th>count</th>\n",
       "      <td>71175.000000</td>\n",
       "      <td>71175.000000</td>\n",
       "      <td>71175.000000</td>\n",
       "      <td>71175.000000</td>\n",
       "      <td>71175.000000</td>\n",
       "      <td>71175.000000</td>\n",
       "    </tr>\n",
       "    <tr>\n",
       "      <th>mean</th>\n",
       "      <td>15.465135</td>\n",
       "      <td>13.283159</td>\n",
       "      <td>16.480222</td>\n",
       "      <td>182.000000</td>\n",
       "      <td>2016.000000</td>\n",
       "      <td>12.548378</td>\n",
       "    </tr>\n",
       "    <tr>\n",
       "      <th>std</th>\n",
       "      <td>8.649646</td>\n",
       "      <td>4.023380</td>\n",
       "      <td>4.143705</td>\n",
       "      <td>105.366769</td>\n",
       "      <td>3.741684</td>\n",
       "      <td>23.125349</td>\n",
       "    </tr>\n",
       "    <tr>\n",
       "      <th>min</th>\n",
       "      <td>1.000000</td>\n",
       "      <td>7.065594</td>\n",
       "      <td>10.065594</td>\n",
       "      <td>0.000000</td>\n",
       "      <td>2010.000000</td>\n",
       "      <td>-41.028033</td>\n",
       "    </tr>\n",
       "    <tr>\n",
       "      <th>25%</th>\n",
       "      <td>8.000000</td>\n",
       "      <td>8.939996</td>\n",
       "      <td>12.668655</td>\n",
       "      <td>91.000000</td>\n",
       "      <td>2013.000000</td>\n",
       "      <td>-4.412876</td>\n",
       "    </tr>\n",
       "    <tr>\n",
       "      <th>50%</th>\n",
       "      <td>15.000000</td>\n",
       "      <td>14.258911</td>\n",
       "      <td>16.376052</td>\n",
       "      <td>182.000000</td>\n",
       "      <td>2016.000000</td>\n",
       "      <td>9.740454</td>\n",
       "    </tr>\n",
       "    <tr>\n",
       "      <th>75%</th>\n",
       "      <td>23.000000</td>\n",
       "      <td>16.909690</td>\n",
       "      <td>20.041281</td>\n",
       "      <td>273.000000</td>\n",
       "      <td>2019.000000</td>\n",
       "      <td>27.650853</td>\n",
       "    </tr>\n",
       "    <tr>\n",
       "      <th>max</th>\n",
       "      <td>30.000000</td>\n",
       "      <td>19.341235</td>\n",
       "      <td>23.341235</td>\n",
       "      <td>364.000000</td>\n",
       "      <td>2022.000000</td>\n",
       "      <td>125.632352</td>\n",
       "    </tr>\n",
       "  </tbody>\n",
       "</table>\n",
       "</div>"
      ],
      "text/plain": [
       "          flight_id  arrival_time  departure_time           day          year  \\\n",
       "count  71175.000000  71175.000000    71175.000000  71175.000000  71175.000000   \n",
       "mean      15.465135     13.283159       16.480222    182.000000   2016.000000   \n",
       "std        8.649646      4.023380        4.143705    105.366769      3.741684   \n",
       "min        1.000000      7.065594       10.065594      0.000000   2010.000000   \n",
       "25%        8.000000      8.939996       12.668655     91.000000   2013.000000   \n",
       "50%       15.000000     14.258911       16.376052    182.000000   2016.000000   \n",
       "75%       23.000000     16.909690       20.041281    273.000000   2019.000000   \n",
       "max       30.000000     19.341235       23.341235    364.000000   2022.000000   \n",
       "\n",
       "              delay  \n",
       "count  71175.000000  \n",
       "mean      12.548378  \n",
       "std       23.125349  \n",
       "min      -41.028033  \n",
       "25%       -4.412876  \n",
       "50%        9.740454  \n",
       "75%       27.650853  \n",
       "max      125.632352  "
      ]
     },
     "execution_count": 4,
     "metadata": {},
     "output_type": "execute_result"
    }
   ],
   "source": [
    "# resumen estadisticos de las variables numericas\n",
    "datos.describe()"
   ]
  },
  {
   "cell_type": "code",
   "execution_count": 5,
   "id": "227eaca6",
   "metadata": {},
   "outputs": [
    {
     "data": {
      "text/html": [
       "<div>\n",
       "<style scoped>\n",
       "    .dataframe tbody tr th:only-of-type {\n",
       "        vertical-align: middle;\n",
       "    }\n",
       "\n",
       "    .dataframe tbody tr th {\n",
       "        vertical-align: top;\n",
       "    }\n",
       "\n",
       "    .dataframe thead th {\n",
       "        text-align: right;\n",
       "    }\n",
       "</style>\n",
       "<table border=\"1\" class=\"dataframe\">\n",
       "  <thead>\n",
       "    <tr style=\"text-align: right;\">\n",
       "      <th></th>\n",
       "      <th>airline</th>\n",
       "      <th>aircraft_type</th>\n",
       "      <th>schengen</th>\n",
       "      <th>origin</th>\n",
       "    </tr>\n",
       "  </thead>\n",
       "  <tbody>\n",
       "    <tr>\n",
       "      <th>count</th>\n",
       "      <td>71175</td>\n",
       "      <td>71175</td>\n",
       "      <td>71175</td>\n",
       "      <td>71175</td>\n",
       "    </tr>\n",
       "    <tr>\n",
       "      <th>unique</th>\n",
       "      <td>3</td>\n",
       "      <td>6</td>\n",
       "      <td>2</td>\n",
       "      <td>10</td>\n",
       "    </tr>\n",
       "    <tr>\n",
       "      <th>top</th>\n",
       "      <td>BZ</td>\n",
       "      <td>Airbus A320</td>\n",
       "      <td>schengen</td>\n",
       "      <td>TZF</td>\n",
       "    </tr>\n",
       "    <tr>\n",
       "      <th>freq</th>\n",
       "      <td>47598</td>\n",
       "      <td>30778</td>\n",
       "      <td>42569</td>\n",
       "      <td>14162</td>\n",
       "    </tr>\n",
       "  </tbody>\n",
       "</table>\n",
       "</div>"
      ],
      "text/plain": [
       "       airline aircraft_type  schengen origin\n",
       "count    71175         71175     71175  71175\n",
       "unique       3             6         2     10\n",
       "top         BZ   Airbus A320  schengen    TZF\n",
       "freq     47598         30778     42569  14162"
      ]
     },
     "execution_count": 5,
     "metadata": {},
     "output_type": "execute_result"
    }
   ],
   "source": [
    "# resumen estadistico de las variables categoricas\n",
    "datos.describe(include='O')"
   ]
  },
  {
   "cell_type": "markdown",
   "id": "ea4442ba",
   "metadata": {},
   "source": [
    "## Analisis visual de los datos"
   ]
  },
  {
   "cell_type": "code",
   "execution_count": null,
   "id": "9f929798",
   "metadata": {},
   "outputs": [
    {
     "data": {
      "image/png": "[encoded data removed]",
      "text/plain": [
       "<Figure size 640x480 with 1 Axes>"
      ]
     },
     "metadata": {},
     "output_type": "display_data"
    },
    {
     "data": {
      "image/png": "[encoded data removed]",
      "text/plain": [
       "<Figure size 640x480 with 1 Axes>"
      ]
     },
     "metadata": {},
     "output_type": "display_data"
    }
   ],
   "source": [
    "import matplotlib.pyplot as plt\n",
    "import seaborn as sns\n",
    "\n",
    "# Empresas aereas segun atraso\n",
    "avg_delay = datos.groupby('airline')['delay'].mean().reset_index()\n",
    "sns.barplot(x='airline', y='delay', data=avg_delay)\n",
    "plt.title('Empresas aereas vs Atraso promedio')\n",
    "plt.xlabel('Empresa aerea')\n",
    "plt.ylabel('Atraso promedio en minutos')\n",
    "plt.show()\n",
    "\n",
    "# numero de vuelos por empresa aerea\n",
    "sns.countplot(x='airline', data=datos)\n",
    "plt.title('Numero de vuelos por empresa aerea')\n",
    "plt.xlabel('Empresa aerea')\n",
    "plt.ylabel('Numero de vuelos')\n",
    "plt.show()"
   ]
  }
 ],
 "metadata": {
  "kernelspec": {
   "display_name": "data_env",
   "language": "python",
   "name": "python3"
  },
  "language_info": {
   "codemirror_mode": {
    "name": "ipython",
    "version": 3
   },
   "file_extension": ".py",
   "mimetype": "text/x-python",
   "name": "python",
   "nbconvert_exporter": "python",
   "pygments_lexer": "ipython3",
   "version": "3.10.18"
  }
 },
 "nbformat": 4,
 "nbformat_minor": 5
}
