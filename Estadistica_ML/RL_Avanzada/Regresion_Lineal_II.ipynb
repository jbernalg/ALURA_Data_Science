{
  "cells": [
    {
      "cell_type": "markdown",
      "metadata": {
        "id": "DHLRlGM8FlHe"
      },
      "source": [
        "<h1 style='color: green; font-size: 36px; font-weight: bold;'>Data Science - Regresión Lineal II</h1>"
      ]
    },
    {
      "cell_type": "markdown",
      "metadata": {
        "id": "_ScLG3rnFlH1"
      },
      "source": [
        "# <font color='red' style='font-size: 30px;'>1.2 Conociendo el Dataset</font>\n",
        "<hr style='border: 2px solid red;'>"
      ]
    },
    {
      "cell_type": "markdown",
      "metadata": {
        "id": "pkxSOWr7FlH3"
      },
      "source": [
        "## Importando la biblioteca pandas\n",
        "\n",
        "https://pandas.pydata.org/"
      ]
    },
    {
      "cell_type": "code",
      "execution_count": 1,
      "metadata": {
        "id": "9AzjcI6rFlH4"
      },
      "outputs": [],
      "source": [
        "import pandas as pd"
      ]
    },
    {
      "cell_type": "markdown",
      "metadata": {
        "id": "rCJTk0RrFlH6"
      },
      "source": [
        "## El Dataset y el Proyecto\n",
        "<hr>\n",
        "\n",
        "### Descripción:\n",
        "<p style='font-size: 18px; line-height: 2; margin: 10px 50px; text-align: justify; text-indent: 35px;'>El mercado inmobiliario ha sido objeto de varios estudios e investigaciones en los últimos tiempos. La crisis financiera que afecta a la economía ha afectado significativamente las inversiones y ganancias de este sector. Este escenario fomenta un mayor interés en los estudios de previsión de la demanda basados ​​en las características de este mercado, los inmuebles y el entorno de estos inmuebles.</p>\n",
        "\n",
        "<p style='font-size: 18px; line-height: 2; margin: 10px 50px; text-align: justify; text-indent: 35px;'>En este contexto, el principal objetivo de nuestro proyecto es desarrollar un sistema de valuación inmobiliaria utilizando la metodología de regresión lineal, que es una de las técnicas de Machine Learning.</p>\n",
        "\n",
        "<p style='font-size: 18px; line-height: 2; margin: 10px 50px; text-align: justify; text-indent: 35px;'>Nuestro *dataset* es una muestra aleatoria de 5000 inmuebles disponibles para la venta en el municipio de Rio de Janeiro.</p>\n",
        "\n",
        "### Datos:\n",
        "<ul style='font-size: 18px; line-height: 2; text-align: justify;'>\n",
        "    <li><b>Valor</b> - Valor (US$) de oferta del inmueble</li>\n",
        "    <li><b>Área</b> - Área del inmueble en m²</li>\n",
        "    <li><b>Dist_Playa</b> - Distancia del inmueble a la playa (km) (en línea recta)</li>\n",
        "    <li><b>Dist_Farmacia</b> - Distancia del inmueble a la farmacia más cercana (km) (en línea recta)</li>\n",
        "</ul>"
      ]
    },
    {
      "cell_type": "markdown",
      "metadata": {
        "id": "-RNeJdr8FlH8"
      },
      "source": [
        "## Lectura de los datos"
      ]
    },
    {
      "cell_type": "code",
      "execution_count": 2,
      "metadata": {
        "id": "Ag0g5FG3FlH9"
      },
      "outputs": [],
      "source": [
        "datos = pd.read_csv('./dataset.csv', sep=';')"
      ]
    },
    {
      "cell_type": "markdown",
      "metadata": {
        "id": "LttePlt9FlH-"
      },
      "source": [
        "## Ver los datos"
      ]
    },
    {
      "cell_type": "code",
      "execution_count": 3,
      "metadata": {
        "id": "H3m_FznnFlH_"
      },
      "outputs": [
        {
          "data": {
            "text/html": [
              "<div>\n",
              "<style scoped>\n",
              "    .dataframe tbody tr th:only-of-type {\n",
              "        vertical-align: middle;\n",
              "    }\n",
              "\n",
              "    .dataframe tbody tr th {\n",
              "        vertical-align: top;\n",
              "    }\n",
              "\n",
              "    .dataframe thead th {\n",
              "        text-align: right;\n",
              "    }\n",
              "</style>\n",
              "<table border=\"1\" class=\"dataframe\">\n",
              "  <thead>\n",
              "    <tr style=\"text-align: right;\">\n",
              "      <th></th>\n",
              "      <th>Valor</th>\n",
              "      <th>Area</th>\n",
              "      <th>Dist_Playa</th>\n",
              "      <th>Dist_Farmacia</th>\n",
              "    </tr>\n",
              "  </thead>\n",
              "  <tbody>\n",
              "    <tr>\n",
              "      <th>0</th>\n",
              "      <td>850277</td>\n",
              "      <td>280</td>\n",
              "      <td>0.240925</td>\n",
              "      <td>0.793637</td>\n",
              "    </tr>\n",
              "    <tr>\n",
              "      <th>1</th>\n",
              "      <td>166359</td>\n",
              "      <td>208</td>\n",
              "      <td>0.904136</td>\n",
              "      <td>0.134494</td>\n",
              "    </tr>\n",
              "    <tr>\n",
              "      <th>2</th>\n",
              "      <td>471349</td>\n",
              "      <td>170</td>\n",
              "      <td>0.059525</td>\n",
              "      <td>0.423318</td>\n",
              "    </tr>\n",
              "    <tr>\n",
              "      <th>3</th>\n",
              "      <td>101664</td>\n",
              "      <td>100</td>\n",
              "      <td>2.883181</td>\n",
              "      <td>0.525064</td>\n",
              "    </tr>\n",
              "    <tr>\n",
              "      <th>4</th>\n",
              "      <td>406654</td>\n",
              "      <td>164</td>\n",
              "      <td>0.239758</td>\n",
              "      <td>0.192374</td>\n",
              "    </tr>\n",
              "  </tbody>\n",
              "</table>\n",
              "</div>"
            ],
            "text/plain": [
              "    Valor  Area  Dist_Playa  Dist_Farmacia\n",
              "0  850277   280    0.240925       0.793637\n",
              "1  166359   208    0.904136       0.134494\n",
              "2  471349   170    0.059525       0.423318\n",
              "3  101664   100    2.883181       0.525064\n",
              "4  406654   164    0.239758       0.192374"
            ]
          },
          "execution_count": 3,
          "metadata": {},
          "output_type": "execute_result"
        }
      ],
      "source": [
        "datos.head()"
      ]
    },
    {
      "cell_type": "markdown",
      "metadata": {
        "id": "ZklX00K7FlID"
      },
      "source": [
        "## Verificando el tamaño del dataset"
      ]
    },
    {
      "cell_type": "code",
      "execution_count": 4,
      "metadata": {
        "id": "qDklRD-pFlIE"
      },
      "outputs": [
        {
          "data": {
            "text/plain": [
              "(5000, 4)"
            ]
          },
          "execution_count": 4,
          "metadata": {},
          "output_type": "execute_result"
        }
      ],
      "source": [
        "datos .shape"
      ]
    },
    {
      "cell_type": "markdown",
      "metadata": {
        "id": "LNBA0xwcFlIG"
      },
      "source": [
        "# <font color='red' style='font-size: 30px;'>1.3 Analisis preliminar</font>\n",
        "<hr style='border: 2px solid red;'>"
      ]
    },
    {
      "cell_type": "markdown",
      "metadata": {
        "id": "O1OdS8lNFlIH"
      },
      "source": [
        "## Estadísticos descriptivos\n"
      ]
    },
    {
      "cell_type": "code",
      "execution_count": 5,
      "metadata": {
        "id": "WQTSUTZCFlII"
      },
      "outputs": [
        {
          "data": {
            "text/html": [
              "<div>\n",
              "<style scoped>\n",
              "    .dataframe tbody tr th:only-of-type {\n",
              "        vertical-align: middle;\n",
              "    }\n",
              "\n",
              "    .dataframe tbody tr th {\n",
              "        vertical-align: top;\n",
              "    }\n",
              "\n",
              "    .dataframe thead th {\n",
              "        text-align: right;\n",
              "    }\n",
              "</style>\n",
              "<table border=\"1\" class=\"dataframe\">\n",
              "  <thead>\n",
              "    <tr style=\"text-align: right;\">\n",
              "      <th></th>\n",
              "      <th>Valor</th>\n",
              "      <th>Area</th>\n",
              "      <th>Dist_Playa</th>\n",
              "      <th>Dist_Farmacia</th>\n",
              "    </tr>\n",
              "  </thead>\n",
              "  <tbody>\n",
              "    <tr>\n",
              "      <th>count</th>\n",
              "      <td>5000.00</td>\n",
              "      <td>5000.00</td>\n",
              "      <td>5000.00</td>\n",
              "      <td>5000.00</td>\n",
              "    </tr>\n",
              "    <tr>\n",
              "      <th>mean</th>\n",
              "      <td>259320.95</td>\n",
              "      <td>121.94</td>\n",
              "      <td>3.02</td>\n",
              "      <td>0.50</td>\n",
              "    </tr>\n",
              "    <tr>\n",
              "      <th>std</th>\n",
              "      <td>348108.85</td>\n",
              "      <td>90.54</td>\n",
              "      <td>3.17</td>\n",
              "      <td>0.29</td>\n",
              "    </tr>\n",
              "    <tr>\n",
              "      <th>min</th>\n",
              "      <td>13863.00</td>\n",
              "      <td>16.00</td>\n",
              "      <td>0.00</td>\n",
              "      <td>0.00</td>\n",
              "    </tr>\n",
              "    <tr>\n",
              "      <th>25%</th>\n",
              "      <td>85028.00</td>\n",
              "      <td>70.00</td>\n",
              "      <td>0.44</td>\n",
              "      <td>0.24</td>\n",
              "    </tr>\n",
              "    <tr>\n",
              "      <th>50%</th>\n",
              "      <td>151571.00</td>\n",
              "      <td>93.00</td>\n",
              "      <td>1.48</td>\n",
              "      <td>0.50</td>\n",
              "    </tr>\n",
              "    <tr>\n",
              "      <th>75%</th>\n",
              "      <td>293900.00</td>\n",
              "      <td>146.00</td>\n",
              "      <td>5.61</td>\n",
              "      <td>0.75</td>\n",
              "    </tr>\n",
              "    <tr>\n",
              "      <th>max</th>\n",
              "      <td>4621072.00</td>\n",
              "      <td>2000.00</td>\n",
              "      <td>17.96</td>\n",
              "      <td>1.00</td>\n",
              "    </tr>\n",
              "  </tbody>\n",
              "</table>\n",
              "</div>"
            ],
            "text/plain": [
              "            Valor     Area  Dist_Playa  Dist_Farmacia\n",
              "count     5000.00  5000.00     5000.00        5000.00\n",
              "mean    259320.95   121.94        3.02           0.50\n",
              "std     348108.85    90.54        3.17           0.29\n",
              "min      13863.00    16.00        0.00           0.00\n",
              "25%      85028.00    70.00        0.44           0.24\n",
              "50%     151571.00    93.00        1.48           0.50\n",
              "75%     293900.00   146.00        5.61           0.75\n",
              "max    4621072.00  2000.00       17.96           1.00"
            ]
          },
          "execution_count": 5,
          "metadata": {},
          "output_type": "execute_result"
        }
      ],
      "source": [
        "datos.describe().round(2)"
      ]
    },
    {
      "cell_type": "markdown",
      "metadata": {
        "id": "SPyCvujFFlIJ"
      },
      "source": [
        "## Matriz de correlación\n",
        "\n",
        "<p style='font-size: 18px; line-height: 2; margin: 10px 50px; text-align: justify;'>El <b> coeficiente de correlación </b> es una medida de asociación lineal entre dos variables y su valor está entre <b> -1 </b> y <b> +1 </b>, dónde <b> - 1 </b> indica asociación negativa perfecta y <b> +1 </b> indica asociación positiva perfecta.</p>"
      ]
    },
    {
      "cell_type": "code",
      "execution_count": 6,
      "metadata": {
        "id": "tark05uRFlIK"
      },
      "outputs": [
        {
          "data": {
            "text/html": [
              "<div>\n",
              "<style scoped>\n",
              "    .dataframe tbody tr th:only-of-type {\n",
              "        vertical-align: middle;\n",
              "    }\n",
              "\n",
              "    .dataframe tbody tr th {\n",
              "        vertical-align: top;\n",
              "    }\n",
              "\n",
              "    .dataframe thead th {\n",
              "        text-align: right;\n",
              "    }\n",
              "</style>\n",
              "<table border=\"1\" class=\"dataframe\">\n",
              "  <thead>\n",
              "    <tr style=\"text-align: right;\">\n",
              "      <th></th>\n",
              "      <th>Valor</th>\n",
              "      <th>Area</th>\n",
              "      <th>Dist_Playa</th>\n",
              "      <th>Dist_Farmacia</th>\n",
              "    </tr>\n",
              "  </thead>\n",
              "  <tbody>\n",
              "    <tr>\n",
              "      <th>Valor</th>\n",
              "      <td>1.0000</td>\n",
              "      <td>0.7110</td>\n",
              "      <td>-0.3665</td>\n",
              "      <td>-0.0244</td>\n",
              "    </tr>\n",
              "    <tr>\n",
              "      <th>Area</th>\n",
              "      <td>0.7110</td>\n",
              "      <td>1.0000</td>\n",
              "      <td>-0.2834</td>\n",
              "      <td>-0.0310</td>\n",
              "    </tr>\n",
              "    <tr>\n",
              "      <th>Dist_Playa</th>\n",
              "      <td>-0.3665</td>\n",
              "      <td>-0.2834</td>\n",
              "      <td>1.0000</td>\n",
              "      <td>0.0256</td>\n",
              "    </tr>\n",
              "    <tr>\n",
              "      <th>Dist_Farmacia</th>\n",
              "      <td>-0.0244</td>\n",
              "      <td>-0.0310</td>\n",
              "      <td>0.0256</td>\n",
              "      <td>1.0000</td>\n",
              "    </tr>\n",
              "  </tbody>\n",
              "</table>\n",
              "</div>"
            ],
            "text/plain": [
              "                Valor    Area  Dist_Playa  Dist_Farmacia\n",
              "Valor          1.0000  0.7110     -0.3665        -0.0244\n",
              "Area           0.7110  1.0000     -0.2834        -0.0310\n",
              "Dist_Playa    -0.3665 -0.2834      1.0000         0.0256\n",
              "Dist_Farmacia -0.0244 -0.0310      0.0256         1.0000"
            ]
          },
          "execution_count": 6,
          "metadata": {},
          "output_type": "execute_result"
        }
      ],
      "source": [
        "datos.corr().round(4)"
      ]
    },
    {
      "cell_type": "markdown",
      "metadata": {},
      "source": [
        "> Hay una alta correlacion entre la variable objetivo y las variables _Area_ y _Dist_Playa_.\n",
        "\n",
        "> Las variables eatures no tienen correlacion entre si."
      ]
    },
    {
      "cell_type": "markdown",
      "metadata": {
        "id": "xphhOWDOFlIM"
      },
      "source": [
        "# <font color='red' style='font-size: 30px;'>2.1 Comportamiento de la variable dependiente (Y)</font>\n",
        "<hr style='border: 2px solid red;'>"
      ]
    },
    {
      "cell_type": "markdown",
      "metadata": {
        "id": "YPafmc2jFlIN"
      },
      "source": [
        "## Importando la biblioteca seaborn\n",
        "https://seaborn.pydata.org/\n",
        "<p style='font-size: 18px; line-height: 2; margin: 10px 50px; text-align: justify;'>Seaborn es una biblioteca de visualización de datos de Python basada en matplotlib. Proporciona una interfaz de alto nivel para dibujar gráficos estadísticos.</p>"
      ]
    },
    {
      "cell_type": "code",
      "execution_count": null,
      "metadata": {
        "id": "bYZfJuSQFlIO"
      },
      "outputs": [],
      "source": []
    },
    {
      "cell_type": "markdown",
      "metadata": {
        "id": "WVl_uUtSFlIP"
      },
      "source": [
        "## Configuración del formato de los gráficos"
      ]
    },
    {
      "cell_type": "code",
      "execution_count": null,
      "metadata": {
        "id": "bby91uu2FlIQ"
      },
      "outputs": [],
      "source": [
        "# palette -> Accent, Accent_r, Blues, Blues_r, BrBG, BrBG_r, BuGn, BuGn_r, BuPu, BuPu_r, CMRmap, CMRmap_r, Dark2, Dark2_r, GnBu, GnBu_r, Greens, Greens_r, Greys, Greys_r, OrRd, OrRd_r, Oranges, Oranges_r, PRGn, PRGn_r, Paired, Paired_r, Pastel1, Pastel1_r, Pastel2, Pastel2_r, PiYG, PiYG_r, PuBu, PuBuGn, PuBuGn_r, PuBu_r, PuOr, PuOr_r, PuRd, PuRd_r, Purples, Purples_r, RdBu, RdBu_r, RdGy, RdGy_r, RdPu, RdPu_r, RdYlBu, RdYlBu_r, RdYlGn, RdYlGn_r, Reds, Reds_r, Set1, Set1_r, Set2, Set2_r, Set3, Set3_r, Spectral, Spectral_r, Wistia, Wistia_r, YlGn, YlGnBu, YlGnBu_r, YlGn_r, YlOrBr, YlOrBr_r, YlOrRd, YlOrRd_r, afmhot, afmhot_r, autumn, autumn_r, binary, binary_r, bone, bone_r, brg, brg_r, bwr, bwr_r, cividis, cividis_r, cool, cool_r, coolwarm, coolwarm_r, copper, copper_r, cubehelix, cubehelix_r, flag, flag_r, gist_earth, gist_earth_r, gist_gray, gist_gray_r, gist_heat, gist_heat_r, gist_ncar, gist_ncar_r, gist_rainbow, gist_rainbow_r, gist_stern, gist_stern_r, gist_yarg, gist_yarg_r, gnuplot, gnuplot2, gnuplot2_r, gnuplot_r, gray, gray_r, hot, hot_r, hsv, hsv_r, icefire, icefire_r, inferno, inferno_r, jet, jet_r, magma, magma_r, mako, mako_r, nipy_spectral, nipy_spectral_r, ocean, ocean_r, pink, pink_r, plasma, plasma_r, prism, prism_r, rainbow, rainbow_r, rocket, rocket_r, seismic, seismic_r, spring, spring_r, summer, summer_r, tab10, tab10_r, tab20, tab20_r, tab20b, tab20b_r, tab20c, tab20c_r, terrain, terrain_r, viridis, viridis_r, vlag, vlag_r, winter, winter_r\n",
        "\n",
        "# style -> white, dark, whitegrid, darkgrid, ticks\n"
      ]
    },
    {
      "cell_type": "markdown",
      "metadata": {
        "id": "wnh3z0dqFlIS"
      },
      "source": [
        "## Box plot de la variable *dependiente* (y)"
      ]
    },
    {
      "cell_type": "markdown",
      "metadata": {
        "id": "p0mFUrzAFlIS"
      },
      "source": [
        "<img width='700px' src='https://caelum-online-public.s3.amazonaws.com/ESP-1774-regresion-lineal/Box-Plot.png'>"
      ]
    },
    {
      "cell_type": "markdown",
      "metadata": {
        "id": "dPiy5bp_FlIT"
      },
      "source": [
        "https://seaborn.pydata.org/generated/seaborn.boxplot.html?highlight=boxplot#seaborn.boxplot"
      ]
    },
    {
      "cell_type": "code",
      "execution_count": null,
      "metadata": {
        "id": "pi6rui42FlIU"
      },
      "outputs": [],
      "source": [
        "\n",
        "ax.figure.set_size_inches(20, 5)\n",
        "ax.set_title('Precio de los Inmuebles', fontsize=20)\n",
        "ax.set_xlabel('Dolares', fontsize=16)\n",
        "ax"
      ]
    },
    {
      "cell_type": "markdown",
      "metadata": {
        "id": "2EZVR8RfFlIV"
      },
      "source": [
        "# <font color='red' style='font-size: 30px;'>2.2 Distribución de frecuencias</font>\n",
        "<hr style='border: 2px solid red;'>"
      ]
    },
    {
      "cell_type": "markdown",
      "metadata": {
        "id": "qmxczNoVFlIV"
      },
      "source": [
        "## Distribución de frecuencias de la variable *dependiente* (y)"
      ]
    },
    {
      "cell_type": "markdown",
      "metadata": {
        "id": "OkP3v3dNFlIV"
      },
      "source": [
        "https://seaborn.pydata.org/generated/seaborn.distplot.html?highlight=distplot#seaborn.distplot"
      ]
    },
    {
      "cell_type": "code",
      "execution_count": null,
      "metadata": {
        "id": "dZVlsdpGFlIW"
      },
      "outputs": [],
      "source": [
        "\n",
        "ax.figure.set_size_inches(20, 6)\n",
        "ax.set_title('Distribuición de Frecuencias', fontsize=20)\n",
        "ax.set_xlabel('Precio de los Inmuebles (US$)', fontsize=16)\n",
        "ax"
      ]
    },
    {
      "cell_type": "markdown",
      "metadata": {
        "id": "DMIi5nRmFlIX"
      },
      "source": [
        "<img width='800px' src='https://caelum-online-public.s3.amazonaws.com/ESP-1803-regresion-lineal-tecnicas-avanzadas-modelado/Box-Plot+II.png'>"
      ]
    },
    {
      "cell_type": "markdown",
      "metadata": {
        "id": "M2IMLMODFlIX"
      },
      "source": [
        "# <font color='red' style='font-size: 30px;'>2.3 Dispersión entre las Variables</font>\n",
        "<hr style='border: 2px solid red;'>"
      ]
    },
    {
      "cell_type": "markdown",
      "metadata": {
        "id": "chLIf6CxFlIY"
      },
      "source": [
        "## Gráficos de dispersión entre las variables del dataset"
      ]
    },
    {
      "cell_type": "markdown",
      "metadata": {
        "id": "ZS00xz_0FlIY"
      },
      "source": [
        "## seaborn.pairplot\n",
        "\n",
        "https://seaborn.pydata.org/generated/seaborn.pairplot.html?highlight=pairplot#seaborn.pairplot\n",
        "\n",
        "<p style='font-size: 18px; line-height: 2; margin: 10px 50px; text-align: justify;'>Grafica la relación entre pares de variables en un dataset.</p>"
      ]
    },
    {
      "cell_type": "code",
      "execution_count": null,
      "metadata": {
        "id": "YvYbQSomFlIZ"
      },
      "outputs": [],
      "source": [
        "\n",
        "ax.fig.suptitle('Dispersión entre las Variables', fontsize=20, y=1.05)\n",
        "ax"
      ]
    },
    {
      "cell_type": "code",
      "execution_count": null,
      "metadata": {
        "id": "QWHOTj98FlIZ"
      },
      "outputs": [],
      "source": [
        "\n",
        "ax.fig.suptitle('Dispersión entre las Variables', fontsize=20, y=1.05)\n",
        "ax"
      ]
    },
    {
      "cell_type": "markdown",
      "metadata": {
        "id": "BWreZOVxFlIa"
      },
      "source": [
        "# <font color='red' style='font-size: 30px;'>3.1 Transformando los Datos</font>\n",
        "<hr style='border: 2px solid red;'>"
      ]
    },
    {
      "cell_type": "markdown",
      "metadata": {
        "id": "fVfTIM3MFlIa"
      },
      "source": [
        "## Distribuición Normal\n",
        "<hr>\n",
        "\n",
        "### ¿Porque? \n",
        "<p style='font-size: 18px; line-height: 2; margin: 10px 50px; text-align: justify;'>Tests paramétricos asumen que los datos muestrales se recopilaron de una población con una distribución de probabilidad conocida. Muchos de los tests estadísticos asumen que los datos siguen una distribución normal (t de Student, intervalos de confianza, etc.).</p>\n",
        "\n",
        "\n",
        "\n",
        "\n",
        "\n",
        "<p style='font-size: 18px; line-height: 2; margin: 10px 50px; text-align: justify;'></p>\n",
        "<p style='font-size: 18px; line-height: 2; margin: 10px 50px; text-align: justify;'></p>\n",
        "<p style='font-size: 18px; line-height: 2; margin: 10px 50px; text-align: justify;'></p>\n",
        "<p style='font-size: 18px; line-height: 2; margin: 10px 50px; text-align: justify;'></p>\n",
        "<p style='font-size: 18px; line-height: 2; margin: 10px 50px; text-align: justify;'></p>\n",
        "<p style='font-size: 18px; line-height: 2; margin: 10px 50px; text-align: justify;'></p>\n",
        "<p style='font-size: 18px; line-height: 2; margin: 10px 50px; text-align: justify;'></p>\n",
        "<p style='font-size: 18px; line-height: 2; margin: 10px 50px; text-align: justify;'></p>"
      ]
    },
    {
      "cell_type": "markdown",
      "metadata": {
        "id": "si5MILrIFlIc"
      },
      "source": [
        "## Importando la biblioteca numpy"
      ]
    },
    {
      "cell_type": "code",
      "execution_count": null,
      "metadata": {
        "id": "U7FjDKgCFlIc"
      },
      "outputs": [],
      "source": []
    },
    {
      "cell_type": "markdown",
      "metadata": {
        "id": "GaTxpBGqFlIe"
      },
      "source": [
        "## Aplicando la transformación logarítmica a los datos del *dataset*\n",
        "\n",
        "https://docs.scipy.org/doc/numpy-1.15.0/reference/generated/numpy.log.html"
      ]
    },
    {
      "cell_type": "code",
      "execution_count": null,
      "metadata": {
        "id": "AJr7NUQnFlIf"
      },
      "outputs": [],
      "source": []
    },
    {
      "cell_type": "code",
      "execution_count": null,
      "metadata": {
        "id": "tyoDbAntFlIg"
      },
      "outputs": [],
      "source": []
    },
    {
      "cell_type": "code",
      "execution_count": null,
      "metadata": {
        "id": "XLbST4UlFlIh"
      },
      "outputs": [],
      "source": []
    },
    {
      "cell_type": "markdown",
      "metadata": {
        "id": "HcMKHQ43FlIh"
      },
      "source": [
        "## Distribuición de frecuencias de la variable *dependiente transformada* (y)"
      ]
    },
    {
      "cell_type": "code",
      "execution_count": null,
      "metadata": {
        "id": "6jbHSPU5FlIi"
      },
      "outputs": [],
      "source": [
        "\n",
        "ax.figure.set_size_inches(12, 6)\n",
        "ax.set_title('Distribuición de Frecuencias', fontsize=20)\n",
        "ax.set_xlabel('log del Precio de los Inmuebles', fontsize=16)\n",
        "ax"
      ]
    },
    {
      "cell_type": "markdown",
      "metadata": {
        "id": "Bej9N97WFlIj"
      },
      "source": [
        "# <font color='red' style='font-size: 30px;'>3.2 Comprobando relación lineal</font>\n",
        "<hr style='border: 2px solid red;'>"
      ]
    },
    {
      "cell_type": "markdown",
      "metadata": {
        "id": "99Y297ffFlIj"
      },
      "source": [
        "## Gráficos de dispersión entre las variables transformadas del dataset"
      ]
    },
    {
      "cell_type": "code",
      "execution_count": null,
      "metadata": {
        "id": "NoavoKj7FlIk"
      },
      "outputs": [],
      "source": [
        "\n",
        "ax.fig.suptitle('Dispersión entre las Variables Transformadas', fontsize=20, y=1.05)\n",
        "ax"
      ]
    },
    {
      "cell_type": "markdown",
      "metadata": {
        "id": "7UYBlM0cFlIl"
      },
      "source": [
        "# <font color='red' style='font-size: 30px;'>4.1 Creando los *Datasets* de Entrenamiento y Prueba</font>\n",
        "<hr style='border: 2px solid red;'>"
      ]
    },
    {
      "cell_type": "markdown",
      "metadata": {
        "id": "Qf-pVs7cFlIl"
      },
      "source": [
        "## Importando *train_test_split* de la biblioteca *scikit-learn*\n",
        "\n",
        "https://scikit-learn.org/stable/modules/generated/sklearn.model_selection.train_test_split.html"
      ]
    },
    {
      "cell_type": "code",
      "execution_count": null,
      "metadata": {
        "id": "hfG4_yfxFlIm"
      },
      "outputs": [],
      "source": []
    },
    {
      "cell_type": "markdown",
      "metadata": {
        "id": "YBWiZJFzFlIn"
      },
      "source": [
        "## Creando una Series (pandas) para almacenar el Precio de los Inmubles (y)"
      ]
    },
    {
      "cell_type": "code",
      "execution_count": null,
      "metadata": {
        "id": "J0xGjm9KFlIn"
      },
      "outputs": [],
      "source": []
    },
    {
      "cell_type": "markdown",
      "metadata": {
        "id": "e11VFTQtFlIo"
      },
      "source": [
        "## Creando un DataFrame (pandas) para almacenar las variables explicativas (X)"
      ]
    },
    {
      "cell_type": "code",
      "execution_count": null,
      "metadata": {
        "id": "5wgglZ0pFlIp"
      },
      "outputs": [],
      "source": []
    },
    {
      "cell_type": "markdown",
      "metadata": {
        "id": "vvgWRJUTFlIp"
      },
      "source": [
        "## Creando los datasets de entrenamiento y de prueba"
      ]
    },
    {
      "cell_type": "code",
      "execution_count": null,
      "metadata": {
        "id": "6ZRus0zkFlIq"
      },
      "outputs": [],
      "source": []
    },
    {
      "cell_type": "markdown",
      "metadata": {
        "id": "AkU2ApotFlIq"
      },
      "source": [
        "# Regresión Lineal\n",
        "<hr>\n",
        "\n",
        "<p style='font-size: 20px; line-height: 2; margin: 10px 50px; text-align: justify;'>El análisis de regresión se refiere al estudio de la dependencia de una variable (la variable <b> dependiente </b>) en relación con una o más variables (las variables <b> explicativas </b>) con el fin de estimar y/o predecir el valor medio de la primera en términos de los valores conocidos o fijos de estas últimas.</p>\n",
        "\n",
        "\n",
        "## scikit-learn (https://scikit-learn.org/stable/)\n",
        "\n",
        "<p style='font-size: 20px; line-height: 2; margin: 10px 50px; text-align: justify;'>El *scikit-learn* es un módulo de Python especializado en soluciones para *machine learning*.</p>\n",
        "\n"
      ]
    },
    {
      "cell_type": "markdown",
      "metadata": {
        "id": "Kt9voGShFlIr"
      },
      "source": [
        "<img width='800px' src='https://caelum-online-public.s3.amazonaws.com/ESP-1803-regresion-lineal-tecnicas-avanzadas-modelado/Log-lineal.png'>"
      ]
    },
    {
      "cell_type": "markdown",
      "metadata": {
        "id": "NYfMvfuWFlIs"
      },
      "source": [
        "## Importando la biblioteca statsmodels\n",
        "\n",
        "https://www.statsmodels.org/stable/index.html"
      ]
    },
    {
      "cell_type": "code",
      "execution_count": null,
      "metadata": {
        "id": "tIMBPcUHFlIs"
      },
      "outputs": [],
      "source": []
    },
    {
      "cell_type": "markdown",
      "metadata": {
        "id": "bOWUkv7-FlIt"
      },
      "source": [
        "## Estimando el modelo con statsmodels"
      ]
    },
    {
      "cell_type": "code",
      "execution_count": null,
      "metadata": {
        "id": "I-T1gWLtFlIt"
      },
      "outputs": [],
      "source": []
    },
    {
      "cell_type": "code",
      "execution_count": null,
      "metadata": {
        "id": "v_v702wxFlIu",
        "scrolled": true
      },
      "outputs": [],
      "source": []
    },
    {
      "cell_type": "code",
      "execution_count": null,
      "metadata": {
        "id": "XoAQ3E2bFlIv"
      },
      "outputs": [],
      "source": []
    },
    {
      "cell_type": "markdown",
      "metadata": {
        "id": "aYw43OG6FlIw"
      },
      "source": [
        "# <font color='red' style='font-size: 30px;'>4.2 Evaluando el Modelo Estimado</font>\n",
        "<hr style='border: 2px solid red;'>"
      ]
    },
    {
      "cell_type": "markdown",
      "metadata": {
        "id": "VnMATAGeFlIx"
      },
      "source": [
        "## Evaluando las estadísticas de prueba del modelo\n",
        "\n",
        "### Test de significancia conjunta de los parámetros\n",
        "<p style='font-size: 20px; line-height: 2; margin: 10px 50px; text-align: justify;'>Prob (F-statistic) <= 0.05 (<b>OK</b>)</p>\n",
        "\n",
        "### Test de significancia individual de los parámetros\n",
        "<p style='font-size: 20px; line-height: 2; margin: 10px 50px; text-align: justify;'>P>|t| <= 0.05 (<b>OK</b>)</p>"
      ]
    },
    {
      "cell_type": "code",
      "execution_count": null,
      "metadata": {
        "id": "GS1sjGx0FlIx"
      },
      "outputs": [],
      "source": []
    },
    {
      "cell_type": "markdown",
      "metadata": {
        "id": "x8w4ivpeFlIy"
      },
      "source": [
        "# <font color='red' style='font-size: 30px;'>4.3 Modificando el modelo y reevaluando el ajuste</font> \n",
        "<hr style='border: 2px solid red;'>"
      ]
    },
    {
      "cell_type": "markdown",
      "metadata": {
        "id": "uhpy3ErcFlIy"
      },
      "source": [
        "## Creando un nuevo conjunto de variables explicativas (X)"
      ]
    },
    {
      "cell_type": "code",
      "execution_count": null,
      "metadata": {
        "id": "bcF9MhP5FlIz"
      },
      "outputs": [],
      "source": []
    },
    {
      "cell_type": "markdown",
      "metadata": {
        "id": "v1IkLVSgFlIz"
      },
      "source": [
        "## Creando los datasets de entrenamiento y de prueba"
      ]
    },
    {
      "cell_type": "code",
      "execution_count": null,
      "metadata": {
        "id": "hk1WGDViFlI0"
      },
      "outputs": [],
      "source": []
    },
    {
      "cell_type": "markdown",
      "metadata": {
        "id": "FoQisi3yFlI0"
      },
      "source": [
        "## Estimando el modelo con el statsmodels"
      ]
    },
    {
      "cell_type": "code",
      "execution_count": null,
      "metadata": {
        "id": "TkehwcthFlI1"
      },
      "outputs": [],
      "source": []
    },
    {
      "cell_type": "code",
      "execution_count": null,
      "metadata": {
        "id": "96zm2IIjFlI1"
      },
      "outputs": [],
      "source": []
    },
    {
      "cell_type": "markdown",
      "metadata": {
        "id": "ddYClVtwFlI2"
      },
      "source": [
        "## Evaluando las estadísticas de prueba para el nuevo modelo\n",
        "\n",
        "### Test de significancia conjunta de los parámetros\n",
        "<p style='font-size: 20px; line-height: 2; margin: 10px 50px; text-align: justify;'>Prob (F-statistic) <= 0.05 (<b>OK</b>)</p>\n",
        "\n",
        "### Test de significancia individual de los parámetros\n",
        "<p style='font-size: 20px; line-height: 2; margin: 10px 50px; text-align: justify;'>P>|t| <= 0.05 (<b>OK</b>)</p>"
      ]
    },
    {
      "cell_type": "code",
      "execution_count": null,
      "metadata": {
        "id": "nojd89fQFlI2"
      },
      "outputs": [],
      "source": []
    },
    {
      "cell_type": "markdown",
      "metadata": {
        "id": "65G1o0WAFlI2"
      },
      "source": [
        "# <font color='red' style='font-size: 30px;'>5.1 Estimando el Modelo con los Datos de Entrenamiento</font>\n",
        "<hr style='border: 2px solid red;'>"
      ]
    },
    {
      "cell_type": "markdown",
      "metadata": {
        "id": "nnXWXnkZFlI3"
      },
      "source": [
        "## Importando *LinearRegression* y *metrics* da la biblioteca *scikit-learn*\n",
        "\n",
        "https://scikit-learn.org/stable/modules/generated/sklearn.linear_model.LinearRegression.html\n",
        "\n",
        "https://scikit-learn.org/stable/modules/classes.html#regression-metrics"
      ]
    },
    {
      "cell_type": "code",
      "execution_count": null,
      "metadata": {
        "id": "JwOrTWS8FlI3"
      },
      "outputs": [],
      "source": []
    },
    {
      "cell_type": "markdown",
      "metadata": {
        "id": "1vCaX_54FlI4"
      },
      "source": [
        "## Instanciando la clase *LinearRegression()*"
      ]
    },
    {
      "cell_type": "code",
      "execution_count": null,
      "metadata": {
        "id": "s5ZGfuSIFlI4"
      },
      "outputs": [],
      "source": []
    },
    {
      "cell_type": "markdown",
      "metadata": {
        "id": "NTiVG8AvFlI4"
      },
      "source": [
        "## Utilizando el método *fit()* del objeto \"modelo\" para estimar nuestro modelo lineal con los datos de ENTRENAMIENTO (y_train y X_train)\n",
        "\n",
        "https://scikit-learn.org/stable/modules/generated/sklearn.linear_model.LinearRegression.html#sklearn.linear_model.LinearRegression.fit"
      ]
    },
    {
      "cell_type": "code",
      "execution_count": null,
      "metadata": {
        "id": "xnb7y6icFlI5"
      },
      "outputs": [],
      "source": []
    },
    {
      "cell_type": "markdown",
      "metadata": {
        "id": "FZKLpWcXFlI5"
      },
      "source": [
        "## Obteniendo el coeficiente de determinación (R²) del modelo estimado con los datos de ENTRENAMIENTO\n",
        "\n",
        "\n",
        "https://scikit-learn.org/stable/modules/generated/sklearn.linear_model.LinearRegression.html#sklearn.linear_model.LinearRegression.score\n",
        "\n",
        "### Coeficiente de Determinación - R²\n",
        "\n",
        "El coeficiente de determinación (R²) es una medida de resumen que indica cuánto se ajusta la recta de regresión a los datos. Es un valor entre 0 y 1.\n",
        "\n",
        "\n",
        "$$R^2(y, \\hat{y}) = 1 - \\frac {\\sum_{i=0}^{n-1}(y_i-\\hat{y}_i)^2}{\\sum_{i=0}^{n-1}(y_i-\\bar{y}_i)^2}$$"
      ]
    },
    {
      "cell_type": "code",
      "execution_count": null,
      "metadata": {
        "id": "cu_pADGtFlI6"
      },
      "outputs": [],
      "source": []
    },
    {
      "cell_type": "markdown",
      "metadata": {
        "id": "XMcKya5UFlI6"
      },
      "source": [
        "## Generando predicciones para los datos de PRUEBA (X_test) con el método *predict()* del objeto \"modelo\"\n",
        "\n",
        "https://scikit-learn.org/stable/modules/generated/sklearn.linear_model.LinearRegression.html#sklearn.linear_model.LinearRegression.predict"
      ]
    },
    {
      "cell_type": "code",
      "execution_count": null,
      "metadata": {
        "id": "15_BOdC-FlI6"
      },
      "outputs": [],
      "source": []
    },
    {
      "cell_type": "markdown",
      "metadata": {
        "id": "Dzxt0-odFlI7"
      },
      "source": [
        "## Obteniendo el coeficiente de determinación (R²) para las predicciones del nuestro modelo\n",
        "\n",
        "https://scikit-learn.org/stable/modules/generated/sklearn.metrics.r2_score.html#sklearn.metrics.r2_score"
      ]
    },
    {
      "cell_type": "code",
      "execution_count": null,
      "metadata": {
        "id": "QCkRncKgFlI7"
      },
      "outputs": [],
      "source": []
    },
    {
      "cell_type": "markdown",
      "metadata": {
        "id": "xvDagBLnFlI8"
      },
      "source": [
        "# <font color='red' style='font-size: 30px;'>5.2 Obteniendo Predicciones Puntuales</font>\n",
        "<hr style='border: 2px solid red;'>"
      ]
    },
    {
      "cell_type": "markdown",
      "metadata": {
        "id": "DDqic2OHFlI9"
      },
      "source": [
        "## Datos de entrada"
      ]
    },
    {
      "cell_type": "code",
      "execution_count": null,
      "metadata": {
        "id": "NieywCxIFlI9"
      },
      "outputs": [],
      "source": []
    },
    {
      "cell_type": "markdown",
      "metadata": {
        "id": "P1n4Fm2gFlI_"
      },
      "source": [
        "## Generando predicción puntual"
      ]
    },
    {
      "cell_type": "code",
      "execution_count": null,
      "metadata": {
        "id": "BFgZvzOtFlJA"
      },
      "outputs": [],
      "source": []
    },
    {
      "cell_type": "markdown",
      "metadata": {
        "id": "Jm71jz3YFlJB"
      },
      "source": [
        "## Invirtiendo la transformación para obtener la estimación en US$\n",
        "\n",
        "https://docs.scipy.org/doc/numpy-1.15.0/reference/generated/numpy.exp.html"
      ]
    },
    {
      "cell_type": "code",
      "execution_count": null,
      "metadata": {
        "id": "iBoJJmyFFlJB"
      },
      "outputs": [],
      "source": []
    },
    {
      "cell_type": "markdown",
      "metadata": {
        "id": "QyBhYwjkFlJC"
      },
      "source": [
        "## Creando un simulador simple"
      ]
    },
    {
      "cell_type": "code",
      "execution_count": null,
      "metadata": {
        "id": "qNSQJXz4FlJD"
      },
      "outputs": [],
      "source": []
    },
    {
      "cell_type": "markdown",
      "metadata": {
        "id": "Y0jPocXvFlJE"
      },
      "source": [
        "# <font color='red' style='font-size: 30px;'>5.3 Interpretación de los Coeficientes Estimados</font>\n",
        "<hr style='border: 2px solid red;'>"
      ]
    },
    {
      "cell_type": "markdown",
      "metadata": {
        "id": "qoEM_aS7FlJF"
      },
      "source": [
        "### Obteniendo el intercepto del modelo\n",
        "\n",
        "<p style='font-size: 20px; line-height: 2; margin: 10px 50px; text-align: justify;'>El <b> intercepto </b> representa el efecto medio en $ Y $ (Precio del Inmueble) con todas las variables explicativas excluidas del modelo. En el caso del modelo log-lineal, este coeficiente debe ser transformado utilizando la función exponencial para que sea presentado en US$.</p>"
      ]
    },
    {
      "cell_type": "code",
      "execution_count": null,
      "metadata": {
        "id": "oOrgT4i5FlJG"
      },
      "outputs": [],
      "source": []
    },
    {
      "cell_type": "code",
      "execution_count": null,
      "metadata": {
        "id": "2s-kTQnXFlJI"
      },
      "outputs": [],
      "source": []
    },
    {
      "cell_type": "markdown",
      "metadata": {
        "id": "Iv2UUxUyFlJJ"
      },
      "source": [
        "## Obteniendo los coeficientes de regresión\n",
        "\n",
        "<p style='font-size: 20px; line-height: 2; margin: 10px 50px; text-align: justify;'>Los <b> coeficientes de regresión </b> $\\beta_2$ y $\\beta_3 $ son conocidos como <b> coeficientes de regresión parciales </b> o <b> coeficientes angulares parciales </b>  </p>\n",
        "\n",
        "<p style='font-size: 20px; line-height: 2; margin: 10px 50px; text-align: justify;'>Un aspecto interesante del modelo log-lineal, que lo ha hecho ampliamente utilizado en estudios aplicados, es que los coeficientes angulares $\\beta_2$ y $\\beta_3$ miden las elasticidades de Y en relación a $X_2$ y $X_3$, es decir, la variación porcentual de Y correspondiente a una variación porcentual dada (pequeña ) en $X_2$ y $X_3$.</p>"
      ]
    },
    {
      "cell_type": "code",
      "execution_count": null,
      "metadata": {
        "id": "qY9rpCWAFlJJ"
      },
      "outputs": [],
      "source": []
    },
    {
      "cell_type": "markdown",
      "metadata": {
        "id": "EzYQZ6l0FlJK"
      },
      "source": [
        "## Confirmando el orden de las variables explicativas en el DataFrame"
      ]
    },
    {
      "cell_type": "code",
      "execution_count": null,
      "metadata": {
        "id": "i9jhC5OLFlJL"
      },
      "outputs": [],
      "source": []
    },
    {
      "cell_type": "markdown",
      "metadata": {
        "id": "SCecFxJuFlJM"
      },
      "source": [
        "## Creando una lista de nombres de las variables del modelo"
      ]
    },
    {
      "cell_type": "code",
      "execution_count": null,
      "metadata": {
        "id": "CiCdHryLFlJN"
      },
      "outputs": [],
      "source": []
    },
    {
      "cell_type": "markdown",
      "metadata": {
        "id": "xb-Wqy6oFlJO"
      },
      "source": [
        "## Creando un DataFrame para almacenar los coeficientes del modelo\n",
        "\n",
        "https://docs.scipy.org/doc/numpy/reference/generated/numpy.append.html?#numpy.append"
      ]
    },
    {
      "cell_type": "code",
      "execution_count": null,
      "metadata": {
        "id": "1LG5iTvkFlJP",
        "scrolled": true
      },
      "outputs": [],
      "source": []
    },
    {
      "cell_type": "markdown",
      "metadata": {
        "id": "NCtSpi7PFlJQ"
      },
      "source": [
        "## Interpretación de los Coeficientes Estimados\n",
        "\n",
        "<p style='font-size: 20px; line-height: 2; margin: 10px 50px; text-align: justify;'>\n",
        "<b>Intercepto</b> →  Excluyendo el efecto de las variables explicativas ($X_2=X_3=0$), el efecto medio en el Precio de los Inmuebles seria <b>US$ 2.093,66</b> (exp[7.646667]).\n",
        "</p>\n",
        "\n",
        "<p style='font-size: 20px; line-height: 2; margin: 10px 50px; text-align: justify;'>\n",
        "<b>Área (m²)</b> → Manteniendo constante el valor de $X_3$ (Distancia a la Playa), la adición de 1% en el Área de un inmueble genera, en promedio, un aumento de <b>1.06%</b> en el Precio del Inmueble.\n",
        "</p>\n",
        "\n",
        "<p style='font-size: 20px; line-height: 2; margin: 10px 50px; text-align: justify;'>\n",
        "<b>Distancia a la playa (km)</b> → Manteniendo constante el valor de $X_2$ (Área), la adición de 1% en la Distancia de un inmueble a la playa genera, en promedio, una disminución de <b>0.49%</b> en el Precio del Inmueble.\n",
        "</p>"
      ]
    },
    {
      "cell_type": "markdown",
      "metadata": {
        "id": "X5vyx8xWFlJR"
      },
      "source": [
        "# <font color='red' style='font-size: 30px;'>5.4 Análisis Gráfico de los Resultados del Modelo</font>\n",
        "<hr style='border: 2px solid red;'>"
      ]
    },
    {
      "cell_type": "markdown",
      "metadata": {
        "id": "Yd_r1SRpFlJS"
      },
      "source": [
        "## Generando predicciones del modelo para los datos de ENTRENAMIENTO"
      ]
    },
    {
      "cell_type": "code",
      "execution_count": null,
      "metadata": {
        "id": "Uo8BoQK-FlJT"
      },
      "outputs": [],
      "source": []
    },
    {
      "cell_type": "markdown",
      "metadata": {
        "id": "xcGDDFeSFlJU"
      },
      "source": [
        "## Gráfico de dispersión entre valor estimado y valor real\n",
        "\n",
        "https://seaborn.pydata.org/generated/seaborn.scatterplot.html"
      ]
    },
    {
      "cell_type": "code",
      "execution_count": null,
      "metadata": {
        "id": "FIMkX3_cFlJU"
      },
      "outputs": [],
      "source": [
        "\n",
        "ax.figure.set_size_inches(12, 6)\n",
        "ax.set_title('Predicción X Real', fontsize=18)\n",
        "ax.set_xlabel('log del Precio - Predicción', fontsize=14)\n",
        "ax.set_ylabel('log del Precio - Real', fontsize=14)\n",
        "ax"
      ]
    },
    {
      "cell_type": "markdown",
      "metadata": {
        "id": "xnSLXlTkFlJV"
      },
      "source": [
        "## Obteniendo los residuos"
      ]
    },
    {
      "cell_type": "code",
      "execution_count": null,
      "metadata": {
        "id": "XFTqf-ziFlJW"
      },
      "outputs": [],
      "source": []
    },
    {
      "cell_type": "markdown",
      "metadata": {
        "id": "vxW3vZtyFlJX"
      },
      "source": [
        "## Graficando la distribuición de frecuencias de los residuos"
      ]
    },
    {
      "cell_type": "code",
      "execution_count": null,
      "metadata": {
        "id": "TgDZ_BlQFlJY"
      },
      "outputs": [],
      "source": [
        "\n",
        "ax.figure.set_size_inches(12, 6)\n",
        "ax.set_title('Distribuición de Frecuencias de los Residuos', fontsize=18)\n",
        "ax.set_xlabel('log del Precio', fontsize=14)\n",
        "ax"
      ]
    }
  ],
  "metadata": {
    "colab": {
      "collapsed_sections": [],
      "name": "Regresión_Lineal_II.ipynb",
      "provenance": []
    },
    "kernelspec": {
      "display_name": "data_env",
      "language": "python",
      "name": "python3"
    },
    "language_info": {
      "codemirror_mode": {
        "name": "ipython",
        "version": 3
      },
      "file_extension": ".py",
      "mimetype": "text/x-python",
      "name": "python",
      "nbconvert_exporter": "python",
      "pygments_lexer": "ipython3",
      "version": "3.10.18"
    }
  },
  "nbformat": 4,
  "nbformat_minor": 0
}
