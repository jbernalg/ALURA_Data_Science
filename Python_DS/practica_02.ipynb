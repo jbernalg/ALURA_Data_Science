{
 "cells": [
  {
   "cell_type": "markdown",
   "id": "5c0ae101",
   "metadata": {},
   "source": [
    "### 1. Crea un programa que solicite al usuario que escriba su nombre y luego imprima \"Hola, [nombre].\""
   ]
  },
  {
   "cell_type": "code",
   "execution_count": 1,
   "id": "506e4da4",
   "metadata": {},
   "outputs": [
    {
     "name": "stdout",
     "output_type": "stream",
     "text": [
      "Hola Jose\n"
     ]
    }
   ],
   "source": [
    "nombre = input('Escribe tu nombre: ')\n",
    "print(f'Hola {nombre}')"
   ]
  },
  {
   "cell_type": "markdown",
   "id": "7e4d97f6",
   "metadata": {},
   "source": [
    "### 2. Crea un programa que solicite al usuario que escriba su nombre y edad, y luego imprima \"Hola, [nombre], tienes [edad] años.\""
   ]
  },
  {
   "cell_type": "code",
   "execution_count": 2,
   "id": "6a92242c",
   "metadata": {},
   "outputs": [
    {
     "name": "stdout",
     "output_type": "stream",
     "text": [
      "Hola Jose, tienes 23 años\n"
     ]
    }
   ],
   "source": [
    "nombre = input('Escribe tu nombre: ')\n",
    "edad = input('Escribe tu edad: ')\n",
    "\n",
    "print(f'Hola {nombre}, tienes {edad} años')"
   ]
  },
  {
   "cell_type": "markdown",
   "id": "fd7c1f36",
   "metadata": {},
   "source": [
    "### 3. Crea un programa que solicite al usuario que escriba su nombre, edad y altura en metros, y luego imprima \"Hola, [nombre], tienes [edad] años y mides [altura] metros.\""
   ]
  },
  {
   "cell_type": "code",
   "execution_count": 3,
   "id": "37da06a7",
   "metadata": {},
   "outputs": [
    {
     "name": "stdout",
     "output_type": "stream",
     "text": [
      "Hola Jose, tienes 23 años y mides 1.72 metros\n"
     ]
    }
   ],
   "source": [
    "nombre = input('Escribe tu nombre: ')\n",
    "edad = input('Escribe tu edad: ')\n",
    "altura = input('Escribe tu altura en metro: ')\n",
    "\n",
    "print(f'Hola {nombre}, tienes {edad} años y mides {altura} metros')"
   ]
  },
  {
   "cell_type": "markdown",
   "id": "f3b4d24e",
   "metadata": {},
   "source": [
    "### 4. Crea un programa que solicite dos valores numéricos al usuario y luego imprima la suma de ambos valores."
   ]
  },
  {
   "cell_type": "code",
   "execution_count": 4,
   "id": "c53cbaea",
   "metadata": {},
   "outputs": [
    {
     "name": "stdout",
     "output_type": "stream",
     "text": [
      "La suma de los valores es: 8\n"
     ]
    }
   ],
   "source": [
    "valor1 = int(input('Ingresa un valor entero: '))\n",
    "valor2 = int(input('Ingresa otro valor entero: '))\n",
    "\n",
    "print(f'La suma de los valores es: {valor1+valor2}')"
   ]
  },
  {
   "cell_type": "markdown",
   "id": "21789b86",
   "metadata": {},
   "source": [
    "### 5. Crea un programa que solicite tres valores numéricos al usuario y luego imprima la suma de los tres valores."
   ]
  },
  {
   "cell_type": "code",
   "execution_count": 5,
   "id": "35c3d809",
   "metadata": {},
   "outputs": [
    {
     "name": "stdout",
     "output_type": "stream",
     "text": [
      "La suma de los valores es: 10\n"
     ]
    }
   ],
   "source": [
    "valor1 = int(input('Ingresa un valor entero: '))\n",
    "valor2 = int(input('Ingresa otro valor entero: '))\n",
    "valor3 = int(input('Ingresa un tercer valor entero: '))\n",
    "\n",
    "print(f'La suma de los valores es: {valor1+valor2+valor3}')"
   ]
  },
  {
   "cell_type": "markdown",
   "id": "5e4cf924",
   "metadata": {},
   "source": [
    "### 6. Crea un programa que solicite dos valores numéricos al usuario y luego imprima la resta del primero menos el segundo valor."
   ]
  },
  {
   "cell_type": "code",
   "execution_count": 6,
   "id": "63aaab99",
   "metadata": {},
   "outputs": [
    {
     "name": "stdout",
     "output_type": "stream",
     "text": [
      "La resta del primer valor con el segundo es: 8\n"
     ]
    }
   ],
   "source": [
    "valor1 = int(input('Ingresa un valor entero: '))\n",
    "valor2 = int(input('Ingresa otro valor entero: '))\n",
    "\n",
    "print(f'La resta del primer valor con el segundo es: {valor1-valor2}')"
   ]
  },
  {
   "cell_type": "markdown",
   "id": "2dfbd6ba",
   "metadata": {},
   "source": [
    "### 7. Crea un programa que solicite dos valores numéricos al usuario y luego imprima la multiplicación de los dos valores."
   ]
  },
  {
   "cell_type": "code",
   "execution_count": 7,
   "id": "f468fbf5",
   "metadata": {},
   "outputs": [
    {
     "name": "stdout",
     "output_type": "stream",
     "text": [
      "La multiplicacion de los valores dados es: 18\n"
     ]
    }
   ],
   "source": [
    "valor1 = int(input('Ingresa un valor entero: '))\n",
    "valor2 = int(input('Ingresa otro valor entero: '))\n",
    "\n",
    "print(f'La multiplicacion de los valores dados es: {valor1*valor2}')"
   ]
  },
  {
   "cell_type": "markdown",
   "id": "01dddf1b",
   "metadata": {},
   "source": [
    "### 8. Crea un programa que solicite dos valores numéricos, un numerador y un denominador, y realice la división entre los dos valores. Asegúrate de que el valor del denominador no sea igual a 0."
   ]
  },
  {
   "cell_type": "code",
   "execution_count": null,
   "id": "8a91500a",
   "metadata": {},
   "outputs": [
    {
     "name": "stdout",
     "output_type": "stream",
     "text": [
      "La division de los valores dados es: 2.0\n"
     ]
    }
   ],
   "source": [
    "num = float(input('Ingrese un numero como numerador: '))\n",
    "den = float(input('Ingrese un numero diferente de cero como denominador: '))\n",
    "\n",
    "print(f'La division de los valores dados es: {num/den}')"
   ]
  },
  {
   "cell_type": "markdown",
   "id": "fedb96b6",
   "metadata": {},
   "source": [
    "### 9. Crea un programa que solicite dos valores numéricos, un operador y una potencia, y realice la exponenciación entre estos dos valores."
   ]
  },
  {
   "cell_type": "code",
   "execution_count": 9,
   "id": "16c2cff0",
   "metadata": {},
   "outputs": [
    {
     "name": "stdout",
     "output_type": "stream",
     "text": [
      "La exponenciacion entre los dos valores es: 8\n"
     ]
    }
   ],
   "source": [
    "ope = int(input('Ingrese un numero entero como operador: '))\n",
    "pot =  int(input('Ingrese un numero entero como potencia: '))\n",
    "\n",
    "print(f'La exponenciacion entre los dos valores es: {ope**pot}')"
   ]
  },
  {
   "cell_type": "markdown",
   "id": "c61078b8",
   "metadata": {},
   "source": [
    "### 10. Crea un programa que solicite dos valores numéricos, un numerador y un denominador, y realice la división entera entre los dos valores. Asegúrate de que el valor del denominador no sea igual a 0."
   ]
  },
  {
   "cell_type": "code",
   "execution_count": 11,
   "id": "91a7a0be",
   "metadata": {},
   "outputs": [
    {
     "name": "stdout",
     "output_type": "stream",
     "text": [
      "La division de los valores dados es: 0\n"
     ]
    }
   ],
   "source": [
    "num = int(input('Ingrese un numero entero como numerador: '))\n",
    "den = int(input('Ingrese un numero entero diferente de cero como denominador: '))\n",
    "\n",
    "print(f'La division de los valores dados es: {num//den}')"
   ]
  },
  {
   "cell_type": "markdown",
   "id": "f569e351",
   "metadata": {},
   "source": [
    "### 11. Crea un programa que solicite dos valores numéricos, un numerador y un denominador, y devuelva el resto de la división entre los dos valores. Asegúrate de que el valor del denominador no sea igual a 0."
   ]
  },
  {
   "cell_type": "code",
   "execution_count": 12,
   "id": "e8fdc55c",
   "metadata": {},
   "outputs": [
    {
     "name": "stdout",
     "output_type": "stream",
     "text": [
      "El resto de la division entre los dos valores es: 1\n"
     ]
    }
   ],
   "source": [
    "num = int(input('Ingrese un numero entero como numerador: '))\n",
    "den = int(input('Ingrese un numero entero diferente de cero como denominador: '))\n",
    "\n",
    "print(f'El resto de la division entre los dos valores es: {num%den}')"
   ]
  },
  {
   "cell_type": "markdown",
   "id": "ac57234f",
   "metadata": {},
   "source": [
    "### 12. Crea un código que solicite las 3 notas de un estudiante e imprima el promedio de las notas."
   ]
  },
  {
   "cell_type": "code",
   "execution_count": 13,
   "id": "d2c90298",
   "metadata": {},
   "outputs": [
    {
     "name": "stdout",
     "output_type": "stream",
     "text": [
      "El promedio de las notas es: 16.333333333333332\n"
     ]
    }
   ],
   "source": [
    "nota1 = float(input('Ingrese primera nota: '))\n",
    "nota2 = float(input('Ingrese segunda nota: '))\n",
    "nota3 = float(input('Ingrese tercera nota: '))\n",
    "\n",
    "print(f'El promedio de las notas es: {(nota1+nota2+nota3)/3}')"
   ]
  },
  {
   "cell_type": "markdown",
   "id": "f26abf20",
   "metadata": {},
   "source": [
    "### 13. Crea un código que calcule e imprima el promedio ponderado de los números 5, 12, 20 y 15 con pesos respectivamente iguales a 1, 2, 3 y 4."
   ]
  },
  {
   "cell_type": "code",
   "execution_count": 15,
   "id": "4d596c90",
   "metadata": {},
   "outputs": [
    {
     "name": "stdout",
     "output_type": "stream",
     "text": [
      "El promedio ponderado viene dado por: 37.25\n"
     ]
    }
   ],
   "source": [
    "nota1 = 5\n",
    "nota2 = 12\n",
    "nota3 = 20\n",
    "nota4 = 15\n",
    "\n",
    "peso1 = 1\n",
    "peso2 = 2\n",
    "peso3 = 3\n",
    "peso4 = 4\n",
    "\n",
    "prom_ponderado = (nota1*peso1 + nota2*peso2 + nota3*peso3 + nota4*peso4)/4\n",
    "print(f'El promedio ponderado viene dado por: {prom_ponderado}')"
   ]
  },
  {
   "cell_type": "markdown",
   "id": "de997f98",
   "metadata": {},
   "source": [
    "### 14. Crea una variable llamada \"frase\" y asígnale una cadena de texto de tu elección. Luego, imprime la frase en pantalla."
   ]
  },
  {
   "cell_type": "code",
   "execution_count": 16,
   "id": "e078fdd8",
   "metadata": {},
   "outputs": [
    {
     "name": "stdout",
     "output_type": "stream",
     "text": [
      "Hola mundo nuevo\n"
     ]
    }
   ],
   "source": [
    "frase = 'Hola mundo nuevo'\n",
    "print(frase)"
   ]
  },
  {
   "cell_type": "markdown",
   "id": "8a6a0c46",
   "metadata": {},
   "source": [
    "### 15.  Crea un código que solicite una frase y luego imprima la frase en pantalla."
   ]
  },
  {
   "cell_type": "code",
   "execution_count": 1,
   "id": "1371641e",
   "metadata": {},
   "outputs": [
    {
     "name": "stdout",
     "output_type": "stream",
     "text": [
      "Buenos Dias\n"
     ]
    }
   ],
   "source": [
    "frase = input('Ingrese una frase: ')\n",
    "print(frase)"
   ]
  },
  {
   "cell_type": "markdown",
   "id": "bc89e767",
   "metadata": {},
   "source": [
    "### 16. Crea un código que solicite una frase al usuario y luego imprima la misma frase ingresada pero en mayúsculas."
   ]
  },
  {
   "cell_type": "code",
   "execution_count": 2,
   "id": "954fc444",
   "metadata": {},
   "outputs": [
    {
     "name": "stdout",
     "output_type": "stream",
     "text": [
      "BUENOS DIAS\n"
     ]
    }
   ],
   "source": [
    "frase = input('Ingrese una frase: ')\n",
    "print(frase.upper())"
   ]
  },
  {
   "cell_type": "markdown",
   "id": "88068327",
   "metadata": {},
   "source": [
    "### 17. Crea un código que solicite una frase al usuario y luego imprima la misma frase ingresada pero en minúsculas."
   ]
  },
  {
   "cell_type": "code",
   "execution_count": 3,
   "id": "d8e98288",
   "metadata": {},
   "outputs": [
    {
     "name": "stdout",
     "output_type": "stream",
     "text": [
      "buenas tardes\n"
     ]
    }
   ],
   "source": [
    "frase = input('Ingrese una frase: ')\n",
    "print(frase.lower())"
   ]
  },
  {
   "cell_type": "markdown",
   "id": "8d9f65ae",
   "metadata": {},
   "source": [
    "### 18. Crea una variable llamada \"frase\" y asígnale una cadena de texto de tu elección. Luego, imprime la frase sin espacios en blanco al principio y al final."
   ]
  },
  {
   "cell_type": "code",
   "execution_count": 4,
   "id": "13db9094",
   "metadata": {},
   "outputs": [
    {
     "name": "stdout",
     "output_type": "stream",
     "text": [
      "Buenas noches\n"
     ]
    }
   ],
   "source": [
    "frase = ' Buenas noches '\n",
    "print(frase.strip())"
   ]
  }
 ],
 "metadata": {
  "kernelspec": {
   "display_name": "base",
   "language": "python",
   "name": "python3"
  },
  "language_info": {
   "codemirror_mode": {
    "name": "ipython",
    "version": 3
   },
   "file_extension": ".py",
   "mimetype": "text/x-python",
   "name": "python",
   "nbconvert_exporter": "python",
   "pygments_lexer": "ipython3",
   "version": "3.9.12"
  }
 },
 "nbformat": 4,
 "nbformat_minor": 5
}
