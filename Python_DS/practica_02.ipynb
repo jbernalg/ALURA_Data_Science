{
 "cells": [
  {
   "cell_type": "markdown",
   "id": "5c0ae101",
   "metadata": {},
   "source": [
    "### 1. Crea un programa que solicite al usuario que escriba su nombre y luego imprima \"Hola, [nombre].\""
   ]
  },
  {
   "cell_type": "code",
   "execution_count": 1,
   "id": "506e4da4",
   "metadata": {},
   "outputs": [
    {
     "name": "stdout",
     "output_type": "stream",
     "text": [
      "Hola Jose\n"
     ]
    }
   ],
   "source": [
    "nombre = input('Escribe tu nombre: ')\n",
    "print(f'Hola {nombre}')"
   ]
  },
  {
   "cell_type": "markdown",
   "id": "7e4d97f6",
   "metadata": {},
   "source": [
    "### 2. Crea un programa que solicite al usuario que escriba su nombre y edad, y luego imprima \"Hola, [nombre], tienes [edad] años.\""
   ]
  },
  {
   "cell_type": "code",
   "execution_count": 2,
   "id": "6a92242c",
   "metadata": {},
   "outputs": [
    {
     "name": "stdout",
     "output_type": "stream",
     "text": [
      "Hola Jose, tienes 23 años\n"
     ]
    }
   ],
   "source": [
    "nombre = input('Escribe tu nombre: ')\n",
    "edad = input('Escribe tu edad: ')\n",
    "\n",
    "print(f'Hola {nombre}, tienes {edad} años')"
   ]
  },
  {
   "cell_type": "markdown",
   "id": "fd7c1f36",
   "metadata": {},
   "source": [
    "### 3. Crea un programa que solicite al usuario que escriba su nombre, edad y altura en metros, y luego imprima \"Hola, [nombre], tienes [edad] años y mides [altura] metros.\""
   ]
  },
  {
   "cell_type": "code",
   "execution_count": 3,
   "id": "37da06a7",
   "metadata": {},
   "outputs": [
    {
     "name": "stdout",
     "output_type": "stream",
     "text": [
      "Hola Jose, tienes 23 años y mides 1.72 metros\n"
     ]
    }
   ],
   "source": [
    "nombre = input('Escribe tu nombre: ')\n",
    "edad = input('Escribe tu edad: ')\n",
    "altura = input('Escribe tu altura en metro: ')\n",
    "\n",
    "print(f'Hola {nombre}, tienes {edad} años y mides {altura} metros')"
   ]
  },
  {
   "cell_type": "markdown",
   "id": "f3b4d24e",
   "metadata": {},
   "source": [
    "### 4. Crea un programa que solicite dos valores numéricos al usuario y luego imprima la suma de ambos valores."
   ]
  },
  {
   "cell_type": "code",
   "execution_count": 4,
   "id": "c53cbaea",
   "metadata": {},
   "outputs": [
    {
     "name": "stdout",
     "output_type": "stream",
     "text": [
      "La suma de los valores es: 8\n"
     ]
    }
   ],
   "source": [
    "valor1 = int(input('Ingresa un valor entero: '))\n",
    "valor2 = int(input('Ingresa otro valor entero: '))\n",
    "\n",
    "print(f'La suma de los valores es: {valor1+valor2}')"
   ]
  },
  {
   "cell_type": "markdown",
   "id": "21789b86",
   "metadata": {},
   "source": [
    "### 5. Crea un programa que solicite tres valores numéricos al usuario y luego imprima la suma de los tres valores."
   ]
  },
  {
   "cell_type": "code",
   "execution_count": 5,
   "id": "35c3d809",
   "metadata": {},
   "outputs": [
    {
     "name": "stdout",
     "output_type": "stream",
     "text": [
      "La suma de los valores es: 10\n"
     ]
    }
   ],
   "source": [
    "valor1 = int(input('Ingresa un valor entero: '))\n",
    "valor2 = int(input('Ingresa otro valor entero: '))\n",
    "valor3 = int(input('Ingresa un tercer valor entero: '))\n",
    "\n",
    "print(f'La suma de los valores es: {valor1+valor2+valor3}')"
   ]
  },
  {
   "cell_type": "markdown",
   "id": "5e4cf924",
   "metadata": {},
   "source": [
    "### 6. Crea un programa que solicite dos valores numéricos al usuario y luego imprima la resta del primero menos el segundo valor."
   ]
  },
  {
   "cell_type": "code",
   "execution_count": 6,
   "id": "63aaab99",
   "metadata": {},
   "outputs": [
    {
     "name": "stdout",
     "output_type": "stream",
     "text": [
      "La resta del primer valor con el segundo es: 8\n"
     ]
    }
   ],
   "source": [
    "valor1 = int(input('Ingresa un valor entero: '))\n",
    "valor2 = int(input('Ingresa otro valor entero: '))\n",
    "\n",
    "print(f'La resta del primer valor con el segundo es: {valor1-valor2}')"
   ]
  },
  {
   "cell_type": "markdown",
   "id": "2dfbd6ba",
   "metadata": {},
   "source": [
    "### 7. Crea un programa que solicite dos valores numéricos al usuario y luego imprima la multiplicación de los dos valores."
   ]
  },
  {
   "cell_type": "code",
   "execution_count": 7,
   "id": "f468fbf5",
   "metadata": {},
   "outputs": [
    {
     "name": "stdout",
     "output_type": "stream",
     "text": [
      "La multiplicacion de los valores dados es: 18\n"
     ]
    }
   ],
   "source": [
    "valor1 = int(input('Ingresa un valor entero: '))\n",
    "valor2 = int(input('Ingresa otro valor entero: '))\n",
    "\n",
    "print(f'La multiplicacion de los valores dados es: {valor1*valor2}')"
   ]
  },
  {
   "cell_type": "markdown",
   "id": "01dddf1b",
   "metadata": {},
   "source": [
    "### 8. Crea un programa que solicite dos valores numéricos, un numerador y un denominador, y realice la división entre los dos valores. Asegúrate de que el valor del denominador no sea igual a 0."
   ]
  },
  {
   "cell_type": "code",
   "execution_count": null,
   "id": "8a91500a",
   "metadata": {},
   "outputs": [
    {
     "name": "stdout",
     "output_type": "stream",
     "text": [
      "La division de los valores dados es: 2.0\n"
     ]
    }
   ],
   "source": [
    "num = float(input('Ingrese un numero como numerador: '))\n",
    "den = float(input('Ingrese un numero diferente de cero como denominador: '))\n",
    "\n",
    "print(f'La division de los valores dados es: {num/den}')"
   ]
  },
  {
   "cell_type": "markdown",
   "id": "fedb96b6",
   "metadata": {},
   "source": [
    "### 9. Crea un programa que solicite dos valores numéricos, un operador y una potencia, y realice la exponenciación entre estos dos valores."
   ]
  },
  {
   "cell_type": "code",
   "execution_count": 9,
   "id": "16c2cff0",
   "metadata": {},
   "outputs": [
    {
     "name": "stdout",
     "output_type": "stream",
     "text": [
      "La exponenciacion entre los dos valores es: 8\n"
     ]
    }
   ],
   "source": [
    "ope = int(input('Ingrese un numero entero como operador: '))\n",
    "pot =  int(input('Ingrese un numero entero como potencia: '))\n",
    "\n",
    "print(f'La exponenciacion entre los dos valores es: {ope**pot}')"
   ]
  },
  {
   "cell_type": "markdown",
   "id": "c61078b8",
   "metadata": {},
   "source": [
    "### 10. Crea un programa que solicite dos valores numéricos, un numerador y un denominador, y realice la división entera entre los dos valores. Asegúrate de que el valor del denominador no sea igual a 0."
   ]
  },
  {
   "cell_type": "code",
   "execution_count": 11,
   "id": "91a7a0be",
   "metadata": {},
   "outputs": [
    {
     "name": "stdout",
     "output_type": "stream",
     "text": [
      "La division de los valores dados es: 0\n"
     ]
    }
   ],
   "source": [
    "num = int(input('Ingrese un numero entero como numerador: '))\n",
    "den = int(input('Ingrese un numero entero diferente de cero como denominador: '))\n",
    "\n",
    "print(f'La division de los valores dados es: {num//den}')"
   ]
  }
 ],
 "metadata": {
  "kernelspec": {
   "display_name": "base",
   "language": "python",
   "name": "python3"
  },
  "language_info": {
   "codemirror_mode": {
    "name": "ipython",
    "version": 3
   },
   "file_extension": ".py",
   "mimetype": "text/x-python",
   "name": "python",
   "nbconvert_exporter": "python",
   "pygments_lexer": "ipython3",
   "version": "3.9.12"
  }
 },
 "nbformat": 4,
 "nbformat_minor": 5
}
