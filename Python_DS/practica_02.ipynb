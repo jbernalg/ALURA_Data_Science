{
 "cells": [
  {
   "cell_type": "markdown",
   "id": "5c0ae101",
   "metadata": {},
   "source": [
    "### 1. Crea un programa que solicite al usuario que escriba su nombre y luego imprima \"Hola, [nombre].\""
   ]
  },
  {
   "cell_type": "code",
   "execution_count": 1,
   "id": "506e4da4",
   "metadata": {},
   "outputs": [
    {
     "name": "stdout",
     "output_type": "stream",
     "text": [
      "Hola Jose\n"
     ]
    }
   ],
   "source": [
    "nombre = input('Escribe tu nombre: ')\n",
    "print(f'Hola {nombre}')"
   ]
  },
  {
   "cell_type": "markdown",
   "id": "7e4d97f6",
   "metadata": {},
   "source": [
    "### 2. Crea un programa que solicite al usuario que escriba su nombre y edad, y luego imprima \"Hola, [nombre], tienes [edad] años.\""
   ]
  },
  {
   "cell_type": "code",
   "execution_count": 2,
   "id": "6a92242c",
   "metadata": {},
   "outputs": [
    {
     "name": "stdout",
     "output_type": "stream",
     "text": [
      "Hola Jose, tienes 23 años\n"
     ]
    }
   ],
   "source": [
    "nombre = input('Escribe tu nombre: ')\n",
    "edad = input('Escribe tu edad: ')\n",
    "\n",
    "print(f'Hola {nombre}, tienes {edad} años')"
   ]
  },
  {
   "cell_type": "markdown",
   "id": "fd7c1f36",
   "metadata": {},
   "source": [
    "### 3. Crea un programa que solicite al usuario que escriba su nombre, edad y altura en metros, y luego imprima \"Hola, [nombre], tienes [edad] años y mides [altura] metros.\""
   ]
  },
  {
   "cell_type": "code",
   "execution_count": 3,
   "id": "37da06a7",
   "metadata": {},
   "outputs": [
    {
     "name": "stdout",
     "output_type": "stream",
     "text": [
      "Hola Jose, tienes 23 años y mides 1.72 metros\n"
     ]
    }
   ],
   "source": [
    "nombre = input('Escribe tu nombre: ')\n",
    "edad = input('Escribe tu edad: ')\n",
    "altura = input('Escribe tu altura en metro: ')\n",
    "\n",
    "print(f'Hola {nombre}, tienes {edad} años y mides {altura} metros')"
   ]
  },
  {
   "cell_type": "markdown",
   "id": "f3b4d24e",
   "metadata": {},
   "source": [
    "### 4. Crea un programa que solicite dos valores numéricos al usuario y luego imprima la suma de ambos valores."
   ]
  },
  {
   "cell_type": "code",
   "execution_count": 4,
   "id": "c53cbaea",
   "metadata": {},
   "outputs": [
    {
     "name": "stdout",
     "output_type": "stream",
     "text": [
      "La suma de los valores es: 8\n"
     ]
    }
   ],
   "source": [
    "valor1 = int(input('Ingresa un valor entero: '))\n",
    "valor2 = int(input('Ingresa otro valor entero: '))\n",
    "\n",
    "print(f'La suma de los valores es: {valor1+valor2}')"
   ]
  }
 ],
 "metadata": {
  "kernelspec": {
   "display_name": "base",
   "language": "python",
   "name": "python3"
  },
  "language_info": {
   "codemirror_mode": {
    "name": "ipython",
    "version": 3
   },
   "file_extension": ".py",
   "mimetype": "text/x-python",
   "name": "python",
   "nbconvert_exporter": "python",
   "pygments_lexer": "ipython3",
   "version": "3.9.12"
  }
 },
 "nbformat": 4,
 "nbformat_minor": 5
}
