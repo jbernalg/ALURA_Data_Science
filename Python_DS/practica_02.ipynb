{
 "cells": [
  {
   "cell_type": "markdown",
   "id": "5c0ae101",
   "metadata": {},
   "source": [
    "### 1. Crea un programa que solicite al usuario que escriba su nombre y luego imprima \"Hola, [nombre].\""
   ]
  },
  {
   "cell_type": "code",
   "execution_count": 1,
   "id": "506e4da4",
   "metadata": {},
   "outputs": [
    {
     "name": "stdout",
     "output_type": "stream",
     "text": [
      "Hola Jose\n"
     ]
    }
   ],
   "source": [
    "nombre = input('Escribe tu nombre: ')\n",
    "print(f'Hola {nombre}')"
   ]
  },
  {
   "cell_type": "markdown",
   "id": "7e4d97f6",
   "metadata": {},
   "source": [
    "### 2. Crea un programa que solicite al usuario que escriba su nombre y edad, y luego imprima \"Hola, [nombre], tienes [edad] años.\""
   ]
  },
  {
   "cell_type": "code",
   "execution_count": 2,
   "id": "6a92242c",
   "metadata": {},
   "outputs": [
    {
     "name": "stdout",
     "output_type": "stream",
     "text": [
      "Hola Jose, tienes 23 años\n"
     ]
    }
   ],
   "source": [
    "nombre = input('Escribe tu nombre: ')\n",
    "edad = input('Escribe tu edad: ')\n",
    "\n",
    "print(f'Hola {nombre}, tienes {edad} años')"
   ]
  }
 ],
 "metadata": {
  "kernelspec": {
   "display_name": "base",
   "language": "python",
   "name": "python3"
  },
  "language_info": {
   "codemirror_mode": {
    "name": "ipython",
    "version": 3
   },
   "file_extension": ".py",
   "mimetype": "text/x-python",
   "name": "python",
   "nbconvert_exporter": "python",
   "pygments_lexer": "ipython3",
   "version": "3.9.12"
  }
 },
 "nbformat": 4,
 "nbformat_minor": 5
}
