{
 "cells": [
  {
   "cell_type": "markdown",
   "id": "1b5f3921",
   "metadata": {},
   "source": [
    "### 1. Haz un programa que solicite a la persona usuaria ingresar dos números decimales y calcular la división entre estos números. El código debe incluir un manejo de error, indicando el tipo de error que se generó si la división no es posible.\n",
    "\n",
    "Prueba el programa con el segundo valor numérico de la entrada igual a 0. También prueba usando caracteres textuales en la entrada para verificar los tipos de errores que ocurren."
   ]
  },
  {
   "cell_type": "code",
   "execution_count": null,
   "id": "c9e4a55e",
   "metadata": {},
   "outputs": [],
   "source": []
  },
  {
   "cell_type": "markdown",
   "id": "36638de6",
   "metadata": {},
   "source": [
    "### 2. Haz un programa que solicite a la persona usuaria ingresar un texto que será una clave a buscar en el siguiente diccionario: edades = {'Júlia': 16, 'Carol': 23, 'Alberto': 19, 'Roberta': 17}, almacenando el resultado del valor en una variable. El código debe incluir un manejo de error KeyError, imprimiendo la información 'Nombre no encontrado' en caso de error, e imprimir el valor si no ocurre ninguno.\n",
    "\n",
    "Prueba el programa con un nombre presente en una de las claves del diccionario y con uno que no esté en el diccionario para verificar el mensaje de error."
   ]
  },
  {
   "cell_type": "code",
   "execution_count": null,
   "id": "c3859677",
   "metadata": {},
   "outputs": [],
   "source": []
  },
  {
   "cell_type": "markdown",
   "id": "1957b5fd",
   "metadata": {},
   "source": [
    "### 3. rea una función que reciba una lista como parámetro y convierta todos los valores de la lista a flotantes. La función debe incluir un manejo de error indicando el tipo de error generado y devolver la lista si no ha ocurrido ningún error. Por último, debe tener la cláusula finally para imprimir el texto: 'Fin de la ejecución de la función'."
   ]
  },
  {
   "cell_type": "markdown",
   "id": "34457443",
   "metadata": {},
   "source": []
  },
  {
   "cell_type": "markdown",
   "id": "4e11ead5",
   "metadata": {},
   "source": [
    "### 4. Crea una función que reciba dos listas como parámetros y agrupe los elementos uno a uno de las listas, formando una lista de tuplas de 3 elementos. El primer y segundo elemento de la tupla son los valores en la posición i de las listas y el tercer elemento es la suma de los valores en la posición i de las listas.\n",
    "\n",
    "La función debe incluir un manejo de error indicando el tipo de error generado y devolver como resultado la lista de tuplas. Si las listas enviadas como parámetro tienen tamaños diferentes, la función debe devolver un IndexError con la frase: 'La cantidad de elementos en cada lista es diferente.'.\n",
    "\n",
    "Datos para probar la función:\n",
    "\n",
    "Valores sin error:"
   ]
  },
  {
   "cell_type": "code",
   "execution_count": 1,
   "id": "fe23005f",
   "metadata": {},
   "outputs": [],
   "source": [
    "lista1 = [4, 6, 7, 9, 10]\n",
    "lista2 = [-4, 6, 8, 7, 9]"
   ]
  },
  {
   "cell_type": "markdown",
   "id": "5ba00a2d",
   "metadata": {},
   "source": [
    "Listas con tamaños diferentes:"
   ]
  },
  {
   "cell_type": "code",
   "execution_count": 2,
   "id": "ce4478d7",
   "metadata": {},
   "outputs": [],
   "source": [
    "lista1 = [4, 6, 7, 9, 10, 4]\n",
    "lista2 = [-4, 6, 8, 7, 9]"
   ]
  },
  {
   "cell_type": "markdown",
   "id": "fa94ec7d",
   "metadata": {},
   "source": [
    "Listas con valores incoherentes:"
   ]
  },
  {
   "cell_type": "code",
   "execution_count": 3,
   "id": "59e937b7",
   "metadata": {},
   "outputs": [],
   "source": [
    "lista1 = [4, 6, 7, 9, 'A']\n",
    "lista2 = [-4, 'E', 8, 7, 9]"
   ]
  },
  {
   "cell_type": "markdown",
   "id": "c9b69e00",
   "metadata": {},
   "source": [
    "### 5. Como desafío, se te ha asignado la tarea de desarrollar un código que contabiliza las puntuaciones de estudiantes de una institución educativa de acuerdo con sus respuestas en una prueba. Este código debe ser probado para un ejemplo de 3 estudiantes con una lista de listas en la que cada lista tiene las respuestas de 5 preguntas objetivas de cada estudiante. Cada pregunta vale un punto y las alternativas posibles son A, B, C o D.\n",
    "\n",
    "Si alguna alternativa en una de las pruebas no está entre las alternativas posibles, debes lanzar un ValueError con el mensaje \"La alternativa [alternativa] no es una opción de alternativa válida\". El cálculo de las 3 notas solo se realizará mediante las entradas con las alternativas A, B, C o D en todas las pruebas. Si no se lanza la excepción, se mostrará una lista con las notas en cada prueba.\n",
    "\n",
    "Datos para la prueba del código:\n",
    "\n",
    "Respuestas de la prueba:"
   ]
  },
  {
   "cell_type": "code",
   "execution_count": 4,
   "id": "44a9ee3c",
   "metadata": {},
   "outputs": [],
   "source": [
    "respuestas = ['D', 'A', 'B', 'C', 'A']"
   ]
  },
  {
   "cell_type": "markdown",
   "id": "b20d5be6",
   "metadata": {},
   "source": [
    "A continuación, hay 2 listas de listas que puedes usar como prueba:\n",
    "\n",
    "Notas sin excepción:"
   ]
  },
  {
   "cell_type": "code",
   "execution_count": 5,
   "id": "d34e8cac",
   "metadata": {},
   "outputs": [],
   "source": [
    "tests_sin_ex = [['D', 'A', 'B', 'C', 'A'], ['C', 'A', 'A', 'C', 'A'], ['D', 'B', 'A', 'C', 'A']]"
   ]
  },
  {
   "cell_type": "markdown",
   "id": "e3065f9b",
   "metadata": {},
   "source": [
    "Notas con excepción:"
   ]
  },
  {
   "cell_type": "code",
   "execution_count": 6,
   "id": "944b6ac0",
   "metadata": {},
   "outputs": [],
   "source": [
    "tests_con_ex = [['D', 'A', 'B', 'C', 'A'], ['C', 'A', 'A', 'E', 'A'], ['D', 'B', 'A', 'C', 'A']]"
   ]
  },
  {
   "cell_type": "markdown",
   "id": "e2b7d5e8",
   "metadata": {},
   "source": [
    "### 6. Estás trabajando con procesamiento de lenguaje natural (NLP) y, en esta ocasión, tu líder te pidió que crees un fragmento de código que reciba una lista con las palabras separadas de una frase generada por ChatGPT.\n",
    "\n",
    "Necesitas crear una función que evalúe cada palabra de este texto y verifique si el tratamiento para quitar los símbolos de puntuación (',', '.', '!' y '?') se realizó. De lo contrario, se lanzará una excepción del tipo ValueError señalando el primer caso en que se detectó el uso de una puntuación a través de la frase \"El texto presenta puntuaciones en la palabra \"[palabra]\"\". Esta solicitud se centra en el análisis del patrón de frases generadas por la inteligencia artificial.\n",
    "\n",
    "Datos para probar el código:\n",
    "\n",
    "Lista tratada:"
   ]
  },
  {
   "cell_type": "code",
   "execution_count": 7,
   "id": "50d5e7ae",
   "metadata": {},
   "outputs": [],
   "source": [
    "lista_tratada = ['Python', 'es', 'un', 'lenguaje', 'de', 'programación', 'poderoso', 'versátil',\n",
    "                  'y', 'fácil', 'de', 'aprender', 'utilizado', 'en', 'diversos', 'campos', 'desde',\n",
    "                  'análisis', 'de', 'datos', 'hasta', 'inteligencia', 'artificial']"
   ]
  },
  {
   "cell_type": "markdown",
   "id": "72a9d285",
   "metadata": {},
   "source": [
    "Lista no tratada:"
   ]
  },
  {
   "cell_type": "code",
   "execution_count": 8,
   "id": "025fc2bb",
   "metadata": {},
   "outputs": [],
   "source": [
    "lista_no_tratada = ['Python', 'es', 'un', 'lenguaje', 'de', 'programación', 'poderoso,', 'versátil',\n",
    "                  'y', 'fácil,', 'de', 'aprender', 'utilizado', 'en', 'diversos', 'campos,', 'desde',\n",
    "                  'análisis', 'de', 'datos', 'hasta', 'inteligencia', 'artificial!']"
   ]
  }
 ],
 "metadata": {
  "kernelspec": {
   "display_name": "base",
   "language": "python",
   "name": "python3"
  },
  "language_info": {
   "codemirror_mode": {
    "name": "ipython",
    "version": 3
   },
   "file_extension": ".py",
   "mimetype": "text/x-python",
   "name": "python",
   "nbconvert_exporter": "python",
   "pygments_lexer": "ipython3",
   "version": "3.9.12"
  }
 },
 "nbformat": 4,
 "nbformat_minor": 5
}
