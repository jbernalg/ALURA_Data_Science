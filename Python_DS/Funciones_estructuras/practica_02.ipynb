{
 "cells": [
  {
   "cell_type": "markdown",
   "id": "0ed468a3",
   "metadata": {},
   "source": [
    "### 1. Escribe un código que lee la lista siguiente y realiza:"
   ]
  },
  {
   "cell_type": "code",
   "execution_count": null,
   "id": "1d48adec",
   "metadata": {},
   "outputs": [],
   "source": [
    "lista = [16, 14, 63, 65, 17, 99, 70, 11, 20, 48, 79, 32, 17, 89, 12, 25, 66]\n",
    "# 1. Leer el tamaño de la lista\n",
    "# 2. Leer el valor máximo y mínimo\n",
    "# 3. Calcular la suma de los valores de la lista\n",
    "# 4. Mostrar un mensaje al final: La lista tiene `tamano` números, donde el mayor \n",
    "# es `mayor` y el menor es `menor`. La suma de los valores es `suma`."
   ]
  },
  {
   "cell_type": "markdown",
   "metadata": {},
   "source": [
    "### 2. Escribe una función que genere la tabla de multiplicar de un número entero del 1 al 10, según la elección del usuario. Como ejemplo, para el número 7, la tabla de multiplicar se debe mostrar en el siguiente formato:"
   ]
  },
  {
   "cell_type": "code",
   "execution_count": null,
   "id": "42809947",
   "metadata": {},
   "outputs": [],
   "source": [
    "# Tabla del  7:\n",
    "# 7 x 0 = 0\n",
    "# 7 x 1 = 7\n",
    "# [...]\n",
    "# 7 x 10 = 70"
   ]
  },
  {
   "cell_type": "markdown",
   "id": "824032be",
   "metadata": {},
   "source": [
    "### 3. Crea una función que lea la siguiente lista y devuelva una nueva lista con los múltiplos de 3:"
   ]
  },
  {
   "cell_type": "code",
   "execution_count": null,
   "id": "3ab8b636",
   "metadata": {},
   "outputs": [],
   "source": [
    "[97, 80, 94, 88, 80, 1, 16, 53, 62, 32, 24, 99]"
   ]
  },
  {
   "cell_type": "markdown",
   "id": "a9a2ade8",
   "metadata": {},
   "source": [
    "### 4. Crea una lista de los cuadrados de los números de la siguiente lista [1, 2, 3, 4, 5, 6, 7, 8, 9, 10]. Recuerda utilizar las funciones lambda y map() para calcular el cuadrado de cada elemento de la lista."
   ]
  },
  {
   "cell_type": "code",
   "execution_count": null,
   "id": "dd4af430",
   "metadata": {},
   "outputs": [],
   "source": []
  },
  {
   "cell_type": "markdown",
   "id": "c70f71e1",
   "metadata": {},
   "source": [
    "### 5.  Has sido contratado como científico(a) de datos de una asociación de skate. Para analizar las notas recibidas por los skaters en algunas competiciones a lo largo del año, necesitas crear un código que calcule la puntuación de los atletas. Para ello, tu código debe recibir 5 notas ingresadas por los jueces."
   ]
  },
  {
   "cell_type": "code",
   "execution_count": null,
   "id": "c6044ae6",
   "metadata": {},
   "outputs": [],
   "source": []
  },
  {
   "cell_type": "markdown",
   "id": "9c12c9f1",
   "metadata": {},
   "source": [
    "### 6. Para cumplir con una demanda de una institución educativa para el análisis del rendimiento de sus estudiantes, necesitas crear una función que reciba una lista de 4 notas y devuelva:"
   ]
  },
  {
   "cell_type": "code",
   "execution_count": null,
   "id": "3e3dea09",
   "metadata": {},
   "outputs": [],
   "source": [
    "# mayor nota\n",
    "# menor nota\n",
    "# media\n",
    "# situación (Aprobado(a) o Reprobado(a))\n",
    "# Uso de la función\n",
    "# Mostrar: El estudiante obtuvo una media de `media`, con la mayor nota de `mayor` puntos y la menor nota de `menor` puntos y fue `situacion`.)"
   ]
  },
  {
   "cell_type": "markdown",
   "id": "9905b85d",
   "metadata": {},
   "source": [
    "### 7. Has recibido una demanda para tratar 2 listas con los nombres y apellidos de cada estudiante concatenándolos para presentar sus nombres completos en la forma Nombre Apellido. Las listas son:"
   ]
  },
  {
   "cell_type": "code",
   "execution_count": null,
   "id": "482fba03",
   "metadata": {},
   "outputs": [],
   "source": [
    "nombres = [\"juan\", \"MaRia\", \"JOSÉ\"]\n",
    "apellidos = [\"SILVA\", \"sosa\", \"Tavares\"]\n",
    "\n",
    "# Normalizar nombres y apellidos y crear una nueva lista con los nombres completos\n",
    "# Puedes apoyarte en la función map()"
   ]
  },
  {
   "cell_type": "markdown",
   "id": "a7045888",
   "metadata": {},
   "source": [
    "### 8. Como científico de datos en un equipo de fútbol, necesitas implementar nuevas formas de recopilación de datos sobre el rendimiento de los jugadores y del equipo en su conjunto. Tu primera acción es crear una forma de calcular la puntuación del equipo en el campeonato nacional a partir de los datos de goles marcados y recibidos en cada juego."
   ]
  },
  {
   "cell_type": "markdown",
   "id": "464f8d5f",
   "metadata": {},
   "source": [
    "Escribe una función llamada calcula_puntos() que recibe como parámetros dos listas de números enteros, representando los goles marcados y recibidos por el equipo en cada partido del campeonato. La función debe devolver la puntuación del equipo y el rendimiento en porcentaje, teniendo en cuenta que la victoria vale 3 puntos, el empate 1 punto y la derrota 0 puntos.\n",
    "\n",
    "Nota: si la cantidad de goles marcados en un partido es mayor que los recibidos, el equipo ganó. En caso de ser igual, el equipo empató, y si es menor, el equipo perdió. Para calcular el rendimiento, debemos hacer la razón entre la puntuación del equipo y la puntuación máxima que podría recibir.\n",
    "\n",
    "Para la prueba, utiliza las siguientes listas de goles marcados y recibidos:"
   ]
  },
  {
   "cell_type": "code",
   "execution_count": 1,
   "id": "2e16a97d",
   "metadata": {},
   "outputs": [],
   "source": [
    "goles_marcados = [2, 1, 3, 1, 0]\n",
    "goles_recibidos = [1, 2, 2, 1, 3]\n",
    "# Texto probablemente mostrado:\n",
    "# La puntuación del equipo fue `puntos` y su rendimiento fue `desempeno`%\""
   ]
  },
  {
   "cell_type": "markdown",
   "id": "39d8ed17",
   "metadata": {},
   "source": [
    "### 9. Te han desafiado a crear un código que calcule los gastos de un viaje a una de las cuatro ciudades desde Recife, siendo ellas: Salvador, Fortaleza, Natal y Aracaju."
   ]
  },
  {
   "cell_type": "markdown",
   "id": "0970e682",
   "metadata": {},
   "source": [
    "El costo diario del hotel es de 150 reales en todas ellas y el consumo de gasolina en el viaje en coche es de 14 km/l, siendo que el precio de la gasolina es de 5 reales por litro. Los gastos con paseos y alimentación a realizar en cada una de ellas por día serían [200, 400, 250, 300], respectivamente.\n",
    "\n",
    "Sabiendo que las distancias entre Recife y cada una de las ciudades son aproximadamente [850, 800, 300, 550] km, crea tres funciones: la primera función calcula los gastos de hotel (gasto_hotel), la segunda calcula los gastos de gasolina (gasto_gasolina) y la tercera los gastos de paseo y alimentación (gasto_paseo).\n",
    "\n",
    "Para probar, simula un viaje de 3 días a Salvador desde Recife. Considera el viaje de ida y vuelta en coche."
   ]
  },
  {
   "cell_type": "code",
   "execution_count": 2,
   "id": "5baaf9a8",
   "metadata": {},
   "outputs": [],
   "source": [
    "# Texto probablemente mostrado:\n",
    "# Con base en los gastos definidos, un viaje de [dias] días a [ciudad] desde \n",
    "# Recife costaría [gastos] reales."
   ]
  },
  {
   "cell_type": "markdown",
   "id": "13ca05fd",
   "metadata": {},
   "source": [
    "### 10. Has comenzado una pasantía en una empresa que trabaja con procesamiento de lenguaje natural (NLP)"
   ]
  },
  {
   "cell_type": "markdown",
   "id": "190d17c7",
   "metadata": {},
   "source": [
    "Tu líder te solicitó que crees un fragmento de código que reciba una frase escrita por el usuario y filtre solo las palabras con un tamaño mayor o igual a 5, mostrándolas en una lista. Esta demanda se centra en el análisis del patrón de comportamiento de las personas al escribir palabras de esta cantidad de caracteres o más.\n",
    "\n",
    "Consejo: utiliza las funciones lambda y filter() para filtrar estas palabras. Recordando que la función integrada filter() recibe una función (en nuestro caso, una función lambda) y filtra un iterable según la función. Para tratar la frase, utiliza replace() para cambiar ',' '.', '!' y '?' por espacio.\n",
    "\n",
    "Utiliza la frase \"Aprender Python aquí en Alura es muy bueno\" para probar el código."
   ]
  }
 ],
 "metadata": {
  "kernelspec": {
   "display_name": "base",
   "language": "python",
   "name": "python3"
  },
  "language_info": {
   "codemirror_mode": {
    "name": "ipython",
    "version": 3
   },
   "file_extension": ".py",
   "mimetype": "text/x-python",
   "name": "python",
   "nbconvert_exporter": "python",
   "pygments_lexer": "ipython3",
   "version": "3.9.12"
  }
 },
 "nbformat": 4,
 "nbformat_minor": 5
}
