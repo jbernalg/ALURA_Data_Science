{
 "cells": [
  {
   "cell_type": "markdown",
   "id": "748803e5",
   "metadata": {},
   "source": [
    "### 1. Escribe un código para instalar la versión 3.7.1 de la biblioteca matplotlib."
   ]
  },
  {
   "cell_type": "markdown",
   "metadata": {},
   "source": []
  },
  {
   "cell_type": "markdown",
   "id": "4b5cac17",
   "metadata": {},
   "source": [
    "### 2. Escribe un código para importar la biblioteca numpy con el alias np."
   ]
  },
  {
   "cell_type": "code",
   "execution_count": null,
   "id": "0b06b4cd",
   "metadata": {
    "vscode": {
     "languageId": "plaintext"
    }
   },
   "outputs": [],
   "source": []
  },
  {
   "cell_type": "markdown",
   "id": "21f9a99b",
   "metadata": {},
   "source": [
    "### 3. Crea un programa que lea la siguiente lista de números y elija uno al azar.\n",
    "\n",
    "lista = [8, 12, 54, 23, 43, 1, 90, 87, 105, 77]"
   ]
  },
  {
   "cell_type": "code",
   "execution_count": null,
   "id": "a84e0157",
   "metadata": {
    "vscode": {
     "languageId": "plaintext"
    }
   },
   "outputs": [],
   "source": []
  },
  {
   "cell_type": "markdown",
   "id": "9f53ae8c",
   "metadata": {},
   "source": [
    "### 4.  Crea un programa que genere aleatoriamente un número entero menor que 100."
   ]
  },
  {
   "cell_type": "code",
   "execution_count": null,
   "id": "e83a6d50",
   "metadata": {
    "vscode": {
     "languageId": "plaintext"
    }
   },
   "outputs": [],
   "source": []
  },
  {
   "cell_type": "markdown",
   "id": "8355ac90",
   "metadata": {},
   "source": [
    "### 5. Crea un programa que solicite a la persona usuaria ingresar dos números enteros y calcule la potencia del primer número elevado al segundo."
   ]
  },
  {
   "cell_type": "code",
   "execution_count": null,
   "id": "e0b0555f",
   "metadata": {
    "vscode": {
     "languageId": "plaintext"
    }
   },
   "outputs": [],
   "source": []
  },
  {
   "cell_type": "markdown",
   "id": "3435eca8",
   "metadata": {},
   "source": [
    "### 6. Se debe escribir un programa para sortear a un seguidor de una red social para ganar un premio. La lista de participantes está numerada y debemos elegir aleatoriamente un número según la cantidad de participantes. Pide a la persona usuaria que proporcione el número de participantes del sorteo y devuelve el número sorteado."
   ]
  },
  {
   "cell_type": "code",
   "execution_count": null,
   "id": "373233db",
   "metadata": {
    "vscode": {
     "languageId": "plaintext"
    }
   },
   "outputs": [],
   "source": []
  },
  {
   "cell_type": "markdown",
   "id": "aec2e790",
   "metadata": {},
   "source": [
    "### 7. Has recibido una solicitud para generar números de token para acceder a la aplicación de una empresa. El token debe ser par y variar de 1000 a 9998. Escribe un código que solicite el nombre de la persona usuaria y muestre un mensaje junto a este token generado aleatoriamente.\n",
    "\n",
    "print(f\"Hola, {nombre_usuario}, tu token de acceso es {token_generado} ¡Bienvenido/a!\")"
   ]
  },
  {
   "cell_type": "code",
   "execution_count": null,
   "id": "f202dc8c",
   "metadata": {
    "vscode": {
     "languageId": "plaintext"
    }
   },
   "outputs": [],
   "source": []
  },
  {
   "cell_type": "markdown",
   "id": "13c0a2dc",
   "metadata": {},
   "source": [
    "### 8. Para diversificar y atraer nuevos clientes, una lanchonete creó un ítem misterioso en su menú llamado \"ensalada de frutas sorpresa\". En este ítem, se eligen aleatoriamente 3 frutas de una lista de 12 para componer la ensalada de frutas del cliente. Crea el código que realice esta selección aleatoria según la lista dada.\n",
    "\n",
    "frutas = [\"manzana\", \"banana\", \"uva\", \"pera\", \"mango\", \"coco\", \"sandia\", \"fresa\", \"naranja\", \"maracuya\", \"kiwi\", \"cereza\"]"
   ]
  },
  {
   "cell_type": "code",
   "execution_count": null,
   "id": "61bf0e02",
   "metadata": {
    "vscode": {
     "languageId": "plaintext"
    }
   },
   "outputs": [],
   "source": []
  },
  {
   "cell_type": "markdown",
   "id": "9c8e9be6",
   "metadata": {},
   "source": [
    "### 9. Has recibido un desafío para calcular la raíz cuadrada de una lista de números, identificando cuáles resultan en un número entero. La lista es la siguiente:\n",
    "\n",
    "numeros = [2, 8, 15, 23, 91, 112, 256]"
   ]
  },
  {
   "cell_type": "code",
   "execution_count": null,
   "id": "704276ef",
   "metadata": {
    "vscode": {
     "languageId": "plaintext"
    }
   },
   "outputs": [],
   "source": []
  },
  {
   "cell_type": "markdown",
   "id": "01455205",
   "metadata": {},
   "source": [
    "### 10. Haz un programa para una tienda que vende césped para jardines. Esta tienda trabaja con jardines circulares y el precio del metro cuadrado de césped es de R$ 25,00. Pide a la persona usuaria el radio del área circular y devuelve el valor en reales de cuánto tendrá que pagar."
   ]
  }
 ],
 "metadata": {
  "language_info": {
   "name": "python"
  }
 },
 "nbformat": 4,
 "nbformat_minor": 5
}
