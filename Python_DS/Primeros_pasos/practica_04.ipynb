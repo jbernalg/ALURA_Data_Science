{
 "cells": [
  {
   "cell_type": "markdown",
   "id": "2396426b",
   "metadata": {},
   "source": [
    "### 1. Escribe un programa que solicite dos números enteros e imprima todos los números enteros entre ellos."
   ]
  },
  {
   "cell_type": "code",
   "execution_count": null,
   "id": "358dc63e",
   "metadata": {
    "vscode": {
     "languageId": "plaintext"
    }
   },
   "outputs": [],
   "source": []
  },
  {
   "cell_type": "markdown",
   "id": "e68ca3c2",
   "metadata": {},
   "source": [
    "### 2. Escribe un programa para calcular cuántos días tomará que la colonia de una bacteria A supere o iguale a la colonia de una bacteria B, basado en tasas de crecimiento del 3% y 1.5%, respectivamente. Supón que la colonia A comienza con 4 elementos y B con 10."
   ]
  },
  {
   "cell_type": "code",
   "execution_count": null,
   "id": "8d9d086f",
   "metadata": {
    "vscode": {
     "languageId": "plaintext"
    }
   },
   "outputs": [],
   "source": []
  },
  {
   "cell_type": "markdown",
   "id": "900bd477",
   "metadata": {},
   "source": [
    "### 3.  Para procesar una cantidad de 15 datos de evaluaciones de usuarios de un servicio de la empresa, necesitamos verificar si las calificaciones son válidas. Por lo tanto, escribe un programa que recibirá calificaciones del 0 al 5 y verificará si son valores válidos. Si se ingresa una calificación superior a 5 o inferior a 0, se repetirá hasta que el usuario ingrese un valor válido."
   ]
  },
  {
   "cell_type": "code",
   "execution_count": null,
   "id": "4544904d",
   "metadata": {
    "vscode": {
     "languageId": "plaintext"
    }
   },
   "outputs": [],
   "source": []
  },
  {
   "cell_type": "markdown",
   "id": "fb167b92",
   "metadata": {},
   "source": [
    "### 4. Desarrolla un programa que lea un conjunto indefinido de temperaturas en grados Celsius y calcule su promedio. La lectura debe detenerse al ingresar el valor -273°C."
   ]
  },
  {
   "cell_type": "code",
   "execution_count": null,
   "id": "62bdf8be",
   "metadata": {
    "vscode": {
     "languageId": "plaintext"
    }
   },
   "outputs": [],
   "source": []
  },
  {
   "cell_type": "markdown",
   "id": "95059dc2",
   "metadata": {},
   "source": [
    "### 5. Escribe un programa que calcule el factorial de un número entero proporcionado por el usuario. Recuerda que el factorial de un número entero es el producto de ese número por todos sus antecesores hasta llegar al número 1. Por ejemplo, el factorial de 5 es 5 x 4 x 3 x 2 x 1 = 120."
   ]
  },
  {
   "cell_type": "code",
   "execution_count": null,
   "id": "e1df3385",
   "metadata": {
    "vscode": {
     "languageId": "plaintext"
    }
   },
   "outputs": [],
   "source": []
  },
  {
   "cell_type": "markdown",
   "id": "37442388",
   "metadata": {},
   "source": [
    "### 6. Escribe un programa que calcule el factorial de un número entero proporcionado por el usuario. Recuerda que el factorial de un número entero es el producto de ese número por todos sus antecesores hasta llegar al número 1. Por ejemplo, el factorial de 5 es 5 x 4 x 3 x 2 x 1 = 120.\n",
    "\n",
    "Tabla de multiplicar del 2:\n",
    "\n",
    "2 x 1 = 2\n",
    "\n",
    "2 x 2 = 4\n",
    "\n",
    "[...]\n",
    "\n",
    "2 x 10 = 20"
   ]
  },
  {
   "cell_type": "code",
   "execution_count": null,
   "id": "6bad5903",
   "metadata": {
    "vscode": {
     "languageId": "plaintext"
    }
   },
   "outputs": [],
   "source": []
  },
  {
   "cell_type": "markdown",
   "id": "a7ca1395",
   "metadata": {},
   "source": [
    "### 7. Los números primos tienen diversas aplicaciones en Ciencia de Datos, como en criptografía y seguridad. Un número primo es aquel que es divisible solo por sí mismo y por 1. Por lo tanto, crea un programa que solicite un número entero y determine si es un número primo o no."
   ]
  },
  {
   "cell_type": "code",
   "execution_count": null,
   "id": "6a3fe3a6",
   "metadata": {
    "vscode": {
     "languageId": "plaintext"
    }
   },
   "outputs": [],
   "source": []
  },
  {
   "cell_type": "markdown",
   "id": "694ce54c",
   "metadata": {},
   "source": [
    "### 8. Vamos a comprender la distribución de edades de los pensionistas de una empresa de seguros. Escribe un programa que lea las edades de una cantidad no informada de clientes y muestre la distribución en los intervalos [0-25], [26-50], [51-75] y [76-100]. La entrada de datos se detendrá al ingresar un número negativo."
   ]
  },
  {
   "cell_type": "code",
   "execution_count": null,
   "id": "c9a9dc6e",
   "metadata": {
    "vscode": {
     "languageId": "plaintext"
    }
   },
   "outputs": [],
   "source": []
  },
  {
   "cell_type": "markdown",
   "id": "4e4af52c",
   "metadata": {},
   "source": [
    "### 9. En una elección para la gerencia de una empresa con 20 empleados, hay cuatro candidatos. Escribe un programa que calcule al ganador de la elección. La votación se realizó de la siguiente manera:\n",
    "\n",
    "- Cada empleado votó por uno de los cuatro candidatos (representados por los números 1, 2, 3 y 4).\n",
    "\n",
    "- También se contaron los votos nulos (representados por el número 5) y los votos en blanco (representados por el número 6).\n",
    "\n",
    "- Al final de la votación, el programa debe mostrar el número total de votos para cada candidato, los votos nulos y los votos en blanco. Además, debe calcular y mostrar el porcentaje de votos nulos con respecto al total de votos y el porcentaje de votos en blanco con respecto al total de votos."
   ]
  }
 ],
 "metadata": {
  "language_info": {
   "name": "python"
  }
 },
 "nbformat": 4,
 "nbformat_minor": 5
}
