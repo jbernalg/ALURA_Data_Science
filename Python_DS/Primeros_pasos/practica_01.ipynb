{
 "cells": [
  {
   "cell_type": "markdown",
   "metadata": {},
   "source": [
    "### 1. Imprime la frase \"Escuela de Datos de Alura\"."
   ]
  },
  {
   "cell_type": "code",
   "execution_count": 1,
   "metadata": {},
   "outputs": [
    {
     "name": "stdout",
     "output_type": "stream",
     "text": [
      "Escuela de Datos de Alura\n"
     ]
    }
   ],
   "source": [
    "print(\"Escuela de Datos de Alura\")"
   ]
  },
  {
   "cell_type": "markdown",
   "metadata": {},
   "source": [
    "### 2. Imprime tu nombre y tu apellido siguiendo la estructura a continuación:"
   ]
  },
  {
   "cell_type": "code",
   "execution_count": 2,
   "metadata": {},
   "outputs": [
    {
     "name": "stdout",
     "output_type": "stream",
     "text": [
      "Nombre: Jeinfferson\n",
      "Apellido: Bernal\n"
     ]
    }
   ],
   "source": [
    "print('Nombre: Jeinfferson')\n",
    "print('Apellido: Bernal')"
   ]
  },
  {
   "cell_type": "markdown",
   "metadata": {},
   "source": [
    "### 3. Imprime tu primer nombre letra por letra"
   ]
  },
  {
   "cell_type": "code",
   "execution_count": 4,
   "metadata": {},
   "outputs": [
    {
     "name": "stdout",
     "output_type": "stream",
     "text": [
      "J\n",
      "E\n",
      "I\n",
      "N\n",
      "F\n",
      "F\n",
      "E\n",
      "R\n",
      "S\n",
      "O\n",
      "N\n"
     ]
    }
   ],
   "source": [
    "print('J')\n",
    "print('E')\n",
    "print('I')\n",
    "print('N')\n",
    "print('F')\n",
    "print('F')\n",
    "print('E')\n",
    "print('R')\n",
    "print('S')\n",
    "print('O')\n",
    "print('N')"
   ]
  },
  {
   "cell_type": "markdown",
   "metadata": {},
   "source": [
    "### 4. Imprime tu fecha de nacimiento en formato día mes año."
   ]
  },
  {
   "cell_type": "code",
   "execution_count": 5,
   "metadata": {},
   "outputs": [
    {
     "name": "stdout",
     "output_type": "stream",
     "text": [
      "28 Febrero 1994\n"
     ]
    }
   ],
   "source": [
    "print(28, 'Febrero', 1994)"
   ]
  },
  {
   "cell_type": "markdown",
   "metadata": {},
   "source": [
    "### 5. Imprime, en una sola instrucción print, el año actual en el que estás realizando este curso. El valor del año debe ser un dato numérico"
   ]
  },
  {
   "cell_type": "code",
   "execution_count": 7,
   "metadata": {},
   "outputs": [
    {
     "name": "stdout",
     "output_type": "stream",
     "text": [
      "Año actual:  2025\n"
     ]
    }
   ],
   "source": [
    "print('Año actual: ',2025)"
   ]
  }
 ],
 "metadata": {
  "kernelspec": {
   "display_name": "data",
   "language": "python",
   "name": "python3"
  },
  "language_info": {
   "codemirror_mode": {
    "name": "ipython",
    "version": 3
   },
   "file_extension": ".py",
   "mimetype": "text/x-python",
   "name": "python",
   "nbconvert_exporter": "python",
   "pygments_lexer": "ipython3",
   "version": "3.10.8"
  }
 },
 "nbformat": 4,
 "nbformat_minor": 2
}
