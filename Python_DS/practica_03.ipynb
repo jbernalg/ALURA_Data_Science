{
 "cells": [
  {
   "cell_type": "markdown",
   "id": "f4c5cb1b",
   "metadata": {},
   "source": [
    "### 1. Escribe un programa que pida a la persona usuaria que proporcione dos números y muestre el número más grande."
   ]
  },
  {
   "cell_type": "code",
   "execution_count": null,
   "id": "02a61996",
   "metadata": {},
   "outputs": [
    {
     "name": "stdout",
     "output_type": "stream",
     "text": [
      "7\n"
     ]
    }
   ],
   "source": [
    "num1 = int(input('Ingrese un numero entero: '))\n",
    "num2 = int(input('Ingrese un numero entero: '))\n",
    "\n",
    "if num1 > num2:\n",
    "    print(num1)\n",
    "elif num1 < num2:\n",
    "    print(num2)\n",
    "else:\n",
    "    print('ambos son iguales')"
   ]
  },
  {
   "cell_type": "markdown",
   "id": "3ce7e129",
   "metadata": {},
   "source": [
    "### 2. Escribe un programa que solicite el porcentaje de crecimiento de producción de una empresa e informe si hubo un crecimiento (porcentaje positivo) o una disminución (porcentaje negativo)."
   ]
  },
  {
   "cell_type": "code",
   "execution_count": 4,
   "id": "f4f3b3eb",
   "metadata": {},
   "outputs": [
    {
     "name": "stdout",
     "output_type": "stream",
     "text": [
      "Hubo un crecimiento!\n"
     ]
    }
   ],
   "source": [
    "pct_crecimineto = float(input('Ingrese el porcentaje de crecimiento: '))\n",
    "\n",
    "if pct_crecimineto > 0:\n",
    "    print('Hubo un crecimiento!')\n",
    "else:\n",
    "    print('Hubo una disminucion')"
   ]
  },
  {
   "cell_type": "markdown",
   "id": "7393299f",
   "metadata": {},
   "source": [
    "### 3. Escribe un programa que determine si una letra proporcionada por la persona usuaria es una vocal o una consonante."
   ]
  },
  {
   "cell_type": "code",
   "execution_count": 7,
   "id": "31724559",
   "metadata": {},
   "outputs": [
    {
     "name": "stdout",
     "output_type": "stream",
     "text": [
      "Es una vocal\n"
     ]
    }
   ],
   "source": [
    "vocales = 'aeiou'\n",
    "letra = input('Ingrese una letra: ')\n",
    "\n",
    "if letra in vocales:\n",
    "    print('Es una vocal')\n",
    "else:\n",
    "    print('Es una consonante')"
   ]
  },
  {
   "cell_type": "markdown",
   "id": "5af414a5",
   "metadata": {},
   "source": [
    "### 4. Escribe un programa que lea valores promedio de precios de un modelo de automóvil durante 3 años consecutivos y muestre el valor más alto y más bajo entre esos tres años."
   ]
  },
  {
   "cell_type": "code",
   "execution_count": 8,
   "id": "f8c6a375",
   "metadata": {},
   "outputs": [
    {
     "name": "stdout",
     "output_type": "stream",
     "text": [
      "El precio mas alto es 23.0. \n",
      "El precio mas bajo es 12.0\n"
     ]
    }
   ],
   "source": [
    "precio1 = float(input('Ingrese el precio promedio del primer año: '))\n",
    "precio2 = float(input('Ingrese el precio promedio del segundo año: '))\n",
    "precio3 = float(input('Ingrese el precio promedio del tercer año: '))\n",
    "\n",
    "maximo = precio1\n",
    "minimo = precio1\n",
    "\n",
    "# encontrar maximo\n",
    "if precio2 > maximo:\n",
    "    maximo = precio2\n",
    "if precio3 > maximo:\n",
    "    maximo > precio3\n",
    "\n",
    "# encontrar minimo\n",
    "if precio2 < minimo:\n",
    "    minimo = precio2\n",
    "if precio3 < minimo:\n",
    "    minimo = precio3\n",
    "\n",
    "print(f'El precio mas alto es {maximo}. \\nEl precio mas bajo es {minimo}')"
   ]
  },
  {
   "cell_type": "markdown",
   "id": "4c1b019e",
   "metadata": {},
   "source": [
    "### 5. Escribe un programa que pregunte sobre el precio de tres productos e indique cuál es el producto más barato para comprar."
   ]
  },
  {
   "cell_type": "code",
   "execution_count": 9,
   "id": "3d37f534",
   "metadata": {},
   "outputs": [
    {
     "name": "stdout",
     "output_type": "stream",
     "text": [
      "El tercer producto es el mas barato con un precio de 1.0\n"
     ]
    }
   ],
   "source": [
    "prod1 = float(input('Indique el precio del primer producto: '))\n",
    "prod2 = float(input('Indique el precio del segundo producto: '))\n",
    "prod3 = float(input('Indique el precio del tercer producto: '))\n",
    "\n",
    "if prod1 <= prod2 and prod1 <= prod3:\n",
    "    print('El primer producto es el mas barato con un precio de', prod1)\n",
    "elif prod2 <= prod1 and prod2 <= prod3:\n",
    "    print('El segundo producto es el masa barato con un precio de', prod2)\n",
    "else:\n",
    "    print('El tercer producto es el mas barato con un precio de', prod3)"
   ]
  },
  {
   "cell_type": "markdown",
   "id": "edc80a3e",
   "metadata": {},
   "source": [
    "### 6. Escribe un programa que lea tres números y los muestre en orden descendente."
   ]
  },
  {
   "cell_type": "code",
   "execution_count": 11,
   "id": "057a6965",
   "metadata": {},
   "outputs": [
    {
     "name": "stdout",
     "output_type": "stream",
     "text": [
      "6.0, 6.0, 6.0\n"
     ]
    }
   ],
   "source": [
    "num1 = float(input('Ingrese primer numero: '))\n",
    "num2 = float(input('Ingrese segundo numero: '))\n",
    "num3 = float(input('Ingrese tercer numero: '))\n",
    "\n",
    "if (num1 >= num2) and (num1 >= num3):\n",
    "    if (num2 >= num3):\n",
    "        print(f'{num1}, {num2}, {num3}')\n",
    "    else:\n",
    "        print(f'{num1}, {num3}, {num2}')\n",
    "elif (num2 >= num1) and (num2 >= num3):\n",
    "    if (num1 >= num3):\n",
    "        print(f'{num2}, {num1}, {num3}')\n",
    "    else:\n",
    "        print(f'{num2}, {num3}, {num1}')\n",
    "elif (num3 >= num1) and (num3 >= num2):\n",
    "    if (num1 >= num2):\n",
    "        print(f'{num3}, {num1}, {num2}')\n",
    "    else:\n",
    "        print(f'{num3}, {num2}, {num1}')"
   ]
  },
  {
   "cell_type": "markdown",
   "id": "0734a16a",
   "metadata": {},
   "source": [
    "### 7. Escribe un programa que pregunte en qué turno estudia la persona usuaria (\"mañana\", \"tarde\" o \"noche\") y muestre el mensaje \"¡Buenos Días!\", \"¡Buenas Tardes!\", \"¡Buenas Noches!\" o \"Valor Inválido!\", según el caso."
   ]
  },
  {
   "cell_type": "code",
   "execution_count": 3,
   "id": "c27686c3",
   "metadata": {},
   "outputs": [
    {
     "name": "stdout",
     "output_type": "stream",
     "text": [
      "Valor invalido\n"
     ]
    }
   ],
   "source": [
    "turno = input('En que turno estudias: \\nMañana \\nTarde \\nNoche')\n",
    "\n",
    "if turno.lower().strip() == 'mañana':\n",
    "    print('Buenos Dias!')\n",
    "elif turno.lower().strip() == 'tarde':\n",
    "    print('Buenas Tardes!')\n",
    "elif turno.lower().strip() == 'noche':\n",
    "    print('Buenas Noche!')\n",
    "else:\n",
    "    print('Valor invalido')"
   ]
  },
  {
   "cell_type": "markdown",
   "id": "ae3d15dc",
   "metadata": {},
   "source": [
    "### 8. Escribe un programa que solicite un número entero a la persona usuaria y determine si es par o impar. Pista: Puedes usar el operador módulo (%)."
   ]
  },
  {
   "cell_type": "code",
   "execution_count": 6,
   "id": "a8501e20",
   "metadata": {},
   "outputs": [
    {
     "name": "stdout",
     "output_type": "stream",
     "text": [
      "Es par!\n"
     ]
    }
   ],
   "source": [
    "num = int(input('Ingrese un numero entero: '))\n",
    "\n",
    "if num%2 == 0:\n",
    "    print('Es par!')\n",
    "else:\n",
    "    print('Es impar')"
   ]
  }
 ],
 "metadata": {
  "kernelspec": {
   "display_name": "base",
   "language": "python",
   "name": "python3"
  },
  "language_info": {
   "codemirror_mode": {
    "name": "ipython",
    "version": 3
   },
   "file_extension": ".py",
   "mimetype": "text/x-python",
   "name": "python",
   "nbconvert_exporter": "python",
   "pygments_lexer": "ipython3",
   "version": "3.9.12"
  }
 },
 "nbformat": 4,
 "nbformat_minor": 5
}
