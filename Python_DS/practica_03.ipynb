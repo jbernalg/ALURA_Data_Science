{
 "cells": [
  {
   "cell_type": "markdown",
   "id": "f4c5cb1b",
   "metadata": {},
   "source": [
    "### 1. Escribe un programa que pida a la persona usuaria que proporcione dos números y muestre el número más grande."
   ]
  },
  {
   "cell_type": "code",
   "execution_count": null,
   "id": "02a61996",
   "metadata": {},
   "outputs": [
    {
     "name": "stdout",
     "output_type": "stream",
     "text": [
      "7\n"
     ]
    }
   ],
   "source": [
    "num1 = int(input('Ingrese un numero entero: '))\n",
    "num2 = int(input('Ingrese un numero entero: '))\n",
    "\n",
    "if num1 > num2:\n",
    "    print(num1)\n",
    "elif num1 < num2:\n",
    "    print(num2)\n",
    "else:\n",
    "    print('ambos son iguales')"
   ]
  },
  {
   "cell_type": "markdown",
   "id": "3ce7e129",
   "metadata": {},
   "source": [
    "### 2. Escribe un programa que solicite el porcentaje de crecimiento de producción de una empresa e informe si hubo un crecimiento (porcentaje positivo) o una disminución (porcentaje negativo)."
   ]
  },
  {
   "cell_type": "code",
   "execution_count": 4,
   "id": "f4f3b3eb",
   "metadata": {},
   "outputs": [
    {
     "name": "stdout",
     "output_type": "stream",
     "text": [
      "Hubo un crecimiento!\n"
     ]
    }
   ],
   "source": [
    "pct_crecimineto = float(input('Ingrese el porcentaje de crecimiento: '))\n",
    "\n",
    "if pct_crecimineto > 0:\n",
    "    print('Hubo un crecimiento!')\n",
    "else:\n",
    "    print('Hubo una disminucion')"
   ]
  }
 ],
 "metadata": {
  "kernelspec": {
   "display_name": "base",
   "language": "python",
   "name": "python3"
  },
  "language_info": {
   "codemirror_mode": {
    "name": "ipython",
    "version": 3
   },
   "file_extension": ".py",
   "mimetype": "text/x-python",
   "name": "python",
   "nbconvert_exporter": "python",
   "pygments_lexer": "ipython3",
   "version": "3.9.12"
  }
 },
 "nbformat": 4,
 "nbformat_minor": 5
}
