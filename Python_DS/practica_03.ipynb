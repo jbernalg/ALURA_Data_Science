{
 "cells": [
  {
   "cell_type": "markdown",
   "id": "f4c5cb1b",
   "metadata": {},
   "source": [
    "### 1. Escribe un programa que pida a la persona usuaria que proporcione dos números y muestre el número más grande."
   ]
  },
  {
   "cell_type": "code",
   "execution_count": null,
   "id": "02a61996",
   "metadata": {},
   "outputs": [
    {
     "name": "stdout",
     "output_type": "stream",
     "text": [
      "7\n"
     ]
    }
   ],
   "source": [
    "num1 = int(input('Ingrese un numero entero: '))\n",
    "num2 = int(input('Ingrese un numero entero: '))\n",
    "\n",
    "if num1 > num2:\n",
    "    print(num1)\n",
    "elif num1 < num2:\n",
    "    print(num2)\n",
    "else:\n",
    "    print('ambos son iguales')"
   ]
  },
  {
   "cell_type": "markdown",
   "id": "3ce7e129",
   "metadata": {},
   "source": [
    "### 2. Escribe un programa que solicite el porcentaje de crecimiento de producción de una empresa e informe si hubo un crecimiento (porcentaje positivo) o una disminución (porcentaje negativo)."
   ]
  },
  {
   "cell_type": "code",
   "execution_count": 4,
   "id": "f4f3b3eb",
   "metadata": {},
   "outputs": [
    {
     "name": "stdout",
     "output_type": "stream",
     "text": [
      "Hubo un crecimiento!\n"
     ]
    }
   ],
   "source": [
    "pct_crecimineto = float(input('Ingrese el porcentaje de crecimiento: '))\n",
    "\n",
    "if pct_crecimineto > 0:\n",
    "    print('Hubo un crecimiento!')\n",
    "else:\n",
    "    print('Hubo una disminucion')"
   ]
  },
  {
   "cell_type": "markdown",
   "id": "7393299f",
   "metadata": {},
   "source": [
    "### 3. Escribe un programa que determine si una letra proporcionada por la persona usuaria es una vocal o una consonante."
   ]
  },
  {
   "cell_type": "code",
   "execution_count": 7,
   "id": "31724559",
   "metadata": {},
   "outputs": [
    {
     "name": "stdout",
     "output_type": "stream",
     "text": [
      "Es una vocal\n"
     ]
    }
   ],
   "source": [
    "vocales = 'aeiou'\n",
    "letra = input('Ingrese una letra: ')\n",
    "\n",
    "if letra in vocales:\n",
    "    print('Es una vocal')\n",
    "else:\n",
    "    print('Es una consonante')"
   ]
  },
  {
   "cell_type": "markdown",
   "id": "5af414a5",
   "metadata": {},
   "source": [
    "### 4. Escribe un programa que lea valores promedio de precios de un modelo de automóvil durante 3 años consecutivos y muestre el valor más alto y más bajo entre esos tres años."
   ]
  },
  {
   "cell_type": "code",
   "execution_count": 8,
   "id": "f8c6a375",
   "metadata": {},
   "outputs": [
    {
     "name": "stdout",
     "output_type": "stream",
     "text": [
      "El precio mas alto es 23.0. \n",
      "El precio mas bajo es 12.0\n"
     ]
    }
   ],
   "source": [
    "precio1 = float(input('Ingrese el precio promedio del primer año: '))\n",
    "precio2 = float(input('Ingrese el precio promedio del segundo año: '))\n",
    "precio3 = float(input('Ingrese el precio promedio del tercer año: '))\n",
    "\n",
    "maximo = precio1\n",
    "minimo = precio1\n",
    "\n",
    "# encontrar maximo\n",
    "if precio2 > maximo:\n",
    "    maximo = precio2\n",
    "if precio3 > maximo:\n",
    "    maximo > precio3\n",
    "\n",
    "# encontrar minimo\n",
    "if precio2 < minimo:\n",
    "    minimo = precio2\n",
    "if precio3 < minimo:\n",
    "    minimo = precio3\n",
    "\n",
    "print(f'El precio mas alto es {maximo}. \\nEl precio mas bajo es {minimo}')"
   ]
  }
 ],
 "metadata": {
  "kernelspec": {
   "display_name": "base",
   "language": "python",
   "name": "python3"
  },
  "language_info": {
   "codemirror_mode": {
    "name": "ipython",
    "version": 3
   },
   "file_extension": ".py",
   "mimetype": "text/x-python",
   "name": "python",
   "nbconvert_exporter": "python",
   "pygments_lexer": "ipython3",
   "version": "3.9.12"
  }
 },
 "nbformat": 4,
 "nbformat_minor": 5
}
