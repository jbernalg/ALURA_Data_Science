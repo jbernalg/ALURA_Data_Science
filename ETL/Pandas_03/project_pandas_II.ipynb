{
 "cells": [
  {
   "cell_type": "markdown",
   "id": "ea834ad0",
   "metadata": {},
   "source": [
    "# __Analisis de alquileres de propiedades a corto plazo__"
   ]
  },
  {
   "cell_type": "markdown",
   "id": "ed34aab5",
   "metadata": {},
   "source": [
    "## Entendiendo el problema"
   ]
  },
  {
   "cell_type": "markdown",
   "id": "09f4cc92",
   "metadata": {},
   "source": [
    "Se trata de un algoritmo capaz de analizar las caracteristicas de una propiedad como comodidades, tamano, ocupacion del espacio en un periodo determinado y sugerir al anfrition un precio a cobrar por tarifas diarias que garantice ganancias en momentos de alta demanda."
   ]
  }
 ],
 "metadata": {
  "language_info": {
   "name": "python"
  }
 },
 "nbformat": 4,
 "nbformat_minor": 5
}
