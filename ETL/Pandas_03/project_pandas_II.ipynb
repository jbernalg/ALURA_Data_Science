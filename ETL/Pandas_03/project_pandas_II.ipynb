{
 "cells": [
  {
   "cell_type": "markdown",
   "id": "ea834ad0",
   "metadata": {},
   "source": [
    "# __Analisis de alquileres de propiedades a corto plazo__"
   ]
  },
  {
   "cell_type": "markdown",
   "id": "ed34aab5",
   "metadata": {},
   "source": [
    "## Entendiendo el problema"
   ]
  },
  {
   "cell_type": "markdown",
   "id": "09f4cc92",
   "metadata": {},
   "source": [
    "Se trata de un algoritmo capaz de analizar las caracteristicas de una propiedad como comodidades, tamano, ocupacion del espacio en un periodo determinado y sugerir al anfrition un precio a cobrar por tarifas diarias que garantice ganancias en momentos de alta demanda."
   ]
  },
  {
   "cell_type": "markdown",
   "id": "d3ad2dd1",
   "metadata": {},
   "source": [
    "## Importar librerias"
   ]
  },
  {
   "cell_type": "code",
   "execution_count": 56,
   "id": "260764c9",
   "metadata": {},
   "outputs": [],
   "source": [
    "import pandas as pd"
   ]
  },
  {
   "cell_type": "markdown",
   "id": "8a4a73f2",
   "metadata": {},
   "source": [
    "## Cargar datos"
   ]
  },
  {
   "cell_type": "code",
   "execution_count": 57,
   "id": "77fed6ea",
   "metadata": {},
   "outputs": [
    {
     "data": {
      "text/html": [
       "<div>\n",
       "<style scoped>\n",
       "    .dataframe tbody tr th:only-of-type {\n",
       "        vertical-align: middle;\n",
       "    }\n",
       "\n",
       "    .dataframe tbody tr th {\n",
       "        vertical-align: top;\n",
       "    }\n",
       "\n",
       "    .dataframe thead th {\n",
       "        text-align: right;\n",
       "    }\n",
       "</style>\n",
       "<table border=\"1\" class=\"dataframe\">\n",
       "  <thead>\n",
       "    <tr style=\"text-align: right;\">\n",
       "      <th></th>\n",
       "      <th>info_inmuebles</th>\n",
       "    </tr>\n",
       "  </thead>\n",
       "  <tbody>\n",
       "    <tr>\n",
       "      <th>0</th>\n",
       "      <td>{'evaluacion_general': '10.0', 'experiencia_lo...</td>\n",
       "    </tr>\n",
       "    <tr>\n",
       "      <th>1</th>\n",
       "      <td>{'evaluacion_general': '10.0', 'experiencia_lo...</td>\n",
       "    </tr>\n",
       "    <tr>\n",
       "      <th>2</th>\n",
       "      <td>{'evaluacion_general': '10.0', 'experiencia_lo...</td>\n",
       "    </tr>\n",
       "    <tr>\n",
       "      <th>3</th>\n",
       "      <td>{'evaluacion_general': '10.0', 'experiencia_lo...</td>\n",
       "    </tr>\n",
       "    <tr>\n",
       "      <th>4</th>\n",
       "      <td>{'evaluacion_general': '10.0', 'experiencia_lo...</td>\n",
       "    </tr>\n",
       "  </tbody>\n",
       "</table>\n",
       "</div>"
      ],
      "text/plain": [
       "                                      info_inmuebles\n",
       "0  {'evaluacion_general': '10.0', 'experiencia_lo...\n",
       "1  {'evaluacion_general': '10.0', 'experiencia_lo...\n",
       "2  {'evaluacion_general': '10.0', 'experiencia_lo...\n",
       "3  {'evaluacion_general': '10.0', 'experiencia_lo...\n",
       "4  {'evaluacion_general': '10.0', 'experiencia_lo..."
      ]
     },
     "execution_count": 57,
     "metadata": {},
     "output_type": "execute_result"
    }
   ],
   "source": [
    "df = pd.read_json('./data_in/datos_hosting.json')\n",
    "df.head()"
   ]
  },
  {
   "cell_type": "markdown",
   "id": "e01bd81e",
   "metadata": {},
   "source": [
    "Vamos a normalizar el dataframe para darle un mejor formato a los datos json."
   ]
  },
  {
   "cell_type": "code",
   "execution_count": 58,
   "id": "847a5fe7",
   "metadata": {},
   "outputs": [
    {
     "data": {
      "text/html": [
       "<div>\n",
       "<style scoped>\n",
       "    .dataframe tbody tr th:only-of-type {\n",
       "        vertical-align: middle;\n",
       "    }\n",
       "\n",
       "    .dataframe tbody tr th {\n",
       "        vertical-align: top;\n",
       "    }\n",
       "\n",
       "    .dataframe thead th {\n",
       "        text-align: right;\n",
       "    }\n",
       "</style>\n",
       "<table border=\"1\" class=\"dataframe\">\n",
       "  <thead>\n",
       "    <tr style=\"text-align: right;\">\n",
       "      <th></th>\n",
       "      <th>evaluacion_general</th>\n",
       "      <th>experiencia_local</th>\n",
       "      <th>max_hospedes</th>\n",
       "      <th>descripcion_local</th>\n",
       "      <th>descripcion_vecindad</th>\n",
       "      <th>cantidad_baños</th>\n",
       "      <th>cantidad_cuartos</th>\n",
       "      <th>cantidad_camas</th>\n",
       "      <th>modelo_cama</th>\n",
       "      <th>comodidades</th>\n",
       "      <th>cuota_deposito</th>\n",
       "      <th>cuota_limpieza</th>\n",
       "      <th>precio</th>\n",
       "    </tr>\n",
       "  </thead>\n",
       "  <tbody>\n",
       "    <tr>\n",
       "      <th>0</th>\n",
       "      <td>10.0</td>\n",
       "      <td>--</td>\n",
       "      <td>1</td>\n",
       "      <td>[This clean and comfortable one bedroom sits r...</td>\n",
       "      <td>[Lower Queen Anne is near the Seattle Center (...</td>\n",
       "      <td>[1, 1, 1, 1, 1, 1, 1, 1, 1, 1, 1, 1, 1, 1, 1, ...</td>\n",
       "      <td>[1, 1, 1, 1, 1, 1, 1, 1, 1, 1, 1, 1, 1, 1, 1, ...</td>\n",
       "      <td>[1, 1, 1, 1, 1, 1, 1, 1, 1, 1, 1, 1, 1, 1, 1, ...</td>\n",
       "      <td>[Real Bed, Futon, Futon, Pull-out Sofa, Real B...</td>\n",
       "      <td>[{Internet,\"Wireless Internet\",Kitchen,\"Free P...</td>\n",
       "      <td>[$0, $0, $0, $0, $0, $350.00, $350.00, $350.00...</td>\n",
       "      <td>[$0, $0, $0, $20.00, $15.00, $28.00, $35.00, $...</td>\n",
       "      <td>[$110.00, $45.00, $55.00, $52.00, $85.00, $50....</td>\n",
       "    </tr>\n",
       "    <tr>\n",
       "      <th>1</th>\n",
       "      <td>10.0</td>\n",
       "      <td>--</td>\n",
       "      <td>10</td>\n",
       "      <td>[Welcome to the heart of the 'Ballard Brewery ...</td>\n",
       "      <td>[--, Capital Hill is the heart of Seattle, bor...</td>\n",
       "      <td>[2, 3, 2, 3, 3, 3, 2, 1, 2, 2, 2]</td>\n",
       "      <td>[3, 4, 2, 3, 3, 3, 3, 3, 3, 4, 3]</td>\n",
       "      <td>[5, 6, 8, 3, 3, 5, 4, 5, 6, 7, 4]</td>\n",
       "      <td>[Real Bed, Real Bed, Real Bed, Real Bed, Real ...</td>\n",
       "      <td>[{TV,Internet,\"Wireless Internet\",Kitchen,\"Fre...</td>\n",
       "      <td>[$500.00, $300.00, $0, $300.00, $300.00, $360....</td>\n",
       "      <td>[$125.00, $100.00, $85.00, $110.00, $110.00, $...</td>\n",
       "      <td>[$350.00, $300.00, $425.00, $300.00, $285.00, ...</td>\n",
       "    </tr>\n",
       "    <tr>\n",
       "      <th>2</th>\n",
       "      <td>10.0</td>\n",
       "      <td>--</td>\n",
       "      <td>11</td>\n",
       "      <td>[New modern house built in 2013.  Spectacular ...</td>\n",
       "      <td>[Upper Queen Anne is a charming neighborhood f...</td>\n",
       "      <td>[4]</td>\n",
       "      <td>[5]</td>\n",
       "      <td>[7]</td>\n",
       "      <td>[Real Bed]</td>\n",
       "      <td>[{TV,\"Cable TV\",Internet,\"Wireless Internet\",\"...</td>\n",
       "      <td>[$1,000.00]</td>\n",
       "      <td>[$300.00]</td>\n",
       "      <td>[$975.00]</td>\n",
       "    </tr>\n",
       "    <tr>\n",
       "      <th>3</th>\n",
       "      <td>10.0</td>\n",
       "      <td>--</td>\n",
       "      <td>12</td>\n",
       "      <td>[Our NW style home is 3200+ sq ft with 3 level...</td>\n",
       "      <td>[The Views from our top floor!  Wallingford ha...</td>\n",
       "      <td>[3, 3, 3, 3, 3, 3, 3, 3]</td>\n",
       "      <td>[6, 6, 5, 5, 5, 5, 4, 4]</td>\n",
       "      <td>[6, 6, 7, 8, 7, 7, 6, 6]</td>\n",
       "      <td>[Real Bed, Real Bed, Real Bed, Real Bed, Real ...</td>\n",
       "      <td>[{Internet,\"Wireless Internet\",Kitchen,\"Free P...</td>\n",
       "      <td>[$500.00, $500.00, $500.00, $500.00, $500.00, ...</td>\n",
       "      <td>[$225.00, $300.00, $250.00, $250.00, $250.00, ...</td>\n",
       "      <td>[$490.00, $550.00, $350.00, $350.00, $350.00, ...</td>\n",
       "    </tr>\n",
       "    <tr>\n",
       "      <th>4</th>\n",
       "      <td>10.0</td>\n",
       "      <td>--</td>\n",
       "      <td>14</td>\n",
       "      <td>[Perfect for groups. 2 bedrooms, full bathroom...</td>\n",
       "      <td>[Safeway grocery store within walking distance...</td>\n",
       "      <td>[2, 3]</td>\n",
       "      <td>[2, 6]</td>\n",
       "      <td>[3, 9]</td>\n",
       "      <td>[Real Bed, Real Bed]</td>\n",
       "      <td>[{TV,Internet,\"Wireless Internet\",Kitchen,\"Fre...</td>\n",
       "      <td>[$300.00, $2,000.00]</td>\n",
       "      <td>[$40.00, $150.00]</td>\n",
       "      <td>[$200.00, $545.00]</td>\n",
       "    </tr>\n",
       "  </tbody>\n",
       "</table>\n",
       "</div>"
      ],
      "text/plain": [
       "  evaluacion_general experiencia_local max_hospedes  \\\n",
       "0               10.0                --            1   \n",
       "1               10.0                --           10   \n",
       "2               10.0                --           11   \n",
       "3               10.0                --           12   \n",
       "4               10.0                --           14   \n",
       "\n",
       "                                   descripcion_local  \\\n",
       "0  [This clean and comfortable one bedroom sits r...   \n",
       "1  [Welcome to the heart of the 'Ballard Brewery ...   \n",
       "2  [New modern house built in 2013.  Spectacular ...   \n",
       "3  [Our NW style home is 3200+ sq ft with 3 level...   \n",
       "4  [Perfect for groups. 2 bedrooms, full bathroom...   \n",
       "\n",
       "                                descripcion_vecindad  \\\n",
       "0  [Lower Queen Anne is near the Seattle Center (...   \n",
       "1  [--, Capital Hill is the heart of Seattle, bor...   \n",
       "2  [Upper Queen Anne is a charming neighborhood f...   \n",
       "3  [The Views from our top floor!  Wallingford ha...   \n",
       "4  [Safeway grocery store within walking distance...   \n",
       "\n",
       "                                      cantidad_baños  \\\n",
       "0  [1, 1, 1, 1, 1, 1, 1, 1, 1, 1, 1, 1, 1, 1, 1, ...   \n",
       "1                  [2, 3, 2, 3, 3, 3, 2, 1, 2, 2, 2]   \n",
       "2                                                [4]   \n",
       "3                           [3, 3, 3, 3, 3, 3, 3, 3]   \n",
       "4                                             [2, 3]   \n",
       "\n",
       "                                    cantidad_cuartos  \\\n",
       "0  [1, 1, 1, 1, 1, 1, 1, 1, 1, 1, 1, 1, 1, 1, 1, ...   \n",
       "1                  [3, 4, 2, 3, 3, 3, 3, 3, 3, 4, 3]   \n",
       "2                                                [5]   \n",
       "3                           [6, 6, 5, 5, 5, 5, 4, 4]   \n",
       "4                                             [2, 6]   \n",
       "\n",
       "                                      cantidad_camas  \\\n",
       "0  [1, 1, 1, 1, 1, 1, 1, 1, 1, 1, 1, 1, 1, 1, 1, ...   \n",
       "1                  [5, 6, 8, 3, 3, 5, 4, 5, 6, 7, 4]   \n",
       "2                                                [7]   \n",
       "3                           [6, 6, 7, 8, 7, 7, 6, 6]   \n",
       "4                                             [3, 9]   \n",
       "\n",
       "                                         modelo_cama  \\\n",
       "0  [Real Bed, Futon, Futon, Pull-out Sofa, Real B...   \n",
       "1  [Real Bed, Real Bed, Real Bed, Real Bed, Real ...   \n",
       "2                                         [Real Bed]   \n",
       "3  [Real Bed, Real Bed, Real Bed, Real Bed, Real ...   \n",
       "4                               [Real Bed, Real Bed]   \n",
       "\n",
       "                                         comodidades  \\\n",
       "0  [{Internet,\"Wireless Internet\",Kitchen,\"Free P...   \n",
       "1  [{TV,Internet,\"Wireless Internet\",Kitchen,\"Fre...   \n",
       "2  [{TV,\"Cable TV\",Internet,\"Wireless Internet\",\"...   \n",
       "3  [{Internet,\"Wireless Internet\",Kitchen,\"Free P...   \n",
       "4  [{TV,Internet,\"Wireless Internet\",Kitchen,\"Fre...   \n",
       "\n",
       "                                      cuota_deposito  \\\n",
       "0  [$0, $0, $0, $0, $0, $350.00, $350.00, $350.00...   \n",
       "1  [$500.00, $300.00, $0, $300.00, $300.00, $360....   \n",
       "2                                        [$1,000.00]   \n",
       "3  [$500.00, $500.00, $500.00, $500.00, $500.00, ...   \n",
       "4                               [$300.00, $2,000.00]   \n",
       "\n",
       "                                      cuota_limpieza  \\\n",
       "0  [$0, $0, $0, $20.00, $15.00, $28.00, $35.00, $...   \n",
       "1  [$125.00, $100.00, $85.00, $110.00, $110.00, $...   \n",
       "2                                          [$300.00]   \n",
       "3  [$225.00, $300.00, $250.00, $250.00, $250.00, ...   \n",
       "4                                  [$40.00, $150.00]   \n",
       "\n",
       "                                              precio  \n",
       "0  [$110.00, $45.00, $55.00, $52.00, $85.00, $50....  \n",
       "1  [$350.00, $300.00, $425.00, $300.00, $285.00, ...  \n",
       "2                                          [$975.00]  \n",
       "3  [$490.00, $550.00, $350.00, $350.00, $350.00, ...  \n",
       "4                                 [$200.00, $545.00]  "
      ]
     },
     "execution_count": 58,
     "metadata": {},
     "output_type": "execute_result"
    }
   ],
   "source": [
    "datos = pd.json_normalize(df['info_inmuebles'])\n",
    "datos.head()"
   ]
  },
  {
   "cell_type": "markdown",
   "id": "d64aecaa",
   "metadata": {},
   "source": [
    "## Contexto de los datos"
   ]
  },
  {
   "cell_type": "markdown",
   "id": "76a1bff6",
   "metadata": {},
   "source": [
    "Para avanzar en nuestros estudios sobre los datos proporcionados, vamos a entenderer qué información trae cada columna.\n",
    "\n",
    "- __evaluacion_general__: se refiere a la puntuación media otorgada para evaluar el alojamiento en la propiedad.\n",
    "\n",
    "- __experiencia_local__: describe las experiencias ofrecidas durante su estancia en la propiedad.\n",
    "\n",
    "- __max_hospedes__: informa el número máximo de invitados que permite la ubicación.\n",
    "\n",
    "- __descripcion_local__: describe la propiedad.\n",
    "\n",
    "- __descripcion_vecindad__: describe el vecindario alrededor de la propiedad.\n",
    "\n",
    "- __cantidad_baños__: informa el número de baños disponibles.\n",
    "\n",
    "- __cantidad_cuartos__: informa el número de habitaciones disponibles.\n",
    "\n",
    "- __cantidad_camas__: informa el número de camas disponibles.\n",
    "\n",
    "- __modelo_cama__: informa el modelo de cama ofrecido.\n",
    "\n",
    "- __comodidades__: informa las comodidades que ofrece la propiedad.\n",
    "\n",
    "- __cuota_deposito__: informa la tarifa mínima de depósito para la seguridad del hosting.\n",
    "\n",
    "- __cuota_limpieza__: informa el cargo cobrado por el servicio de limpieza.\n",
    "\n",
    "- __precio__: se refiere al precio base a cobrar por la estancia diaria en la propiedad."
   ]
  },
  {
   "cell_type": "markdown",
   "id": "0abb9e30",
   "metadata": {},
   "source": [
    "## Formateo de los datos"
   ]
  },
  {
   "cell_type": "code",
   "execution_count": 59,
   "id": "9c0d7e80",
   "metadata": {},
   "outputs": [
    {
     "data": {
      "text/plain": [
       "['evaluacion_general',\n",
       " 'experiencia_local',\n",
       " 'max_hospedes',\n",
       " 'descripcion_local',\n",
       " 'descripcion_vecindad',\n",
       " 'cantidad_baños',\n",
       " 'cantidad_cuartos',\n",
       " 'cantidad_camas',\n",
       " 'modelo_cama',\n",
       " 'comodidades',\n",
       " 'cuota_deposito',\n",
       " 'cuota_limpieza',\n",
       " 'precio']"
      ]
     },
     "execution_count": 59,
     "metadata": {},
     "output_type": "execute_result"
    }
   ],
   "source": [
    "# obtener los nombres de las variables\n",
    "columnas = list(datos.columns)\n",
    "columnas"
   ]
  },
  {
   "cell_type": "markdown",
   "id": "f01e39f2",
   "metadata": {},
   "source": [
    "> Visualizamos que a partir de la variable descripcion local en adelante los datos se presentan como listas, por lo que hay que formatear dichas variables.\n",
    "\n",
    "> En la lista anterior, se inicia desde la posicion 3 hasta el resto de variables"
   ]
  },
  {
   "cell_type": "code",
   "execution_count": 60,
   "id": "faf4da73",
   "metadata": {},
   "outputs": [
    {
     "data": {
      "text/html": [
       "<div>\n",
       "<style scoped>\n",
       "    .dataframe tbody tr th:only-of-type {\n",
       "        vertical-align: middle;\n",
       "    }\n",
       "\n",
       "    .dataframe tbody tr th {\n",
       "        vertical-align: top;\n",
       "    }\n",
       "\n",
       "    .dataframe thead th {\n",
       "        text-align: right;\n",
       "    }\n",
       "</style>\n",
       "<table border=\"1\" class=\"dataframe\">\n",
       "  <thead>\n",
       "    <tr style=\"text-align: right;\">\n",
       "      <th></th>\n",
       "      <th>evaluacion_general</th>\n",
       "      <th>experiencia_local</th>\n",
       "      <th>max_hospedes</th>\n",
       "      <th>descripcion_local</th>\n",
       "      <th>descripcion_vecindad</th>\n",
       "      <th>cantidad_baños</th>\n",
       "      <th>cantidad_cuartos</th>\n",
       "      <th>cantidad_camas</th>\n",
       "      <th>modelo_cama</th>\n",
       "      <th>comodidades</th>\n",
       "      <th>cuota_deposito</th>\n",
       "      <th>cuota_limpieza</th>\n",
       "      <th>precio</th>\n",
       "    </tr>\n",
       "  </thead>\n",
       "  <tbody>\n",
       "    <tr>\n",
       "      <th>0</th>\n",
       "      <td>10.0</td>\n",
       "      <td>--</td>\n",
       "      <td>1</td>\n",
       "      <td>This clean and comfortable one bedroom sits ri...</td>\n",
       "      <td>Lower Queen Anne is near the Seattle Center (s...</td>\n",
       "      <td>1</td>\n",
       "      <td>1</td>\n",
       "      <td>1</td>\n",
       "      <td>Real Bed</td>\n",
       "      <td>{Internet,\"Wireless Internet\",Kitchen,\"Free Pa...</td>\n",
       "      <td>$0</td>\n",
       "      <td>$0</td>\n",
       "      <td>$110.00</td>\n",
       "    </tr>\n",
       "    <tr>\n",
       "      <th>0</th>\n",
       "      <td>10.0</td>\n",
       "      <td>--</td>\n",
       "      <td>1</td>\n",
       "      <td>Our century old Upper Queen Anne house is loca...</td>\n",
       "      <td>Upper Queen Anne is a really pleasant, unique ...</td>\n",
       "      <td>1</td>\n",
       "      <td>1</td>\n",
       "      <td>1</td>\n",
       "      <td>Futon</td>\n",
       "      <td>{TV,Internet,\"Wireless Internet\",Kitchen,\"Free...</td>\n",
       "      <td>$0</td>\n",
       "      <td>$0</td>\n",
       "      <td>$45.00</td>\n",
       "    </tr>\n",
       "    <tr>\n",
       "      <th>0</th>\n",
       "      <td>10.0</td>\n",
       "      <td>--</td>\n",
       "      <td>1</td>\n",
       "      <td>Cozy room in two-bedroom apartment along the l...</td>\n",
       "      <td>The convenience of being in Seattle but on the...</td>\n",
       "      <td>1</td>\n",
       "      <td>1</td>\n",
       "      <td>1</td>\n",
       "      <td>Futon</td>\n",
       "      <td>{TV,Internet,\"Wireless Internet\",Kitchen,\"Free...</td>\n",
       "      <td>$0</td>\n",
       "      <td>$0</td>\n",
       "      <td>$55.00</td>\n",
       "    </tr>\n",
       "    <tr>\n",
       "      <th>0</th>\n",
       "      <td>10.0</td>\n",
       "      <td>--</td>\n",
       "      <td>1</td>\n",
       "      <td>Very lovely and cozy room for one. Convenientl...</td>\n",
       "      <td>Ballard is lovely, vibrant and one of the most...</td>\n",
       "      <td>1</td>\n",
       "      <td>1</td>\n",
       "      <td>1</td>\n",
       "      <td>Pull-out Sofa</td>\n",
       "      <td>{Internet,\"Wireless Internet\",Kitchen,\"Free Pa...</td>\n",
       "      <td>$0</td>\n",
       "      <td>$20.00</td>\n",
       "      <td>$52.00</td>\n",
       "    </tr>\n",
       "    <tr>\n",
       "      <th>0</th>\n",
       "      <td>10.0</td>\n",
       "      <td>--</td>\n",
       "      <td>1</td>\n",
       "      <td>The “Studio at Mibbett Hollow' is in a Beautif...</td>\n",
       "      <td>--</td>\n",
       "      <td>1</td>\n",
       "      <td>1</td>\n",
       "      <td>1</td>\n",
       "      <td>Real Bed</td>\n",
       "      <td>{\"Wireless Internet\",Kitchen,\"Free Parking on ...</td>\n",
       "      <td>$0</td>\n",
       "      <td>$15.00</td>\n",
       "      <td>$85.00</td>\n",
       "    </tr>\n",
       "  </tbody>\n",
       "</table>\n",
       "</div>"
      ],
      "text/plain": [
       "  evaluacion_general experiencia_local max_hospedes  \\\n",
       "0               10.0                --            1   \n",
       "0               10.0                --            1   \n",
       "0               10.0                --            1   \n",
       "0               10.0                --            1   \n",
       "0               10.0                --            1   \n",
       "\n",
       "                                   descripcion_local  \\\n",
       "0  This clean and comfortable one bedroom sits ri...   \n",
       "0  Our century old Upper Queen Anne house is loca...   \n",
       "0  Cozy room in two-bedroom apartment along the l...   \n",
       "0  Very lovely and cozy room for one. Convenientl...   \n",
       "0  The “Studio at Mibbett Hollow' is in a Beautif...   \n",
       "\n",
       "                                descripcion_vecindad cantidad_baños  \\\n",
       "0  Lower Queen Anne is near the Seattle Center (s...              1   \n",
       "0  Upper Queen Anne is a really pleasant, unique ...              1   \n",
       "0  The convenience of being in Seattle but on the...              1   \n",
       "0  Ballard is lovely, vibrant and one of the most...              1   \n",
       "0                                                 --              1   \n",
       "\n",
       "  cantidad_cuartos cantidad_camas    modelo_cama  \\\n",
       "0                1              1       Real Bed   \n",
       "0                1              1          Futon   \n",
       "0                1              1          Futon   \n",
       "0                1              1  Pull-out Sofa   \n",
       "0                1              1       Real Bed   \n",
       "\n",
       "                                         comodidades cuota_deposito  \\\n",
       "0  {Internet,\"Wireless Internet\",Kitchen,\"Free Pa...             $0   \n",
       "0  {TV,Internet,\"Wireless Internet\",Kitchen,\"Free...             $0   \n",
       "0  {TV,Internet,\"Wireless Internet\",Kitchen,\"Free...             $0   \n",
       "0  {Internet,\"Wireless Internet\",Kitchen,\"Free Pa...             $0   \n",
       "0  {\"Wireless Internet\",Kitchen,\"Free Parking on ...             $0   \n",
       "\n",
       "  cuota_limpieza   precio  \n",
       "0             $0  $110.00  \n",
       "0             $0   $45.00  \n",
       "0             $0   $55.00  \n",
       "0         $20.00   $52.00  \n",
       "0         $15.00   $85.00  "
      ]
     },
     "execution_count": 60,
     "metadata": {},
     "output_type": "execute_result"
    }
   ],
   "source": [
    "datos = datos.explode(columnas[3:])\n",
    "datos.head()"
   ]
  },
  {
   "cell_type": "markdown",
   "id": "6fffb0de",
   "metadata": {},
   "source": [
    "> La variable 'comodidades' es la unica que queda con formato de diccionario, debemos tenerlo en cuenta.\n",
    "\n",
    "> El nuevo dataframe presenta indices repetidos por lo que debemos formatearlo de forma que no se repitan."
   ]
  },
  {
   "cell_type": "code",
   "execution_count": 61,
   "id": "3a726a13",
   "metadata": {},
   "outputs": [
    {
     "data": {
      "text/html": [
       "<div>\n",
       "<style scoped>\n",
       "    .dataframe tbody tr th:only-of-type {\n",
       "        vertical-align: middle;\n",
       "    }\n",
       "\n",
       "    .dataframe tbody tr th {\n",
       "        vertical-align: top;\n",
       "    }\n",
       "\n",
       "    .dataframe thead th {\n",
       "        text-align: right;\n",
       "    }\n",
       "</style>\n",
       "<table border=\"1\" class=\"dataframe\">\n",
       "  <thead>\n",
       "    <tr style=\"text-align: right;\">\n",
       "      <th></th>\n",
       "      <th>evaluacion_general</th>\n",
       "      <th>experiencia_local</th>\n",
       "      <th>max_hospedes</th>\n",
       "      <th>descripcion_local</th>\n",
       "      <th>descripcion_vecindad</th>\n",
       "      <th>cantidad_baños</th>\n",
       "      <th>cantidad_cuartos</th>\n",
       "      <th>cantidad_camas</th>\n",
       "      <th>modelo_cama</th>\n",
       "      <th>comodidades</th>\n",
       "      <th>cuota_deposito</th>\n",
       "      <th>cuota_limpieza</th>\n",
       "      <th>precio</th>\n",
       "    </tr>\n",
       "  </thead>\n",
       "  <tbody>\n",
       "    <tr>\n",
       "      <th>0</th>\n",
       "      <td>10.0</td>\n",
       "      <td>--</td>\n",
       "      <td>1</td>\n",
       "      <td>This clean and comfortable one bedroom sits ri...</td>\n",
       "      <td>Lower Queen Anne is near the Seattle Center (s...</td>\n",
       "      <td>1</td>\n",
       "      <td>1</td>\n",
       "      <td>1</td>\n",
       "      <td>Real Bed</td>\n",
       "      <td>{Internet,\"Wireless Internet\",Kitchen,\"Free Pa...</td>\n",
       "      <td>$0</td>\n",
       "      <td>$0</td>\n",
       "      <td>$110.00</td>\n",
       "    </tr>\n",
       "    <tr>\n",
       "      <th>1</th>\n",
       "      <td>10.0</td>\n",
       "      <td>--</td>\n",
       "      <td>1</td>\n",
       "      <td>Our century old Upper Queen Anne house is loca...</td>\n",
       "      <td>Upper Queen Anne is a really pleasant, unique ...</td>\n",
       "      <td>1</td>\n",
       "      <td>1</td>\n",
       "      <td>1</td>\n",
       "      <td>Futon</td>\n",
       "      <td>{TV,Internet,\"Wireless Internet\",Kitchen,\"Free...</td>\n",
       "      <td>$0</td>\n",
       "      <td>$0</td>\n",
       "      <td>$45.00</td>\n",
       "    </tr>\n",
       "    <tr>\n",
       "      <th>2</th>\n",
       "      <td>10.0</td>\n",
       "      <td>--</td>\n",
       "      <td>1</td>\n",
       "      <td>Cozy room in two-bedroom apartment along the l...</td>\n",
       "      <td>The convenience of being in Seattle but on the...</td>\n",
       "      <td>1</td>\n",
       "      <td>1</td>\n",
       "      <td>1</td>\n",
       "      <td>Futon</td>\n",
       "      <td>{TV,Internet,\"Wireless Internet\",Kitchen,\"Free...</td>\n",
       "      <td>$0</td>\n",
       "      <td>$0</td>\n",
       "      <td>$55.00</td>\n",
       "    </tr>\n",
       "    <tr>\n",
       "      <th>3</th>\n",
       "      <td>10.0</td>\n",
       "      <td>--</td>\n",
       "      <td>1</td>\n",
       "      <td>Very lovely and cozy room for one. Convenientl...</td>\n",
       "      <td>Ballard is lovely, vibrant and one of the most...</td>\n",
       "      <td>1</td>\n",
       "      <td>1</td>\n",
       "      <td>1</td>\n",
       "      <td>Pull-out Sofa</td>\n",
       "      <td>{Internet,\"Wireless Internet\",Kitchen,\"Free Pa...</td>\n",
       "      <td>$0</td>\n",
       "      <td>$20.00</td>\n",
       "      <td>$52.00</td>\n",
       "    </tr>\n",
       "    <tr>\n",
       "      <th>4</th>\n",
       "      <td>10.0</td>\n",
       "      <td>--</td>\n",
       "      <td>1</td>\n",
       "      <td>The “Studio at Mibbett Hollow' is in a Beautif...</td>\n",
       "      <td>--</td>\n",
       "      <td>1</td>\n",
       "      <td>1</td>\n",
       "      <td>1</td>\n",
       "      <td>Real Bed</td>\n",
       "      <td>{\"Wireless Internet\",Kitchen,\"Free Parking on ...</td>\n",
       "      <td>$0</td>\n",
       "      <td>$15.00</td>\n",
       "      <td>$85.00</td>\n",
       "    </tr>\n",
       "  </tbody>\n",
       "</table>\n",
       "</div>"
      ],
      "text/plain": [
       "  evaluacion_general experiencia_local max_hospedes  \\\n",
       "0               10.0                --            1   \n",
       "1               10.0                --            1   \n",
       "2               10.0                --            1   \n",
       "3               10.0                --            1   \n",
       "4               10.0                --            1   \n",
       "\n",
       "                                   descripcion_local  \\\n",
       "0  This clean and comfortable one bedroom sits ri...   \n",
       "1  Our century old Upper Queen Anne house is loca...   \n",
       "2  Cozy room in two-bedroom apartment along the l...   \n",
       "3  Very lovely and cozy room for one. Convenientl...   \n",
       "4  The “Studio at Mibbett Hollow' is in a Beautif...   \n",
       "\n",
       "                                descripcion_vecindad cantidad_baños  \\\n",
       "0  Lower Queen Anne is near the Seattle Center (s...              1   \n",
       "1  Upper Queen Anne is a really pleasant, unique ...              1   \n",
       "2  The convenience of being in Seattle but on the...              1   \n",
       "3  Ballard is lovely, vibrant and one of the most...              1   \n",
       "4                                                 --              1   \n",
       "\n",
       "  cantidad_cuartos cantidad_camas    modelo_cama  \\\n",
       "0                1              1       Real Bed   \n",
       "1                1              1          Futon   \n",
       "2                1              1          Futon   \n",
       "3                1              1  Pull-out Sofa   \n",
       "4                1              1       Real Bed   \n",
       "\n",
       "                                         comodidades cuota_deposito  \\\n",
       "0  {Internet,\"Wireless Internet\",Kitchen,\"Free Pa...             $0   \n",
       "1  {TV,Internet,\"Wireless Internet\",Kitchen,\"Free...             $0   \n",
       "2  {TV,Internet,\"Wireless Internet\",Kitchen,\"Free...             $0   \n",
       "3  {Internet,\"Wireless Internet\",Kitchen,\"Free Pa...             $0   \n",
       "4  {\"Wireless Internet\",Kitchen,\"Free Parking on ...             $0   \n",
       "\n",
       "  cuota_limpieza   precio  \n",
       "0             $0  $110.00  \n",
       "1             $0   $45.00  \n",
       "2             $0   $55.00  \n",
       "3         $20.00   $52.00  \n",
       "4         $15.00   $85.00  "
      ]
     },
     "execution_count": 61,
     "metadata": {},
     "output_type": "execute_result"
    }
   ],
   "source": [
    "# resetear indice\n",
    "datos.reset_index(inplace=True, drop=True)\n",
    "datos.head()"
   ]
  },
  {
   "cell_type": "code",
   "execution_count": 62,
   "id": "e19dc77d",
   "metadata": {},
   "outputs": [
    {
     "name": "stdout",
     "output_type": "stream",
     "text": [
      "<class 'pandas.core.frame.DataFrame'>\n",
      "RangeIndex: 3818 entries, 0 to 3817\n",
      "Data columns (total 13 columns):\n",
      " #   Column                Non-Null Count  Dtype \n",
      "---  ------                --------------  ----- \n",
      " 0   evaluacion_general    3818 non-null   object\n",
      " 1   experiencia_local     3818 non-null   object\n",
      " 2   max_hospedes          3818 non-null   object\n",
      " 3   descripcion_local     3818 non-null   object\n",
      " 4   descripcion_vecindad  3818 non-null   object\n",
      " 5   cantidad_baños        3818 non-null   object\n",
      " 6   cantidad_cuartos      3818 non-null   object\n",
      " 7   cantidad_camas        3818 non-null   object\n",
      " 8   modelo_cama           3818 non-null   object\n",
      " 9   comodidades           3818 non-null   object\n",
      " 10  cuota_deposito        3818 non-null   object\n",
      " 11  cuota_limpieza        3818 non-null   object\n",
      " 12  precio                3818 non-null   object\n",
      "dtypes: object(13)\n",
      "memory usage: 387.9+ KB\n"
     ]
    }
   ],
   "source": [
    "datos.info()"
   ]
  },
  {
   "cell_type": "markdown",
   "id": "03382e2c",
   "metadata": {},
   "source": [
    "> Aumento la cantidad de registros debido al formateo de los datos.\n",
    "\n",
    "> Todas la variables son de tipo 'object' lo cual es un problema.\n",
    "\n",
    "> No se presentan valores faltantes en las variables"
   ]
  },
  {
   "cell_type": "markdown",
   "id": "41b1d47c",
   "metadata": {},
   "source": [
    "## Cambiar tipo de datos numerico"
   ]
  },
  {
   "cell_type": "code",
   "execution_count": 63,
   "id": "d550d167",
   "metadata": {},
   "outputs": [],
   "source": [
    "# importar libreria para manipular datos numericos\n",
    "import numpy as np"
   ]
  },
  {
   "cell_type": "code",
   "execution_count": 64,
   "id": "cf039236",
   "metadata": {},
   "outputs": [],
   "source": [
    "# convertir variable 'max_hospedes' a entero\n",
    "datos['max_hospedes'] = datos['max_hospedes'].astype(np.int64)"
   ]
  },
  {
   "cell_type": "markdown",
   "id": "694738fe",
   "metadata": {},
   "source": [
    "> Es importante que antes de hacer la conversion del tipo de dato, verifiques que los valores de la variable sean del mismo tipo ya que un valor de tipo diferente generara un error."
   ]
  },
  {
   "cell_type": "code",
   "execution_count": 65,
   "id": "c0e397b7",
   "metadata": {},
   "outputs": [
    {
     "name": "stdout",
     "output_type": "stream",
     "text": [
      "<class 'pandas.core.frame.DataFrame'>\n",
      "RangeIndex: 3818 entries, 0 to 3817\n",
      "Data columns (total 13 columns):\n",
      " #   Column                Non-Null Count  Dtype \n",
      "---  ------                --------------  ----- \n",
      " 0   evaluacion_general    3818 non-null   object\n",
      " 1   experiencia_local     3818 non-null   object\n",
      " 2   max_hospedes          3818 non-null   int64 \n",
      " 3   descripcion_local     3818 non-null   object\n",
      " 4   descripcion_vecindad  3818 non-null   object\n",
      " 5   cantidad_baños        3818 non-null   int64 \n",
      " 6   cantidad_cuartos      3818 non-null   int64 \n",
      " 7   cantidad_camas        3818 non-null   int64 \n",
      " 8   modelo_cama           3818 non-null   object\n",
      " 9   comodidades           3818 non-null   object\n",
      " 10  cuota_deposito        3818 non-null   object\n",
      " 11  cuota_limpieza        3818 non-null   object\n",
      " 12  precio                3818 non-null   object\n",
      "dtypes: int64(4), object(9)\n",
      "memory usage: 387.9+ KB\n"
     ]
    }
   ],
   "source": [
    "# identificar variables numericas enteras\n",
    "col_enteras = ['cantidad_baños', 'cantidad_cuartos', 'cantidad_camas']\n",
    "\n",
    "# cambiar el tipo de dato de varias variables al mismo tiempo\n",
    "datos[col_enteras] = datos[col_enteras].astype(np.int64)\n",
    "\n",
    "# verificar que los cambios han sido correctos\n",
    "datos.info()"
   ]
  },
  {
   "cell_type": "code",
   "execution_count": 66,
   "id": "107a36c3",
   "metadata": {},
   "outputs": [],
   "source": [
    "# convertir variable 'evaluacion_general' a flotante\n",
    "datos['evaluacion_general'] = datos['evaluacion_general'].astype(np.float64)"
   ]
  },
  {
   "cell_type": "markdown",
   "id": "c606f856",
   "metadata": {},
   "source": [
    "Vamos a convertir los valores de 'precio', que es de tipo string, a tipo numerico omitiendo el signo de dolar."
   ]
  },
  {
   "cell_type": "code",
   "execution_count": 67,
   "id": "5262d7cc",
   "metadata": {},
   "outputs": [
    {
     "data": {
      "text/plain": [
       "0       $110.00\n",
       "1        $45.00\n",
       "2        $55.00\n",
       "3        $52.00\n",
       "4        $85.00\n",
       "         ...   \n",
       "3813    $299.00\n",
       "3814    $199.00\n",
       "3815    $400.00\n",
       "3816    $250.00\n",
       "3817    $350.00\n",
       "Name: precio, Length: 3818, dtype: object"
      ]
     },
     "execution_count": 67,
     "metadata": {},
     "output_type": "execute_result"
    }
   ],
   "source": [
    "datos['precio']"
   ]
  },
  {
   "cell_type": "code",
   "execution_count": 68,
   "id": "50ae328d",
   "metadata": {},
   "outputs": [],
   "source": [
    "# aplicar funcion lambda que elimine el simbolo de dolar y comas a los valores  \n",
    "# quitar los espacios en blanco\n",
    "datos['precio'] = datos['precio'].apply(lambda x: x.replace('$','').replace(',','').strip())"
   ]
  },
  {
   "cell_type": "code",
   "execution_count": 69,
   "id": "37d54824",
   "metadata": {},
   "outputs": [
    {
     "data": {
      "text/plain": [
       "0    110.00\n",
       "1     45.00\n",
       "2     55.00\n",
       "3     52.00\n",
       "4     85.00\n",
       "Name: precio, dtype: object"
      ]
     },
     "execution_count": 69,
     "metadata": {},
     "output_type": "execute_result"
    }
   ],
   "source": [
    "# verificar que los cambios se han hecho\n",
    "datos['precio'][:5]"
   ]
  },
  {
   "cell_type": "code",
   "execution_count": 70,
   "id": "be9bf2d0",
   "metadata": {},
   "outputs": [
    {
     "name": "stdout",
     "output_type": "stream",
     "text": [
      "<class 'pandas.core.frame.DataFrame'>\n",
      "RangeIndex: 3818 entries, 0 to 3817\n",
      "Data columns (total 13 columns):\n",
      " #   Column                Non-Null Count  Dtype  \n",
      "---  ------                --------------  -----  \n",
      " 0   evaluacion_general    3162 non-null   float64\n",
      " 1   experiencia_local     3818 non-null   object \n",
      " 2   max_hospedes          3818 non-null   int64  \n",
      " 3   descripcion_local     3818 non-null   object \n",
      " 4   descripcion_vecindad  3818 non-null   object \n",
      " 5   cantidad_baños        3818 non-null   int64  \n",
      " 6   cantidad_cuartos      3818 non-null   int64  \n",
      " 7   cantidad_camas        3818 non-null   int64  \n",
      " 8   modelo_cama           3818 non-null   object \n",
      " 9   comodidades           3818 non-null   object \n",
      " 10  cuota_deposito        3818 non-null   object \n",
      " 11  cuota_limpieza        3818 non-null   object \n",
      " 12  precio                3818 non-null   float64\n",
      "dtypes: float64(2), int64(4), object(7)\n",
      "memory usage: 387.9+ KB\n"
     ]
    }
   ],
   "source": [
    "# cambiar el tipo de dato a float\n",
    "datos['precio'] = datos['precio'].astype(np.float64)\n",
    "\n",
    "# verificar cambio\n",
    "datos.info()"
   ]
  },
  {
   "cell_type": "markdown",
   "id": "5cda5d83",
   "metadata": {},
   "source": [
    "Vemos que las variables 'cuota_deposito' y 'cuota_limpieza' tambien requieren cambiar el tipo de dato a numerico. Vamos hacer estos cambios en las dos variables al mismo tiempo."
   ]
  },
  {
   "cell_type": "code",
   "execution_count": 71,
   "id": "927ee326",
   "metadata": {},
   "outputs": [
    {
     "data": {
      "text/html": [
       "<div>\n",
       "<style scoped>\n",
       "    .dataframe tbody tr th:only-of-type {\n",
       "        vertical-align: middle;\n",
       "    }\n",
       "\n",
       "    .dataframe tbody tr th {\n",
       "        vertical-align: top;\n",
       "    }\n",
       "\n",
       "    .dataframe thead th {\n",
       "        text-align: right;\n",
       "    }\n",
       "</style>\n",
       "<table border=\"1\" class=\"dataframe\">\n",
       "  <thead>\n",
       "    <tr style=\"text-align: right;\">\n",
       "      <th></th>\n",
       "      <th>cuota_deposito</th>\n",
       "      <th>cuota_limpieza</th>\n",
       "    </tr>\n",
       "  </thead>\n",
       "  <tbody>\n",
       "    <tr>\n",
       "      <th>0</th>\n",
       "      <td>$0</td>\n",
       "      <td>$0</td>\n",
       "    </tr>\n",
       "    <tr>\n",
       "      <th>1</th>\n",
       "      <td>$0</td>\n",
       "      <td>$0</td>\n",
       "    </tr>\n",
       "    <tr>\n",
       "      <th>2</th>\n",
       "      <td>$0</td>\n",
       "      <td>$0</td>\n",
       "    </tr>\n",
       "    <tr>\n",
       "      <th>3</th>\n",
       "      <td>$0</td>\n",
       "      <td>$20.00</td>\n",
       "    </tr>\n",
       "    <tr>\n",
       "      <th>4</th>\n",
       "      <td>$0</td>\n",
       "      <td>$15.00</td>\n",
       "    </tr>\n",
       "    <tr>\n",
       "      <th>...</th>\n",
       "      <td>...</td>\n",
       "      <td>...</td>\n",
       "    </tr>\n",
       "    <tr>\n",
       "      <th>3813</th>\n",
       "      <td>$1,000.00</td>\n",
       "      <td>$178.00</td>\n",
       "    </tr>\n",
       "    <tr>\n",
       "      <th>3814</th>\n",
       "      <td>$0</td>\n",
       "      <td>$99.00</td>\n",
       "    </tr>\n",
       "    <tr>\n",
       "      <th>3815</th>\n",
       "      <td>$0</td>\n",
       "      <td>$0</td>\n",
       "    </tr>\n",
       "    <tr>\n",
       "      <th>3816</th>\n",
       "      <td>$1,000.00</td>\n",
       "      <td>$150.00</td>\n",
       "    </tr>\n",
       "    <tr>\n",
       "      <th>3817</th>\n",
       "      <td>$500.00</td>\n",
       "      <td>$0</td>\n",
       "    </tr>\n",
       "  </tbody>\n",
       "</table>\n",
       "<p>3818 rows × 2 columns</p>\n",
       "</div>"
      ],
      "text/plain": [
       "     cuota_deposito cuota_limpieza\n",
       "0                $0             $0\n",
       "1                $0             $0\n",
       "2                $0             $0\n",
       "3                $0         $20.00\n",
       "4                $0         $15.00\n",
       "...             ...            ...\n",
       "3813      $1,000.00        $178.00\n",
       "3814             $0         $99.00\n",
       "3815             $0             $0\n",
       "3816      $1,000.00        $150.00\n",
       "3817        $500.00             $0\n",
       "\n",
       "[3818 rows x 2 columns]"
      ]
     },
     "execution_count": 71,
     "metadata": {},
     "output_type": "execute_result"
    }
   ],
   "source": [
    "datos[['cuota_deposito', 'cuota_limpieza']]"
   ]
  },
  {
   "cell_type": "code",
   "execution_count": 72,
   "id": "e6a41d81",
   "metadata": {},
   "outputs": [
    {
     "data": {
      "text/html": [
       "<div>\n",
       "<style scoped>\n",
       "    .dataframe tbody tr th:only-of-type {\n",
       "        vertical-align: middle;\n",
       "    }\n",
       "\n",
       "    .dataframe tbody tr th {\n",
       "        vertical-align: top;\n",
       "    }\n",
       "\n",
       "    .dataframe thead th {\n",
       "        text-align: right;\n",
       "    }\n",
       "</style>\n",
       "<table border=\"1\" class=\"dataframe\">\n",
       "  <thead>\n",
       "    <tr style=\"text-align: right;\">\n",
       "      <th></th>\n",
       "      <th>evaluacion_general</th>\n",
       "      <th>experiencia_local</th>\n",
       "      <th>max_hospedes</th>\n",
       "      <th>descripcion_local</th>\n",
       "      <th>descripcion_vecindad</th>\n",
       "      <th>cantidad_baños</th>\n",
       "      <th>cantidad_cuartos</th>\n",
       "      <th>cantidad_camas</th>\n",
       "      <th>modelo_cama</th>\n",
       "      <th>comodidades</th>\n",
       "      <th>cuota_deposito</th>\n",
       "      <th>cuota_limpieza</th>\n",
       "      <th>precio</th>\n",
       "    </tr>\n",
       "  </thead>\n",
       "  <tbody>\n",
       "    <tr>\n",
       "      <th>0</th>\n",
       "      <td>10.0</td>\n",
       "      <td>--</td>\n",
       "      <td>1</td>\n",
       "      <td>This clean and comfortable one bedroom sits ri...</td>\n",
       "      <td>Lower Queen Anne is near the Seattle Center (s...</td>\n",
       "      <td>1</td>\n",
       "      <td>1</td>\n",
       "      <td>1</td>\n",
       "      <td>Real Bed</td>\n",
       "      <td>{Internet,\"Wireless Internet\",Kitchen,\"Free Pa...</td>\n",
       "      <td>0</td>\n",
       "      <td>0</td>\n",
       "      <td>110.0</td>\n",
       "    </tr>\n",
       "    <tr>\n",
       "      <th>1</th>\n",
       "      <td>10.0</td>\n",
       "      <td>--</td>\n",
       "      <td>1</td>\n",
       "      <td>Our century old Upper Queen Anne house is loca...</td>\n",
       "      <td>Upper Queen Anne is a really pleasant, unique ...</td>\n",
       "      <td>1</td>\n",
       "      <td>1</td>\n",
       "      <td>1</td>\n",
       "      <td>Futon</td>\n",
       "      <td>{TV,Internet,\"Wireless Internet\",Kitchen,\"Free...</td>\n",
       "      <td>0</td>\n",
       "      <td>0</td>\n",
       "      <td>45.0</td>\n",
       "    </tr>\n",
       "    <tr>\n",
       "      <th>2</th>\n",
       "      <td>10.0</td>\n",
       "      <td>--</td>\n",
       "      <td>1</td>\n",
       "      <td>Cozy room in two-bedroom apartment along the l...</td>\n",
       "      <td>The convenience of being in Seattle but on the...</td>\n",
       "      <td>1</td>\n",
       "      <td>1</td>\n",
       "      <td>1</td>\n",
       "      <td>Futon</td>\n",
       "      <td>{TV,Internet,\"Wireless Internet\",Kitchen,\"Free...</td>\n",
       "      <td>0</td>\n",
       "      <td>0</td>\n",
       "      <td>55.0</td>\n",
       "    </tr>\n",
       "    <tr>\n",
       "      <th>3</th>\n",
       "      <td>10.0</td>\n",
       "      <td>--</td>\n",
       "      <td>1</td>\n",
       "      <td>Very lovely and cozy room for one. Convenientl...</td>\n",
       "      <td>Ballard is lovely, vibrant and one of the most...</td>\n",
       "      <td>1</td>\n",
       "      <td>1</td>\n",
       "      <td>1</td>\n",
       "      <td>Pull-out Sofa</td>\n",
       "      <td>{Internet,\"Wireless Internet\",Kitchen,\"Free Pa...</td>\n",
       "      <td>0</td>\n",
       "      <td>20.00</td>\n",
       "      <td>52.0</td>\n",
       "    </tr>\n",
       "    <tr>\n",
       "      <th>4</th>\n",
       "      <td>10.0</td>\n",
       "      <td>--</td>\n",
       "      <td>1</td>\n",
       "      <td>The “Studio at Mibbett Hollow' is in a Beautif...</td>\n",
       "      <td>--</td>\n",
       "      <td>1</td>\n",
       "      <td>1</td>\n",
       "      <td>1</td>\n",
       "      <td>Real Bed</td>\n",
       "      <td>{\"Wireless Internet\",Kitchen,\"Free Parking on ...</td>\n",
       "      <td>0</td>\n",
       "      <td>15.00</td>\n",
       "      <td>85.0</td>\n",
       "    </tr>\n",
       "  </tbody>\n",
       "</table>\n",
       "</div>"
      ],
      "text/plain": [
       "   evaluacion_general experiencia_local  max_hospedes  \\\n",
       "0                10.0                --             1   \n",
       "1                10.0                --             1   \n",
       "2                10.0                --             1   \n",
       "3                10.0                --             1   \n",
       "4                10.0                --             1   \n",
       "\n",
       "                                   descripcion_local  \\\n",
       "0  This clean and comfortable one bedroom sits ri...   \n",
       "1  Our century old Upper Queen Anne house is loca...   \n",
       "2  Cozy room in two-bedroom apartment along the l...   \n",
       "3  Very lovely and cozy room for one. Convenientl...   \n",
       "4  The “Studio at Mibbett Hollow' is in a Beautif...   \n",
       "\n",
       "                                descripcion_vecindad  cantidad_baños  \\\n",
       "0  Lower Queen Anne is near the Seattle Center (s...               1   \n",
       "1  Upper Queen Anne is a really pleasant, unique ...               1   \n",
       "2  The convenience of being in Seattle but on the...               1   \n",
       "3  Ballard is lovely, vibrant and one of the most...               1   \n",
       "4                                                 --               1   \n",
       "\n",
       "   cantidad_cuartos  cantidad_camas    modelo_cama  \\\n",
       "0                 1               1       Real Bed   \n",
       "1                 1               1          Futon   \n",
       "2                 1               1          Futon   \n",
       "3                 1               1  Pull-out Sofa   \n",
       "4                 1               1       Real Bed   \n",
       "\n",
       "                                         comodidades cuota_deposito  \\\n",
       "0  {Internet,\"Wireless Internet\",Kitchen,\"Free Pa...              0   \n",
       "1  {TV,Internet,\"Wireless Internet\",Kitchen,\"Free...              0   \n",
       "2  {TV,Internet,\"Wireless Internet\",Kitchen,\"Free...              0   \n",
       "3  {Internet,\"Wireless Internet\",Kitchen,\"Free Pa...              0   \n",
       "4  {\"Wireless Internet\",Kitchen,\"Free Parking on ...              0   \n",
       "\n",
       "  cuota_limpieza  precio  \n",
       "0              0   110.0  \n",
       "1              0    45.0  \n",
       "2              0    55.0  \n",
       "3          20.00    52.0  \n",
       "4          15.00    85.0  "
      ]
     },
     "execution_count": 72,
     "metadata": {},
     "output_type": "execute_result"
    }
   ],
   "source": [
    "# aplicar funcion lambda que elimine el simbolo de dolar y comas a los valores  \n",
    "# quitar los espacios en blanco\n",
    "datos[['cuota_deposito', 'cuota_limpieza']] = datos[['cuota_deposito', 'cuota_limpieza']].applymap(lambda x: x.replace('$','').replace(',','').strip())\n",
    "\n",
    "datos.head()"
   ]
  },
  {
   "cell_type": "code",
   "execution_count": 73,
   "id": "ea620bc4",
   "metadata": {},
   "outputs": [
    {
     "name": "stdout",
     "output_type": "stream",
     "text": [
      "<class 'pandas.core.frame.DataFrame'>\n",
      "RangeIndex: 3818 entries, 0 to 3817\n",
      "Data columns (total 13 columns):\n",
      " #   Column                Non-Null Count  Dtype  \n",
      "---  ------                --------------  -----  \n",
      " 0   evaluacion_general    3162 non-null   float64\n",
      " 1   experiencia_local     3818 non-null   object \n",
      " 2   max_hospedes          3818 non-null   int64  \n",
      " 3   descripcion_local     3818 non-null   object \n",
      " 4   descripcion_vecindad  3818 non-null   object \n",
      " 5   cantidad_baños        3818 non-null   int64  \n",
      " 6   cantidad_cuartos      3818 non-null   int64  \n",
      " 7   cantidad_camas        3818 non-null   int64  \n",
      " 8   modelo_cama           3818 non-null   object \n",
      " 9   comodidades           3818 non-null   object \n",
      " 10  cuota_deposito        3818 non-null   float64\n",
      " 11  cuota_limpieza        3818 non-null   float64\n",
      " 12  precio                3818 non-null   float64\n",
      "dtypes: float64(4), int64(4), object(5)\n",
      "memory usage: 387.9+ KB\n"
     ]
    }
   ],
   "source": [
    "# convertir tipo de dato a float\n",
    "datos[['cuota_deposito', 'cuota_limpieza']] = datos[['cuota_deposito', 'cuota_limpieza']].astype(np.float64)\n",
    "\n",
    "# verificar cambios\n",
    "datos.info()"
   ]
  },
  {
   "cell_type": "markdown",
   "id": "68d5cb72",
   "metadata": {},
   "source": [
    "## Tratamiento de datos de texto"
   ]
  },
  {
   "cell_type": "code",
   "execution_count": 74,
   "id": "d78375c2",
   "metadata": {},
   "outputs": [
    {
     "data": {
      "text/html": [
       "<div>\n",
       "<style scoped>\n",
       "    .dataframe tbody tr th:only-of-type {\n",
       "        vertical-align: middle;\n",
       "    }\n",
       "\n",
       "    .dataframe tbody tr th {\n",
       "        vertical-align: top;\n",
       "    }\n",
       "\n",
       "    .dataframe thead th {\n",
       "        text-align: right;\n",
       "    }\n",
       "</style>\n",
       "<table border=\"1\" class=\"dataframe\">\n",
       "  <thead>\n",
       "    <tr style=\"text-align: right;\">\n",
       "      <th></th>\n",
       "      <th>evaluacion_general</th>\n",
       "      <th>experiencia_local</th>\n",
       "      <th>max_hospedes</th>\n",
       "      <th>descripcion_local</th>\n",
       "      <th>descripcion_vecindad</th>\n",
       "      <th>cantidad_baños</th>\n",
       "      <th>cantidad_cuartos</th>\n",
       "      <th>cantidad_camas</th>\n",
       "      <th>modelo_cama</th>\n",
       "      <th>comodidades</th>\n",
       "      <th>cuota_deposito</th>\n",
       "      <th>cuota_limpieza</th>\n",
       "      <th>precio</th>\n",
       "    </tr>\n",
       "  </thead>\n",
       "  <tbody>\n",
       "    <tr>\n",
       "      <th>0</th>\n",
       "      <td>10.0</td>\n",
       "      <td>--</td>\n",
       "      <td>1</td>\n",
       "      <td>This clean and comfortable one bedroom sits ri...</td>\n",
       "      <td>Lower Queen Anne is near the Seattle Center (s...</td>\n",
       "      <td>1</td>\n",
       "      <td>1</td>\n",
       "      <td>1</td>\n",
       "      <td>Real Bed</td>\n",
       "      <td>{Internet,\"Wireless Internet\",Kitchen,\"Free Pa...</td>\n",
       "      <td>0.0</td>\n",
       "      <td>0.0</td>\n",
       "      <td>110.0</td>\n",
       "    </tr>\n",
       "    <tr>\n",
       "      <th>1</th>\n",
       "      <td>10.0</td>\n",
       "      <td>--</td>\n",
       "      <td>1</td>\n",
       "      <td>Our century old Upper Queen Anne house is loca...</td>\n",
       "      <td>Upper Queen Anne is a really pleasant, unique ...</td>\n",
       "      <td>1</td>\n",
       "      <td>1</td>\n",
       "      <td>1</td>\n",
       "      <td>Futon</td>\n",
       "      <td>{TV,Internet,\"Wireless Internet\",Kitchen,\"Free...</td>\n",
       "      <td>0.0</td>\n",
       "      <td>0.0</td>\n",
       "      <td>45.0</td>\n",
       "    </tr>\n",
       "    <tr>\n",
       "      <th>2</th>\n",
       "      <td>10.0</td>\n",
       "      <td>--</td>\n",
       "      <td>1</td>\n",
       "      <td>Cozy room in two-bedroom apartment along the l...</td>\n",
       "      <td>The convenience of being in Seattle but on the...</td>\n",
       "      <td>1</td>\n",
       "      <td>1</td>\n",
       "      <td>1</td>\n",
       "      <td>Futon</td>\n",
       "      <td>{TV,Internet,\"Wireless Internet\",Kitchen,\"Free...</td>\n",
       "      <td>0.0</td>\n",
       "      <td>0.0</td>\n",
       "      <td>55.0</td>\n",
       "    </tr>\n",
       "    <tr>\n",
       "      <th>3</th>\n",
       "      <td>10.0</td>\n",
       "      <td>--</td>\n",
       "      <td>1</td>\n",
       "      <td>Very lovely and cozy room for one. Convenientl...</td>\n",
       "      <td>Ballard is lovely, vibrant and one of the most...</td>\n",
       "      <td>1</td>\n",
       "      <td>1</td>\n",
       "      <td>1</td>\n",
       "      <td>Pull-out Sofa</td>\n",
       "      <td>{Internet,\"Wireless Internet\",Kitchen,\"Free Pa...</td>\n",
       "      <td>0.0</td>\n",
       "      <td>20.0</td>\n",
       "      <td>52.0</td>\n",
       "    </tr>\n",
       "    <tr>\n",
       "      <th>4</th>\n",
       "      <td>10.0</td>\n",
       "      <td>--</td>\n",
       "      <td>1</td>\n",
       "      <td>The “Studio at Mibbett Hollow' is in a Beautif...</td>\n",
       "      <td>--</td>\n",
       "      <td>1</td>\n",
       "      <td>1</td>\n",
       "      <td>1</td>\n",
       "      <td>Real Bed</td>\n",
       "      <td>{\"Wireless Internet\",Kitchen,\"Free Parking on ...</td>\n",
       "      <td>0.0</td>\n",
       "      <td>15.0</td>\n",
       "      <td>85.0</td>\n",
       "    </tr>\n",
       "  </tbody>\n",
       "</table>\n",
       "</div>"
      ],
      "text/plain": [
       "   evaluacion_general experiencia_local  max_hospedes  \\\n",
       "0                10.0                --             1   \n",
       "1                10.0                --             1   \n",
       "2                10.0                --             1   \n",
       "3                10.0                --             1   \n",
       "4                10.0                --             1   \n",
       "\n",
       "                                   descripcion_local  \\\n",
       "0  This clean and comfortable one bedroom sits ri...   \n",
       "1  Our century old Upper Queen Anne house is loca...   \n",
       "2  Cozy room in two-bedroom apartment along the l...   \n",
       "3  Very lovely and cozy room for one. Convenientl...   \n",
       "4  The “Studio at Mibbett Hollow' is in a Beautif...   \n",
       "\n",
       "                                descripcion_vecindad  cantidad_baños  \\\n",
       "0  Lower Queen Anne is near the Seattle Center (s...               1   \n",
       "1  Upper Queen Anne is a really pleasant, unique ...               1   \n",
       "2  The convenience of being in Seattle but on the...               1   \n",
       "3  Ballard is lovely, vibrant and one of the most...               1   \n",
       "4                                                 --               1   \n",
       "\n",
       "   cantidad_cuartos  cantidad_camas    modelo_cama  \\\n",
       "0                 1               1       Real Bed   \n",
       "1                 1               1          Futon   \n",
       "2                 1               1          Futon   \n",
       "3                 1               1  Pull-out Sofa   \n",
       "4                 1               1       Real Bed   \n",
       "\n",
       "                                         comodidades  cuota_deposito  \\\n",
       "0  {Internet,\"Wireless Internet\",Kitchen,\"Free Pa...             0.0   \n",
       "1  {TV,Internet,\"Wireless Internet\",Kitchen,\"Free...             0.0   \n",
       "2  {TV,Internet,\"Wireless Internet\",Kitchen,\"Free...             0.0   \n",
       "3  {Internet,\"Wireless Internet\",Kitchen,\"Free Pa...             0.0   \n",
       "4  {\"Wireless Internet\",Kitchen,\"Free Parking on ...             0.0   \n",
       "\n",
       "   cuota_limpieza  precio  \n",
       "0             0.0   110.0  \n",
       "1             0.0    45.0  \n",
       "2             0.0    55.0  \n",
       "3            20.0    52.0  \n",
       "4            15.0    85.0  "
      ]
     },
     "execution_count": 74,
     "metadata": {},
     "output_type": "execute_result"
    }
   ],
   "source": [
    "datos.head()"
   ]
  },
  {
   "cell_type": "code",
   "execution_count": 75,
   "id": "55f94814",
   "metadata": {},
   "outputs": [
    {
     "data": {
      "text/plain": [
       "0       This clean and comfortable one bedroom sits ri...\n",
       "1       Our century old Upper Queen Anne house is loca...\n",
       "2       Cozy room in two-bedroom apartment along the l...\n",
       "3       Very lovely and cozy room for one. Convenientl...\n",
       "4       The “Studio at Mibbett Hollow' is in a Beautif...\n",
       "                              ...                        \n",
       "3813    Beautiful craftsman home in the historic Wedgw...\n",
       "3814    Located in a very easily accessible area of Se...\n",
       "3815    This home is fully furnished and available wee...\n",
       "3816    This business-themed modern home features:  *H...\n",
       "3817    This welcoming home is in the quiet residentia...\n",
       "Name: descripcion_local, Length: 3818, dtype: object"
      ]
     },
     "execution_count": 75,
     "metadata": {},
     "output_type": "execute_result"
    }
   ],
   "source": [
    "# datos de la variable descripcion_local\n",
    "datos['descripcion_local']"
   ]
  },
  {
   "cell_type": "code",
   "execution_count": 76,
   "id": "f7eafc5d",
   "metadata": {},
   "outputs": [
    {
     "data": {
      "text/plain": [
       "0       this clean and comfortable one bedroom sits ri...\n",
       "1       our century old upper queen anne house is loca...\n",
       "2       cozy room in two-bedroom apartment along the l...\n",
       "3       very lovely and cozy room for one. convenientl...\n",
       "4       the “studio at mibbett hollow' is in a beautif...\n",
       "                              ...                        \n",
       "3813    beautiful craftsman home in the historic wedgw...\n",
       "3814    located in a very easily accessible area of se...\n",
       "3815    this home is fully furnished and available wee...\n",
       "3816    this business-themed modern home features:  *h...\n",
       "3817    this welcoming home is in the quiet residentia...\n",
       "Name: descripcion_local, Length: 3818, dtype: object"
      ]
     },
     "execution_count": 76,
     "metadata": {},
     "output_type": "execute_result"
    }
   ],
   "source": [
    "# convertir strings a minuscula\n",
    "datos['descripcion_local'] = datos['descripcion_local'].str.lower()\n",
    "\n",
    "datos['descripcion_local']"
   ]
  },
  {
   "cell_type": "markdown",
   "id": "cf09fc79",
   "metadata": {},
   "source": [
    "Ahora, procedemos a eliminar caracteres especiales de los texto utilizando expresiones regulares"
   ]
  },
  {
   "cell_type": "code",
   "execution_count": 77,
   "id": "e0d9af42",
   "metadata": {},
   "outputs": [
    {
     "data": {
      "text/plain": [
       "\"built, run and supported by seattle tech and start up veterans, grokhome's focus is to create a supportive environment for smart people working on interesting projects, start ups and more. this listing is an upper bunk, in a 2-person shared room. *note: this fall, there will be major renovations happening on one kitchen and bathroom at a time. there will always be two other working kitchens and two working bathrooms in the house. we'll work to minimize the impact these renovations have on your stay. **this listing is only available to those working in the tech/science space. live in a hacker house, and immerse yourself in the seattle tech scene. you can expect to be surrounded by smart people solving big problems or working on something fun. we have frequent demo nights, and love when our guests share something they are passionate about. if you're new to the city, our deep ties to the seattle tech scene can help you get involved. expand your network, develop your ideas, and learn somet\""
      ]
     },
     "execution_count": 77,
     "metadata": {},
     "output_type": "execute_result"
    }
   ],
   "source": [
    "# examinar un registro especifico\n",
    "datos['descripcion_local'][3169]"
   ]
  },
  {
   "cell_type": "code",
   "execution_count": 78,
   "id": "64385943",
   "metadata": {},
   "outputs": [
    {
     "data": {
      "text/plain": [
       "0       this clean and comfortable one bedroom sits ri...\n",
       "1       our century old upper queen anne house is loca...\n",
       "2       cozy room in two-bedroom apartment along the l...\n",
       "3       very lovely and cozy room for one  convenientl...\n",
       "4       the  studio at mibbett hollow' is in a beautif...\n",
       "                              ...                        \n",
       "3813    beautiful craftsman home in the historic wedgw...\n",
       "3814    located in a very easily accessible area of se...\n",
       "3815    this home is fully furnished and available wee...\n",
       "3816    this business-themed modern home features    h...\n",
       "3817    this welcoming home is in the quiet residentia...\n",
       "Name: descripcion_local, Length: 3818, dtype: object"
      ]
     },
     "execution_count": 78,
     "metadata": {},
     "output_type": "execute_result"
    }
   ],
   "source": [
    "# dejar solo letras minusculas, mayusculas, numeros, guion y comilla simple en el texto\n",
    "datos['descripcion_local'] = datos['descripcion_local'].str.replace('[^a-zA-Z0-9\\-\\']',' ',regex=True)\n",
    "datos['descripcion_local']"
   ]
  },
  {
   "cell_type": "code",
   "execution_count": 79,
   "id": "15537166",
   "metadata": {},
   "outputs": [
    {
     "data": {
      "text/plain": [
       "0       this clean and comfortable one bedroom sits ri...\n",
       "1       our century old upper queen anne house is loca...\n",
       "2       cozy room in two-bedroom apartment along the l...\n",
       "3       very lovely and cozy room for one  convenientl...\n",
       "4       the  studio at mibbett hollow' is in a beautif...\n",
       "                              ...                        \n",
       "3813    beautiful craftsman home in the historic wedgw...\n",
       "3814    located in a very easily accessible area of se...\n",
       "3815    this home is fully furnished and available wee...\n",
       "3816    this business-themed modern home features    h...\n",
       "3817    this welcoming home is in the quiet residentia...\n",
       "Name: descripcion_local, Length: 3818, dtype: object"
      ]
     },
     "execution_count": 79,
     "metadata": {},
     "output_type": "execute_result"
    }
   ],
   "source": [
    "# eliminar guion entre palabras: one - shot\n",
    "datos['descripcion_local'] = datos['descripcion_local'].str.replace('(?<!\\w)-(?!\\w)',' ',regex=True)\n",
    "datos['descripcion_local']"
   ]
  },
  {
   "cell_type": "markdown",
   "id": "69f0ef50",
   "metadata": {},
   "source": [
    "## Tokenizacion de las palabras"
   ]
  },
  {
   "cell_type": "markdown",
   "id": "6c4d939c",
   "metadata": {},
   "source": [
    "Consiste en dividir las frases en listas de palabras. Vamos a aplicarlo sobre las descripciones para luego, con un proceso de Machine Learning, identificar las palabras mas relevantes sobre el precio final."
   ]
  },
  {
   "cell_type": "code",
   "execution_count": 80,
   "id": "b0ff6da3",
   "metadata": {},
   "outputs": [
    {
     "data": {
      "text/plain": [
       "0       [this, clean, and, comfortable, one, bedroom, ...\n",
       "1       [our, century, old, upper, queen, anne, house,...\n",
       "2       [cozy, room, in, two-bedroom, apartment, along...\n",
       "3       [very, lovely, and, cozy, room, for, one, conv...\n",
       "4       [the, studio, at, mibbett, hollow', is, in, a,...\n",
       "                              ...                        \n",
       "3813    [beautiful, craftsman, home, in, the, historic...\n",
       "3814    [located, in, a, very, easily, accessible, are...\n",
       "3815    [this, home, is, fully, furnished, and, availa...\n",
       "3816    [this, business-themed, modern, home, features...\n",
       "3817    [this, welcoming, home, is, in, the, quiet, re...\n",
       "Name: descripcion_local, Length: 3818, dtype: object"
      ]
     },
     "execution_count": 80,
     "metadata": {},
     "output_type": "execute_result"
    }
   ],
   "source": [
    "datos['descripcion_local'] = datos['descripcion_local'].str.split()\n",
    "datos['descripcion_local']"
   ]
  },
  {
   "cell_type": "markdown",
   "id": "2f987f9e",
   "metadata": {},
   "source": [
    "La variable 'comodidades' presenta una agrupacion de palabras dentro de un diccionario. Vamos a usar regex para eliminar las llaves y caracteres especiales y de esta forma, tener la informacion mejor estructurada"
   ]
  },
  {
   "cell_type": "code",
   "execution_count": 81,
   "id": "976e5be3",
   "metadata": {},
   "outputs": [
    {
     "data": {
      "text/plain": [
       "0       Internet,Wireless Internet,Kitchen,Free Parkin...\n",
       "1       TV,Internet,Wireless Internet,Kitchen,Free Par...\n",
       "2       TV,Internet,Wireless Internet,Kitchen,Free Par...\n",
       "3       Internet,Wireless Internet,Kitchen,Free Parkin...\n",
       "4       Wireless Internet,Kitchen,Free Parking on Prem...\n",
       "                              ...                        \n",
       "3813    TV,Cable TV,Internet,Wireless Internet,Air Con...\n",
       "3814    TV,Cable TV,Internet,Wireless Internet,Kitchen...\n",
       "3815    TV,Cable TV,Internet,Wireless Internet,Air Con...\n",
       "3816    TV,Cable TV,Internet,Wireless Internet,Air Con...\n",
       "3817    TV,Internet,Wireless Internet,Kitchen,Free Par...\n",
       "Name: comodidades, Length: 3818, dtype: object"
      ]
     },
     "execution_count": 81,
     "metadata": {},
     "output_type": "execute_result"
    }
   ],
   "source": [
    "datos['comodidades'] = datos['comodidades'].str.replace('\\{|}|\\\"','', regex=True)\n",
    "datos['comodidades']"
   ]
  },
  {
   "cell_type": "markdown",
   "id": "a606dc14",
   "metadata": {},
   "source": [
    "Ahora, volvamos listas cada valor de 'comodidades' para crear la estructura de tokenizacion"
   ]
  },
  {
   "cell_type": "code",
   "execution_count": 82,
   "id": "02adf033",
   "metadata": {},
   "outputs": [
    {
     "data": {
      "text/plain": [
       "0       [Internet, Wireless Internet, Kitchen, Free Pa...\n",
       "1       [TV, Internet, Wireless Internet, Kitchen, Fre...\n",
       "2       [TV, Internet, Wireless Internet, Kitchen, Fre...\n",
       "3       [Internet, Wireless Internet, Kitchen, Free Pa...\n",
       "4       [Wireless Internet, Kitchen, Free Parking on P...\n",
       "                              ...                        \n",
       "3813    [TV, Cable TV, Internet, Wireless Internet, Ai...\n",
       "3814    [TV, Cable TV, Internet, Wireless Internet, Ki...\n",
       "3815    [TV, Cable TV, Internet, Wireless Internet, Ai...\n",
       "3816    [TV, Cable TV, Internet, Wireless Internet, Ai...\n",
       "3817    [TV, Internet, Wireless Internet, Kitchen, Fre...\n",
       "Name: comodidades, Length: 3818, dtype: object"
      ]
     },
     "execution_count": 82,
     "metadata": {},
     "output_type": "execute_result"
    }
   ],
   "source": [
    "datos['comodidades'] = datos['comodidades'].str.split(',')\n",
    "datos['comodidades']"
   ]
  },
  {
   "cell_type": "markdown",
   "id": "58c03717",
   "metadata": {},
   "source": [
    "## Respondiendo preguntas de negocio"
   ]
  },
  {
   "cell_type": "markdown",
   "id": "6cba108d",
   "metadata": {},
   "source": [
    "### __Cual es el rango de precios que se cobra por dia?__"
   ]
  },
  {
   "cell_type": "code",
   "execution_count": 83,
   "id": "46831fdd",
   "metadata": {},
   "outputs": [
    {
     "data": {
      "text/plain": [
       "min         20.000000\n",
       "max       1000.000000\n",
       "mean       127.976166\n",
       "median     100.000000\n",
       "Name: precio, dtype: float64"
      ]
     },
     "execution_count": 83,
     "metadata": {},
     "output_type": "execute_result"
    }
   ],
   "source": [
    "rango_precio = datos['precio'].agg(['min', 'max', 'mean', 'median'])\n",
    "rango_precio"
   ]
  },
  {
   "cell_type": "markdown",
   "id": "8921ea24",
   "metadata": {},
   "source": [
    "> La mayoria de alojamientos cobran cerca de 100$ por lo que es un buen punto de referencia competitivo.\n",
    "\n",
    "> El promedio es mas alto que la mediana (128 > 100) lo que sugiere la presencia de algunos alojamientos con precios muy altos. El valor maximo indica la presencia de un valor atipico de 1000$\n",
    "\n",
    "> Para cobrar mas de 100$ debe ofrecer mas valor para justificarlo: ubicacion, comodidades destacadas, buena puntuacion, entre otros.\n",
    "\n",
    "> Cobrar por debajo de 100$ puede ser estrategico en ciertas temporadas o si estas empezando el negocio. Esto ayudaria a ganar evaluaciones positivas.\n",
    "\n",
    "> El precio minimo es de 20$, valor muy bajo respecto a la media lo que podria dar mala imagen o generar perdidas.\n",
    "\n"
   ]
  },
  {
   "cell_type": "markdown",
   "id": "79113907",
   "metadata": {},
   "source": [
    "### __¿Qué relación hay entre el precio y la evaluación general?__"
   ]
  },
  {
   "cell_type": "code",
   "execution_count": 84,
   "id": "e757527c",
   "metadata": {},
   "outputs": [
    {
     "data": {
      "text/plain": [
       "array([10.,  2.,  4.,  5.,  6.,  7.,  8.,  9., nan])"
      ]
     },
     "execution_count": 84,
     "metadata": {},
     "output_type": "execute_result"
    }
   ],
   "source": [
    "datos['evaluacion_general'].unique()"
   ]
  },
  {
   "cell_type": "code",
   "execution_count": 85,
   "id": "e8867ea1",
   "metadata": {},
   "outputs": [
    {
     "data": {
      "text/html": [
       "<div>\n",
       "<style scoped>\n",
       "    .dataframe tbody tr th:only-of-type {\n",
       "        vertical-align: middle;\n",
       "    }\n",
       "\n",
       "    .dataframe tbody tr th {\n",
       "        vertical-align: top;\n",
       "    }\n",
       "\n",
       "    .dataframe thead th {\n",
       "        text-align: right;\n",
       "    }\n",
       "</style>\n",
       "<table border=\"1\" class=\"dataframe\">\n",
       "  <thead>\n",
       "    <tr style=\"text-align: right;\">\n",
       "      <th></th>\n",
       "      <th>precio</th>\n",
       "      <th>evaluacion_general</th>\n",
       "    </tr>\n",
       "  </thead>\n",
       "  <tbody>\n",
       "    <tr>\n",
       "      <th>count</th>\n",
       "      <td>3818.000000</td>\n",
       "      <td>3162.000000</td>\n",
       "    </tr>\n",
       "    <tr>\n",
       "      <th>mean</th>\n",
       "      <td>127.976166</td>\n",
       "      <td>9.452245</td>\n",
       "    </tr>\n",
       "    <tr>\n",
       "      <th>std</th>\n",
       "      <td>90.250022</td>\n",
       "      <td>0.750259</td>\n",
       "    </tr>\n",
       "    <tr>\n",
       "      <th>min</th>\n",
       "      <td>20.000000</td>\n",
       "      <td>2.000000</td>\n",
       "    </tr>\n",
       "    <tr>\n",
       "      <th>25%</th>\n",
       "      <td>75.000000</td>\n",
       "      <td>9.000000</td>\n",
       "    </tr>\n",
       "    <tr>\n",
       "      <th>50%</th>\n",
       "      <td>100.000000</td>\n",
       "      <td>10.000000</td>\n",
       "    </tr>\n",
       "    <tr>\n",
       "      <th>75%</th>\n",
       "      <td>150.000000</td>\n",
       "      <td>10.000000</td>\n",
       "    </tr>\n",
       "    <tr>\n",
       "      <th>max</th>\n",
       "      <td>1000.000000</td>\n",
       "      <td>10.000000</td>\n",
       "    </tr>\n",
       "  </tbody>\n",
       "</table>\n",
       "</div>"
      ],
      "text/plain": [
       "            precio  evaluacion_general\n",
       "count  3818.000000         3162.000000\n",
       "mean    127.976166            9.452245\n",
       "std      90.250022            0.750259\n",
       "min      20.000000            2.000000\n",
       "25%      75.000000            9.000000\n",
       "50%     100.000000           10.000000\n",
       "75%     150.000000           10.000000\n",
       "max    1000.000000           10.000000"
      ]
     },
     "execution_count": 85,
     "metadata": {},
     "output_type": "execute_result"
    }
   ],
   "source": [
    "# Veamos la estadistica descriptiva de ambas variables\n",
    "datos[['precio', 'evaluacion_general']].describe()"
   ]
  },
  {
   "cell_type": "code",
   "execution_count": 86,
   "id": "12550c10",
   "metadata": {},
   "outputs": [
    {
     "data": {
      "image/png": "[encoded data removed]",
      "text/plain": [
       "<Figure size 576x360 with 1 Axes>"
      ]
     },
     "metadata": {
      "needs_background": "light"
     },
     "output_type": "display_data"
    }
   ],
   "source": [
    "# librerias de visualizacion\n",
    "import matplotlib.pyplot as plt\n",
    "import seaborn as sns\n",
    "\n",
    "# grafico de dispersion entre ambas variables\n",
    "plt.figure(figsize=(8,5))\n",
    "sns.scatterplot(data=datos, x='evaluacion_general', y='precio')\n",
    "plt.title('Relacion entre la Evaluacion General y el Precio')\n",
    "plt.xlabel('Evaluacion General')\n",
    "plt.ylabel('Precio')\n",
    "plt.show()"
   ]
  },
  {
   "cell_type": "markdown",
   "id": "e82812da",
   "metadata": {},
   "source": [
    "## Datos de tiempo"
   ]
  },
  {
   "cell_type": "markdown",
   "id": "749bf56c",
   "metadata": {},
   "source": [
    "Tenemos una base de datos adicional que contiene los lugares disponibles en varios inmuebles de alojamiento durante el ano 2016."
   ]
  },
  {
   "cell_type": "code",
   "execution_count": 87,
   "id": "b9779876",
   "metadata": {},
   "outputs": [
    {
     "data": {
      "text/html": [
       "<div>\n",
       "<style scoped>\n",
       "    .dataframe tbody tr th:only-of-type {\n",
       "        vertical-align: middle;\n",
       "    }\n",
       "\n",
       "    .dataframe tbody tr th {\n",
       "        vertical-align: top;\n",
       "    }\n",
       "\n",
       "    .dataframe thead th {\n",
       "        text-align: right;\n",
       "    }\n",
       "</style>\n",
       "<table border=\"1\" class=\"dataframe\">\n",
       "  <thead>\n",
       "    <tr style=\"text-align: right;\">\n",
       "      <th></th>\n",
       "      <th>id</th>\n",
       "      <th>fecha</th>\n",
       "      <th>lugar_disponible</th>\n",
       "      <th>precio</th>\n",
       "    </tr>\n",
       "  </thead>\n",
       "  <tbody>\n",
       "    <tr>\n",
       "      <th>0</th>\n",
       "      <td>857</td>\n",
       "      <td>2016-01-04</td>\n",
       "      <td>False</td>\n",
       "      <td>None</td>\n",
       "    </tr>\n",
       "    <tr>\n",
       "      <th>1</th>\n",
       "      <td>857</td>\n",
       "      <td>2016-01-05</td>\n",
       "      <td>False</td>\n",
       "      <td>None</td>\n",
       "    </tr>\n",
       "    <tr>\n",
       "      <th>2</th>\n",
       "      <td>857</td>\n",
       "      <td>2016-01-06</td>\n",
       "      <td>False</td>\n",
       "      <td>None</td>\n",
       "    </tr>\n",
       "    <tr>\n",
       "      <th>3</th>\n",
       "      <td>857</td>\n",
       "      <td>2016-01-07</td>\n",
       "      <td>False</td>\n",
       "      <td>None</td>\n",
       "    </tr>\n",
       "    <tr>\n",
       "      <th>4</th>\n",
       "      <td>857</td>\n",
       "      <td>2016-01-08</td>\n",
       "      <td>False</td>\n",
       "      <td>None</td>\n",
       "    </tr>\n",
       "  </tbody>\n",
       "</table>\n",
       "</div>"
      ],
      "text/plain": [
       "    id       fecha  lugar_disponible precio\n",
       "0  857  2016-01-04             False   None\n",
       "1  857  2016-01-05             False   None\n",
       "2  857  2016-01-06             False   None\n",
       "3  857  2016-01-07             False   None\n",
       "4  857  2016-01-08             False   None"
      ]
     },
     "execution_count": 87,
     "metadata": {},
     "output_type": "execute_result"
    }
   ],
   "source": [
    "dt_data = pd.read_json('./data_in/inmuebles_disponibles.json')\n",
    "dt_data.head()"
   ]
  },
  {
   "cell_type": "code",
   "execution_count": 88,
   "id": "4b41b366",
   "metadata": {},
   "outputs": [
    {
     "name": "stdout",
     "output_type": "stream",
     "text": [
      "<class 'pandas.core.frame.DataFrame'>\n",
      "Int64Index: 365000 entries, 0 to 364999\n",
      "Data columns (total 4 columns):\n",
      " #   Column            Non-Null Count   Dtype \n",
      "---  ------            --------------   ----- \n",
      " 0   id                365000 non-null  int64 \n",
      " 1   fecha             365000 non-null  object\n",
      " 2   lugar_disponible  365000 non-null  bool  \n",
      " 3   precio            270547 non-null  object\n",
      "dtypes: bool(1), int64(1), object(2)\n",
      "memory usage: 11.5+ MB\n"
     ]
    }
   ],
   "source": [
    "# tipo de datos del dataframe\n",
    "dt_data.info()"
   ]
  },
  {
   "cell_type": "markdown",
   "id": "3cce84ad",
   "metadata": {},
   "source": [
    "> La variable 'precio' presenta valores faltantes.\n",
    "\n",
    "> La variable 'fecha' no se encuentra en el formato correcto, por lo que debemos modificarlo."
   ]
  },
  {
   "cell_type": "code",
   "execution_count": 89,
   "id": "204ba9bf",
   "metadata": {},
   "outputs": [
    {
     "name": "stdout",
     "output_type": "stream",
     "text": [
      "<class 'pandas.core.frame.DataFrame'>\n",
      "Int64Index: 365000 entries, 0 to 364999\n",
      "Data columns (total 4 columns):\n",
      " #   Column            Non-Null Count   Dtype         \n",
      "---  ------            --------------   -----         \n",
      " 0   id                365000 non-null  int64         \n",
      " 1   fecha             365000 non-null  datetime64[ns]\n",
      " 2   lugar_disponible  365000 non-null  bool          \n",
      " 3   precio            270547 non-null  object        \n",
      "dtypes: bool(1), datetime64[ns](1), int64(1), object(1)\n",
      "memory usage: 11.5+ MB\n"
     ]
    }
   ],
   "source": [
    "# convertir variable fecha a tipo datetime64\n",
    "dt_data['fecha'] = pd.to_datetime(dt_data['fecha'])\n",
    "dt_data.info()"
   ]
  },
  {
   "cell_type": "markdown",
   "id": "e3af8fd9",
   "metadata": {},
   "source": [
    "## Respondiendo preguntas de negocio"
   ]
  },
  {
   "cell_type": "markdown",
   "id": "f61d7ef6",
   "metadata": {},
   "source": [
    "### __1. Cuantos lugares disponibles habian por mes?__"
   ]
  },
  {
   "cell_type": "code",
   "execution_count": 90,
   "id": "cef6ad03",
   "metadata": {},
   "outputs": [
    {
     "data": {
      "text/html": [
       "<div>\n",
       "<style scoped>\n",
       "    .dataframe tbody tr th:only-of-type {\n",
       "        vertical-align: middle;\n",
       "    }\n",
       "\n",
       "    .dataframe tbody tr th {\n",
       "        vertical-align: top;\n",
       "    }\n",
       "\n",
       "    .dataframe thead th {\n",
       "        text-align: right;\n",
       "    }\n",
       "</style>\n",
       "<table border=\"1\" class=\"dataframe\">\n",
       "  <thead>\n",
       "    <tr style=\"text-align: right;\">\n",
       "      <th></th>\n",
       "      <th>id</th>\n",
       "      <th>fecha</th>\n",
       "      <th>lugar_disponible</th>\n",
       "      <th>precio</th>\n",
       "    </tr>\n",
       "  </thead>\n",
       "  <tbody>\n",
       "    <tr>\n",
       "      <th>0</th>\n",
       "      <td>857</td>\n",
       "      <td>2016-01-04</td>\n",
       "      <td>False</td>\n",
       "      <td>None</td>\n",
       "    </tr>\n",
       "    <tr>\n",
       "      <th>1</th>\n",
       "      <td>857</td>\n",
       "      <td>2016-01-05</td>\n",
       "      <td>False</td>\n",
       "      <td>None</td>\n",
       "    </tr>\n",
       "    <tr>\n",
       "      <th>2</th>\n",
       "      <td>857</td>\n",
       "      <td>2016-01-06</td>\n",
       "      <td>False</td>\n",
       "      <td>None</td>\n",
       "    </tr>\n",
       "    <tr>\n",
       "      <th>3</th>\n",
       "      <td>857</td>\n",
       "      <td>2016-01-07</td>\n",
       "      <td>False</td>\n",
       "      <td>None</td>\n",
       "    </tr>\n",
       "    <tr>\n",
       "      <th>4</th>\n",
       "      <td>857</td>\n",
       "      <td>2016-01-08</td>\n",
       "      <td>False</td>\n",
       "      <td>None</td>\n",
       "    </tr>\n",
       "  </tbody>\n",
       "</table>\n",
       "</div>"
      ],
      "text/plain": [
       "    id      fecha  lugar_disponible precio\n",
       "0  857 2016-01-04             False   None\n",
       "1  857 2016-01-05             False   None\n",
       "2  857 2016-01-06             False   None\n",
       "3  857 2016-01-07             False   None\n",
       "4  857 2016-01-08             False   None"
      ]
     },
     "execution_count": 90,
     "metadata": {},
     "output_type": "execute_result"
    }
   ],
   "source": [
    "# mostrar primeros 5 registros\n",
    "dt_data.head()"
   ]
  },
  {
   "cell_type": "code",
   "execution_count": 91,
   "id": "e696fc49",
   "metadata": {},
   "outputs": [
    {
     "data": {
      "text/plain": [
       "0         2016-01\n",
       "1         2016-01\n",
       "2         2016-01\n",
       "3         2016-01\n",
       "4         2016-01\n",
       "           ...   \n",
       "364995    2016-12\n",
       "364996    2016-12\n",
       "364997    2016-12\n",
       "364998    2017-01\n",
       "364999    2017-01\n",
       "Name: fecha, Length: 365000, dtype: object"
      ]
     },
     "execution_count": 91,
     "metadata": {},
     "output_type": "execute_result"
    }
   ],
   "source": [
    "# convertir formato de fecha a ano-mes\n",
    "dt_data['fecha'].dt.strftime('%Y-%m')"
   ]
  },
  {
   "cell_type": "code",
   "execution_count": 92,
   "id": "7c8233da",
   "metadata": {},
   "outputs": [
    {
     "data": {
      "text/plain": [
       "fecha\n",
       "2016-01    16543\n",
       "2016-02    20128\n",
       "2016-03    23357\n",
       "2016-04    22597\n",
       "2016-05    23842\n",
       "2016-06    23651\n",
       "2016-07    22329\n",
       "2016-08    22529\n",
       "2016-09    22471\n",
       "2016-10    23765\n",
       "2016-11    23352\n",
       "2016-12    24409\n",
       "2017-01     1574\n",
       "Name: lugar_disponible, dtype: int64"
      ]
     },
     "execution_count": 92,
     "metadata": {},
     "output_type": "execute_result"
    }
   ],
   "source": [
    "subset = dt_data.groupby(dt_data['fecha'].dt.strftime('%Y-%m'))['lugar_disponible'].sum()\n",
    "subset"
   ]
  }
 ],
 "metadata": {
  "kernelspec": {
   "display_name": "data",
   "language": "python",
   "name": "python3"
  },
  "language_info": {
   "codemirror_mode": {
    "name": "ipython",
    "version": 3
   },
   "file_extension": ".py",
   "mimetype": "text/x-python",
   "name": "python",
   "nbconvert_exporter": "python",
   "pygments_lexer": "ipython3",
   "version": "3.10.8"
  }
 },
 "nbformat": 4,
 "nbformat_minor": 5
}
