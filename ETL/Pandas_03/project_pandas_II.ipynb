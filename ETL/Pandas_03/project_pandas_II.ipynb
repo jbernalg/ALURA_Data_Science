{
 "cells": [
  {
   "cell_type": "markdown",
   "id": "ea834ad0",
   "metadata": {},
   "source": [
    "# __Analisis de alquileres de propiedades a corto plazo__"
   ]
  },
  {
   "cell_type": "markdown",
   "id": "ed34aab5",
   "metadata": {},
   "source": [
    "## Entendiendo el problema"
   ]
  },
  {
   "cell_type": "markdown",
   "id": "09f4cc92",
   "metadata": {},
   "source": [
    "Se trata de un algoritmo capaz de analizar las caracteristicas de una propiedad como comodidades, tamano, ocupacion del espacio en un periodo determinado y sugerir al anfrition un precio a cobrar por tarifas diarias que garantice ganancias en momentos de alta demanda."
   ]
  },
  {
   "cell_type": "markdown",
   "id": "d3ad2dd1",
   "metadata": {},
   "source": [
    "## Importar librerias"
   ]
  },
  {
   "cell_type": "code",
   "execution_count": 1,
   "id": "260764c9",
   "metadata": {},
   "outputs": [],
   "source": [
    "import pandas as pd"
   ]
  },
  {
   "cell_type": "markdown",
   "id": "8a4a73f2",
   "metadata": {},
   "source": [
    "## Cargar datos"
   ]
  },
  {
   "cell_type": "code",
   "execution_count": 3,
   "id": "77fed6ea",
   "metadata": {},
   "outputs": [
    {
     "data": {
      "text/html": [
       "<div>\n",
       "<style scoped>\n",
       "    .dataframe tbody tr th:only-of-type {\n",
       "        vertical-align: middle;\n",
       "    }\n",
       "\n",
       "    .dataframe tbody tr th {\n",
       "        vertical-align: top;\n",
       "    }\n",
       "\n",
       "    .dataframe thead th {\n",
       "        text-align: right;\n",
       "    }\n",
       "</style>\n",
       "<table border=\"1\" class=\"dataframe\">\n",
       "  <thead>\n",
       "    <tr style=\"text-align: right;\">\n",
       "      <th></th>\n",
       "      <th>info_inmuebles</th>\n",
       "    </tr>\n",
       "  </thead>\n",
       "  <tbody>\n",
       "    <tr>\n",
       "      <th>0</th>\n",
       "      <td>{'evaluacion_general': '10.0', 'experiencia_lo...</td>\n",
       "    </tr>\n",
       "    <tr>\n",
       "      <th>1</th>\n",
       "      <td>{'evaluacion_general': '10.0', 'experiencia_lo...</td>\n",
       "    </tr>\n",
       "    <tr>\n",
       "      <th>2</th>\n",
       "      <td>{'evaluacion_general': '10.0', 'experiencia_lo...</td>\n",
       "    </tr>\n",
       "    <tr>\n",
       "      <th>3</th>\n",
       "      <td>{'evaluacion_general': '10.0', 'experiencia_lo...</td>\n",
       "    </tr>\n",
       "    <tr>\n",
       "      <th>4</th>\n",
       "      <td>{'evaluacion_general': '10.0', 'experiencia_lo...</td>\n",
       "    </tr>\n",
       "  </tbody>\n",
       "</table>\n",
       "</div>"
      ],
      "text/plain": [
       "                                      info_inmuebles\n",
       "0  {'evaluacion_general': '10.0', 'experiencia_lo...\n",
       "1  {'evaluacion_general': '10.0', 'experiencia_lo...\n",
       "2  {'evaluacion_general': '10.0', 'experiencia_lo...\n",
       "3  {'evaluacion_general': '10.0', 'experiencia_lo...\n",
       "4  {'evaluacion_general': '10.0', 'experiencia_lo..."
      ]
     },
     "execution_count": 3,
     "metadata": {},
     "output_type": "execute_result"
    }
   ],
   "source": [
    "df = pd.read_json('./data_in/datos_hosting.json')\n",
    "df.head()"
   ]
  }
 ],
 "metadata": {
  "kernelspec": {
   "display_name": "data",
   "language": "python",
   "name": "python3"
  },
  "language_info": {
   "codemirror_mode": {
    "name": "ipython",
    "version": 3
   },
   "file_extension": ".py",
   "mimetype": "text/x-python",
   "name": "python",
   "nbconvert_exporter": "python",
   "pygments_lexer": "ipython3",
   "version": "3.10.8"
  }
 },
 "nbformat": 4,
 "nbformat_minor": 5
}
